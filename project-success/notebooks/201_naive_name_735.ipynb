{
 "cells": [
  {
   "cell_type": "code",
   "execution_count": 1,
   "metadata": {
    "_cell_guid": "e745fcf5-76e3-4212-b4fa-e4c21d99950c",
    "_uuid": "b1175ab70d7aefd02896acfa62c64d82c598473b",
    "collapsed": true
   },
   "outputs": [],
   "source": [
    "import pandas as pd   # manipulacao de dados do CSV\n",
    "import numpy as np    # algebra linear e calculos em geral"
   ]
  },
  {
   "cell_type": "markdown",
   "metadata": {
    "_cell_guid": "dc55762d-fd78-4ac7-bc5f-a57678aa70c0",
    "_uuid": "1e5707181dbdfacfeb1f7ac2a9a448771c2dee8e"
   },
   "source": [
    "Nosso próximo passo é carregar os arquivos usando pandas."
   ]
  },
  {
   "cell_type": "code",
   "execution_count": 2,
   "metadata": {
    "_cell_guid": "551bb24f-5f1a-44d1-859d-a975a9504a41",
    "_uuid": "fd28d1b11b7d342c983223cb185c4b3ba0d4b505",
    "collapsed": true
   },
   "outputs": [],
   "source": [
    "train_df = pd.read_csv('../input/train.csv')\n",
    "test_df = pd.read_csv('../input/test.csv')\n",
    "submission_df = pd.read_csv('../input/sample_submission.csv')"
   ]
  },
  {
   "cell_type": "markdown",
   "metadata": {
    "_cell_guid": "e1401975-56fe-4d10-8905-e597bdad113d",
    "_uuid": "612a153ccf259e3c43732649c5cf56067be74228"
   },
   "source": [
    "Vamos dar uma olhada nesses arquivos? O primeiro ponto importante é sabermos que tipo de informação nós temos."
   ]
  },
  {
   "cell_type": "code",
   "execution_count": 3,
   "metadata": {
    "collapsed": true
   },
   "outputs": [],
   "source": [
    "train_df['name'] = train_df['name'].fillna('')\n",
    "test_df['name'] = test_df['name'].fillna('')"
   ]
  },
  {
   "cell_type": "code",
   "execution_count": 4,
   "metadata": {
    "_cell_guid": "1731d23b-67f1-48da-b3de-e76b3c2554f3",
    "_uuid": "4d919e353f457fc41b64f8240c9bbbc289a85fab"
   },
   "outputs": [
    {
     "data": {
      "text/html": [
       "<div>\n",
       "<style>\n",
       "    .dataframe thead tr:only-child th {\n",
       "        text-align: right;\n",
       "    }\n",
       "\n",
       "    .dataframe thead th {\n",
       "        text-align: left;\n",
       "    }\n",
       "\n",
       "    .dataframe tbody tr th {\n",
       "        vertical-align: top;\n",
       "    }\n",
       "</style>\n",
       "<table border=\"1\" class=\"dataframe\">\n",
       "  <thead>\n",
       "    <tr style=\"text-align: right;\">\n",
       "      <th></th>\n",
       "      <th>project_id</th>\n",
       "      <th>name</th>\n",
       "      <th>desc</th>\n",
       "      <th>goal</th>\n",
       "      <th>keywords</th>\n",
       "      <th>disable_communication</th>\n",
       "      <th>country</th>\n",
       "      <th>currency</th>\n",
       "      <th>deadline</th>\n",
       "      <th>state_changed_at</th>\n",
       "      <th>created_at</th>\n",
       "      <th>launched_at</th>\n",
       "      <th>backers_count</th>\n",
       "      <th>final_status</th>\n",
       "    </tr>\n",
       "  </thead>\n",
       "  <tbody>\n",
       "    <tr>\n",
       "      <th>0</th>\n",
       "      <td>kkst1451568084</td>\n",
       "      <td>drawing for dollars</td>\n",
       "      <td>I like drawing pictures. and then i color them...</td>\n",
       "      <td>20.0</td>\n",
       "      <td>drawing-for-dollars</td>\n",
       "      <td>False</td>\n",
       "      <td>US</td>\n",
       "      <td>USD</td>\n",
       "      <td>1241333999</td>\n",
       "      <td>1241334017</td>\n",
       "      <td>1240600507</td>\n",
       "      <td>1240602723</td>\n",
       "      <td>3</td>\n",
       "      <td>1</td>\n",
       "    </tr>\n",
       "    <tr>\n",
       "      <th>1</th>\n",
       "      <td>kkst1474482071</td>\n",
       "      <td>Sponsor Dereck Blackburn (Lostwars) Artist in ...</td>\n",
       "      <td>I, Dereck Blackburn will be taking upon an inc...</td>\n",
       "      <td>300.0</td>\n",
       "      <td>sponsor-dereck-blackburn-lostwars-artist-in-re...</td>\n",
       "      <td>False</td>\n",
       "      <td>US</td>\n",
       "      <td>USD</td>\n",
       "      <td>1242429000</td>\n",
       "      <td>1242432018</td>\n",
       "      <td>1240960224</td>\n",
       "      <td>1240975592</td>\n",
       "      <td>2</td>\n",
       "      <td>0</td>\n",
       "    </tr>\n",
       "    <tr>\n",
       "      <th>2</th>\n",
       "      <td>kkst183622197</td>\n",
       "      <td>Mr. Squiggles</td>\n",
       "      <td>So I saw darkpony's successfully funded drawin...</td>\n",
       "      <td>30.0</td>\n",
       "      <td>mr-squiggles</td>\n",
       "      <td>False</td>\n",
       "      <td>US</td>\n",
       "      <td>USD</td>\n",
       "      <td>1243027560</td>\n",
       "      <td>1243027818</td>\n",
       "      <td>1242163613</td>\n",
       "      <td>1242164398</td>\n",
       "      <td>0</td>\n",
       "      <td>0</td>\n",
       "    </tr>\n",
       "    <tr>\n",
       "      <th>3</th>\n",
       "      <td>kkst597742710</td>\n",
       "      <td>Help me write my second novel.</td>\n",
       "      <td>Do your part to help out starving artists and ...</td>\n",
       "      <td>500.0</td>\n",
       "      <td>help-me-write-my-second-novel</td>\n",
       "      <td>False</td>\n",
       "      <td>US</td>\n",
       "      <td>USD</td>\n",
       "      <td>1243555740</td>\n",
       "      <td>1243556121</td>\n",
       "      <td>1240963795</td>\n",
       "      <td>1240966730</td>\n",
       "      <td>18</td>\n",
       "      <td>1</td>\n",
       "    </tr>\n",
       "    <tr>\n",
       "      <th>4</th>\n",
       "      <td>kkst1913131122</td>\n",
       "      <td>Support casting my sculpture in bronze</td>\n",
       "      <td>I'm nearing completion on a sculpture, current...</td>\n",
       "      <td>2000.0</td>\n",
       "      <td>support-casting-my-sculpture-in-bronze</td>\n",
       "      <td>False</td>\n",
       "      <td>US</td>\n",
       "      <td>USD</td>\n",
       "      <td>1243769880</td>\n",
       "      <td>1243770317</td>\n",
       "      <td>1241177914</td>\n",
       "      <td>1241180541</td>\n",
       "      <td>1</td>\n",
       "      <td>0</td>\n",
       "    </tr>\n",
       "  </tbody>\n",
       "</table>\n",
       "</div>"
      ],
      "text/plain": [
       "       project_id                                               name  \\\n",
       "0  kkst1451568084                                drawing for dollars   \n",
       "1  kkst1474482071  Sponsor Dereck Blackburn (Lostwars) Artist in ...   \n",
       "2   kkst183622197                                      Mr. Squiggles   \n",
       "3   kkst597742710                     Help me write my second novel.   \n",
       "4  kkst1913131122             Support casting my sculpture in bronze   \n",
       "\n",
       "                                                desc    goal  \\\n",
       "0  I like drawing pictures. and then i color them...    20.0   \n",
       "1  I, Dereck Blackburn will be taking upon an inc...   300.0   \n",
       "2  So I saw darkpony's successfully funded drawin...    30.0   \n",
       "3  Do your part to help out starving artists and ...   500.0   \n",
       "4  I'm nearing completion on a sculpture, current...  2000.0   \n",
       "\n",
       "                                            keywords  disable_communication  \\\n",
       "0                                drawing-for-dollars                  False   \n",
       "1  sponsor-dereck-blackburn-lostwars-artist-in-re...                  False   \n",
       "2                                       mr-squiggles                  False   \n",
       "3                      help-me-write-my-second-novel                  False   \n",
       "4             support-casting-my-sculpture-in-bronze                  False   \n",
       "\n",
       "  country currency    deadline  state_changed_at  created_at  launched_at  \\\n",
       "0      US      USD  1241333999        1241334017  1240600507   1240602723   \n",
       "1      US      USD  1242429000        1242432018  1240960224   1240975592   \n",
       "2      US      USD  1243027560        1243027818  1242163613   1242164398   \n",
       "3      US      USD  1243555740        1243556121  1240963795   1240966730   \n",
       "4      US      USD  1243769880        1243770317  1241177914   1241180541   \n",
       "\n",
       "   backers_count  final_status  \n",
       "0              3             1  \n",
       "1              2             0  \n",
       "2              0             0  \n",
       "3             18             1  \n",
       "4              1             0  "
      ]
     },
     "execution_count": 4,
     "metadata": {},
     "output_type": "execute_result"
    }
   ],
   "source": [
    "train_df.head()"
   ]
  },
  {
   "cell_type": "markdown",
   "metadata": {
    "_cell_guid": "78911cd9-d8ee-4eb5-8555-e532b6cb0654",
    "_uuid": "9a80b297499d1ccbfdab986e3252b24e51abe055"
   },
   "source": [
    "Legal. O arquivo test_df tem o mesmo format, exceto que não tem a coluna de author. É o que estamos querendo prever, certo?"
   ]
  },
  {
   "cell_type": "code",
   "execution_count": 5,
   "metadata": {
    "_cell_guid": "5fadecc3-5832-4532-b90e-e4ae68e7a3cd",
    "_uuid": "f61796d9c4ae274777dfe70012252f86f39d8897"
   },
   "outputs": [
    {
     "data": {
      "text/html": [
       "<div>\n",
       "<style>\n",
       "    .dataframe thead tr:only-child th {\n",
       "        text-align: right;\n",
       "    }\n",
       "\n",
       "    .dataframe thead th {\n",
       "        text-align: left;\n",
       "    }\n",
       "\n",
       "    .dataframe tbody tr th {\n",
       "        vertical-align: top;\n",
       "    }\n",
       "</style>\n",
       "<table border=\"1\" class=\"dataframe\">\n",
       "  <thead>\n",
       "    <tr style=\"text-align: right;\">\n",
       "      <th></th>\n",
       "      <th>project_id</th>\n",
       "      <th>name</th>\n",
       "      <th>desc</th>\n",
       "      <th>goal</th>\n",
       "      <th>keywords</th>\n",
       "      <th>disable_communication</th>\n",
       "      <th>country</th>\n",
       "      <th>currency</th>\n",
       "      <th>deadline</th>\n",
       "      <th>state_changed_at</th>\n",
       "      <th>created_at</th>\n",
       "      <th>launched_at</th>\n",
       "    </tr>\n",
       "  </thead>\n",
       "  <tbody>\n",
       "    <tr>\n",
       "      <th>0</th>\n",
       "      <td>kkst917493670</td>\n",
       "      <td>Bràthair.</td>\n",
       "      <td>My first film, of many to come. Trying to purs...</td>\n",
       "      <td>7000.0</td>\n",
       "      <td>brathair</td>\n",
       "      <td>False</td>\n",
       "      <td>US</td>\n",
       "      <td>USD</td>\n",
       "      <td>1449619185</td>\n",
       "      <td>1449619185</td>\n",
       "      <td>1446002581</td>\n",
       "      <td>1446159585</td>\n",
       "    </tr>\n",
       "    <tr>\n",
       "      <th>1</th>\n",
       "      <td>kkst1664901914</td>\n",
       "      <td>THE SCREENWRITER</td>\n",
       "      <td>A young man that has earned his master's in sc...</td>\n",
       "      <td>35000.0</td>\n",
       "      <td>the-screenwriter</td>\n",
       "      <td>False</td>\n",
       "      <td>US</td>\n",
       "      <td>USD</td>\n",
       "      <td>1453435620</td>\n",
       "      <td>1453435620</td>\n",
       "      <td>1450297323</td>\n",
       "      <td>1450411620</td>\n",
       "    </tr>\n",
       "    <tr>\n",
       "      <th>2</th>\n",
       "      <td>kkst925125077</td>\n",
       "      <td>The Hornets Nest the Fairmont Heights Story</td>\n",
       "      <td>Film about a high school constructed for negro...</td>\n",
       "      <td>49500.0</td>\n",
       "      <td>the-hornets-nest-the-fairmont-heights-story</td>\n",
       "      <td>False</td>\n",
       "      <td>US</td>\n",
       "      <td>USD</td>\n",
       "      <td>1451780700</td>\n",
       "      <td>1451780700</td>\n",
       "      <td>1448581356</td>\n",
       "      <td>1448672128</td>\n",
       "    </tr>\n",
       "    <tr>\n",
       "      <th>3</th>\n",
       "      <td>kkst1427645275</td>\n",
       "      <td>BROTHERS Season 2 - Groundbreaking Transgender...</td>\n",
       "      <td>The acclaimed series about a group of transgen...</td>\n",
       "      <td>40000.0</td>\n",
       "      <td>brothers-season-2-groundbreaking-transgender-male</td>\n",
       "      <td>False</td>\n",
       "      <td>US</td>\n",
       "      <td>USD</td>\n",
       "      <td>1445021518</td>\n",
       "      <td>1445021530</td>\n",
       "      <td>1440966830</td>\n",
       "      <td>1442429518</td>\n",
       "    </tr>\n",
       "    <tr>\n",
       "      <th>4</th>\n",
       "      <td>kkst1714249266</td>\n",
       "      <td>Blackdom the movie</td>\n",
       "      <td>Blackdom's history offers  a new narrative tha...</td>\n",
       "      <td>20000.0</td>\n",
       "      <td>blackdom-the-movie</td>\n",
       "      <td>False</td>\n",
       "      <td>US</td>\n",
       "      <td>USD</td>\n",
       "      <td>1462068840</td>\n",
       "      <td>1462068844</td>\n",
       "      <td>1455765276</td>\n",
       "      <td>1458334890</td>\n",
       "    </tr>\n",
       "  </tbody>\n",
       "</table>\n",
       "</div>"
      ],
      "text/plain": [
       "       project_id                                               name  \\\n",
       "0   kkst917493670                                          Bràthair.   \n",
       "1  kkst1664901914                                   THE SCREENWRITER   \n",
       "2   kkst925125077        The Hornets Nest the Fairmont Heights Story   \n",
       "3  kkst1427645275  BROTHERS Season 2 - Groundbreaking Transgender...   \n",
       "4  kkst1714249266                                 Blackdom the movie   \n",
       "\n",
       "                                                desc     goal  \\\n",
       "0  My first film, of many to come. Trying to purs...   7000.0   \n",
       "1  A young man that has earned his master's in sc...  35000.0   \n",
       "2  Film about a high school constructed for negro...  49500.0   \n",
       "3  The acclaimed series about a group of transgen...  40000.0   \n",
       "4  Blackdom's history offers  a new narrative tha...  20000.0   \n",
       "\n",
       "                                            keywords  disable_communication  \\\n",
       "0                                           brathair                  False   \n",
       "1                                   the-screenwriter                  False   \n",
       "2        the-hornets-nest-the-fairmont-heights-story                  False   \n",
       "3  brothers-season-2-groundbreaking-transgender-male                  False   \n",
       "4                                 blackdom-the-movie                  False   \n",
       "\n",
       "  country currency    deadline  state_changed_at  created_at  launched_at  \n",
       "0      US      USD  1449619185        1449619185  1446002581   1446159585  \n",
       "1      US      USD  1453435620        1453435620  1450297323   1450411620  \n",
       "2      US      USD  1451780700        1451780700  1448581356   1448672128  \n",
       "3      US      USD  1445021518        1445021530  1440966830   1442429518  \n",
       "4      US      USD  1462068840        1462068844  1455765276   1458334890  "
      ]
     },
     "execution_count": 5,
     "metadata": {},
     "output_type": "execute_result"
    }
   ],
   "source": [
    "test_df.head()"
   ]
  },
  {
   "cell_type": "markdown",
   "metadata": {
    "_cell_guid": "5284984b-6661-4159-a0c1-303d3ba5c9f9",
    "_uuid": "ef7d17c0c3f4f15b353f5f7eecd5f56f4d8156c4"
   },
   "source": [
    "O arquivo de submission é um exemplo de como devemos mandas as previsões. Vamos usar ele como template mais pra frente. O importante aqui é notar que na submissão, a previsão é baseada em probabilidades."
   ]
  },
  {
   "cell_type": "code",
   "execution_count": 6,
   "metadata": {
    "_cell_guid": "de053cb1-0c85-44d5-ae57-a8ddb1d8d673",
    "_uuid": "7880f8bb8f963f5f9ab39a8bd8831eaa411936ba"
   },
   "outputs": [
    {
     "data": {
      "text/html": [
       "<div>\n",
       "<style>\n",
       "    .dataframe thead tr:only-child th {\n",
       "        text-align: right;\n",
       "    }\n",
       "\n",
       "    .dataframe thead th {\n",
       "        text-align: left;\n",
       "    }\n",
       "\n",
       "    .dataframe tbody tr th {\n",
       "        vertical-align: top;\n",
       "    }\n",
       "</style>\n",
       "<table border=\"1\" class=\"dataframe\">\n",
       "  <thead>\n",
       "    <tr style=\"text-align: right;\">\n",
       "      <th></th>\n",
       "      <th>project_id</th>\n",
       "      <th>final_status</th>\n",
       "    </tr>\n",
       "  </thead>\n",
       "  <tbody>\n",
       "    <tr>\n",
       "      <th>0</th>\n",
       "      <td>kkst917493670</td>\n",
       "      <td>0</td>\n",
       "    </tr>\n",
       "    <tr>\n",
       "      <th>1</th>\n",
       "      <td>kkst1664901914</td>\n",
       "      <td>0</td>\n",
       "    </tr>\n",
       "    <tr>\n",
       "      <th>2</th>\n",
       "      <td>kkst925125077</td>\n",
       "      <td>1</td>\n",
       "    </tr>\n",
       "    <tr>\n",
       "      <th>3</th>\n",
       "      <td>kkst1427645275</td>\n",
       "      <td>0</td>\n",
       "    </tr>\n",
       "    <tr>\n",
       "      <th>4</th>\n",
       "      <td>kkst1714249266</td>\n",
       "      <td>0</td>\n",
       "    </tr>\n",
       "  </tbody>\n",
       "</table>\n",
       "</div>"
      ],
      "text/plain": [
       "       project_id  final_status\n",
       "0   kkst917493670             0\n",
       "1  kkst1664901914             0\n",
       "2   kkst925125077             1\n",
       "3  kkst1427645275             0\n",
       "4  kkst1714249266             0"
      ]
     },
     "execution_count": 6,
     "metadata": {},
     "output_type": "execute_result"
    }
   ],
   "source": [
    "submission_df.head()"
   ]
  },
  {
   "cell_type": "markdown",
   "metadata": {
    "_cell_guid": "3eed2b9a-4850-4204-93ea-3fa95c8d9853",
    "_uuid": "98e836505050b7599b0c22591ded27b9ad338f66"
   },
   "source": [
    "Mais um passo importante na hora de entendermos os dados é saber se o nosso dataset está equilibrado. Isso pode alterar o nosso tipo de abordagem de classificação."
   ]
  },
  {
   "cell_type": "code",
   "execution_count": 7,
   "metadata": {
    "_cell_guid": "c0ca8e55-d7e4-432e-b872-3af6f14d3841",
    "_uuid": "9933f21401a9d5ad9f4b311da0df5ee147ef76b1"
   },
   "outputs": [
    {
     "data": {
      "text/plain": [
       "0    0.680373\n",
       "1    0.319627\n",
       "Name: final_status, dtype: float64"
      ]
     },
     "execution_count": 7,
     "metadata": {},
     "output_type": "execute_result"
    }
   ],
   "source": [
    "train_df['final_status'].value_counts(normalize=True)"
   ]
  },
  {
   "cell_type": "markdown",
   "metadata": {
    "_cell_guid": "a3ba19fc-bf4b-4591-a764-ed0a8b4424d5",
    "_uuid": "982f490447616a782b9bf3d960f14eda444b1e4f"
   },
   "source": [
    "## Preparação dos Dados\n",
    "\n",
    "O sklear, que é a biblioteca de ML que vamos usar, trabalha apenas com dados numéricos. Logo, vamos ter que dar uma massageada nos dados, porque tudo o que temos no CSV é texto. Lembra o que vimos lá em cima?\n",
    "\n",
    "### Bag of Words\n",
    "O primeiro passo que vamos fazer é transformar o texto de cada linha em uma representação de Bag of Words. Isso vai incluir o processo de tokenização."
   ]
  },
  {
   "cell_type": "code",
   "execution_count": 8,
   "metadata": {
    "_cell_guid": "833813a2-22ce-4a28-b979-348c289df85b",
    "_uuid": "dbb8c72d12cf495c249dc8858236e2d25c56ee23",
    "collapsed": true
   },
   "outputs": [],
   "source": [
    "from sklearn.feature_extraction.text import CountVectorizer\n",
    "bow = CountVectorizer()"
   ]
  },
  {
   "cell_type": "markdown",
   "metadata": {
    "_cell_guid": "d4e20b5f-630c-4dea-b119-9859d38f1723",
    "_uuid": "82c8d45981a9b24b19148b5f6a589bda062f9c46"
   },
   "source": [
    "Vamos pedir para que o CountVectorizer \"aprenda\" o vocabulário do nosso texto. Isso vai fazer com que ele seja capaz de trabalhar com Bag of Words.\n",
    "\n",
    "*Importante*: veja que estamos ensinando o vocabulário usando os dois datasets: train e test! Isso é importante porque pode ser que existam palavras no dataset de test que não exista no dataset de treino."
   ]
  },
  {
   "cell_type": "code",
   "execution_count": 9,
   "metadata": {
    "_cell_guid": "641ccbbf-c29a-479d-a10b-7483f79b4c7a",
    "_uuid": "63bb51e1b617c2ddff6662fdda0c7cea885a3b49"
   },
   "outputs": [
    {
     "data": {
      "text/plain": [
       "CountVectorizer(analyzer='word', binary=False, decode_error='strict',\n",
       "        dtype=<class 'numpy.int64'>, encoding='utf-8', input='content',\n",
       "        lowercase=True, max_df=1.0, max_features=None, min_df=1,\n",
       "        ngram_range=(1, 1), preprocessor=None, stop_words=None,\n",
       "        strip_accents=None, token_pattern='(?u)\\\\b\\\\w\\\\w+\\\\b',\n",
       "        tokenizer=None, vocabulary=None)"
      ]
     },
     "execution_count": 9,
     "metadata": {},
     "output_type": "execute_result"
    }
   ],
   "source": [
    "bow.fit(test_df.append(train_df)['name'])"
   ]
  },
  {
   "cell_type": "markdown",
   "metadata": {
    "_cell_guid": "e8dbcad7-1b31-4548-9eff-a07d1caaf353",
    "_uuid": "4a49ad985818e156c381c9e1d08bb93cf0ce4496"
   },
   "source": [
    "Ótimo! Agora ele conhece o vocabulário. Quer ver?\n",
    "\n",
    "Vamos começar espiando o testo da primeira amostra do dataset de treino."
   ]
  },
  {
   "cell_type": "code",
   "execution_count": 10,
   "metadata": {
    "_cell_guid": "feec093d-b5cd-479f-8095-ef5e46b79dd9",
    "_uuid": "d100d9c1fe291af0cfb7c55c75a41565a27667fe"
   },
   "outputs": [
    {
     "name": "stdout",
     "output_type": "stream",
     "text": [
      "60397\n",
      "76885\n"
     ]
    }
   ],
   "source": [
    "print(bow.vocabulary_['process'])\n",
    "print(bow.vocabulary_['this'])"
   ]
  },
  {
   "cell_type": "code",
   "execution_count": 11,
   "metadata": {
    "_cell_guid": "68295af3-18e8-4cd3-b750-713240303474",
    "_uuid": "7a2074158cd948f741544ad15f8884d72bc30ba6"
   },
   "outputs": [
    {
     "name": "stdout",
     "output_type": "stream",
     "text": [
      "Tamanho do Vocabulario aprendido: 87042\n"
     ]
    }
   ],
   "source": [
    "print(\"Tamanho do Vocabulario aprendido:\", len(bow.vocabulary_))"
   ]
  },
  {
   "cell_type": "markdown",
   "metadata": {
    "_cell_guid": "8d01498e-f743-49c2-8c58-7fa05e057098",
    "_uuid": "0d808e8a2c0127f88db6e329ac7e4b906dccdc74"
   },
   "source": [
    "Nesse processo as palavras foram todas convertidas para minusculas"
   ]
  },
  {
   "cell_type": "code",
   "execution_count": 12,
   "metadata": {
    "_cell_guid": "e1bdb4fa-dd4d-472c-9300-2ff2e30d7fe5",
    "_uuid": "09489559d69af17743ca740b6c3f51b74f24c65f"
   },
   "outputs": [
    {
     "data": {
      "text/plain": [
       "True"
      ]
     },
     "execution_count": 12,
     "metadata": {},
     "output_type": "execute_result"
    }
   ],
   "source": [
    "'this' in bow.vocabulary_"
   ]
  },
  {
   "cell_type": "markdown",
   "metadata": {
    "_cell_guid": "8fdeea56-40dd-4da5-93b8-4fb62c0c18cd",
    "_uuid": "6cf5e121a46f1618c7f1710d6e581d32313e215e"
   },
   "source": [
    "Ótimo. Agora que já temos um vocabulário, hora de transformar o nosso texto em números, usando a representação de Bag of Words. O resultado vai ser uma matriz em que cada linha é uma amostra (alinhada com o dataset de treinamento) e cada coluna representa o número de vezes que aquela palavra apareceu."
   ]
  },
  {
   "cell_type": "code",
   "execution_count": 13,
   "metadata": {
    "_cell_guid": "70932132-d048-4d84-a191-fd3bf7631522",
    "_uuid": "ad7b1b4721cc8e3dcfbc36dae22f7d260f3e6d4c"
   },
   "outputs": [
    {
     "data": {
      "text/plain": [
       "<108129x87042 sparse matrix of type '<class 'numpy.int64'>'\n",
       "\twith 568885 stored elements in Compressed Sparse Row format>"
      ]
     },
     "execution_count": 13,
     "metadata": {},
     "output_type": "execute_result"
    }
   ],
   "source": [
    "train_X_bow = bow.transform(train_df['name'])\n",
    "train_X_bow"
   ]
  },
  {
   "cell_type": "markdown",
   "metadata": {
    "_cell_guid": "f1a52a91-c6c3-4a8f-80a9-0ea504355d12",
    "_uuid": "c0b2a8ad5f1cb8495e95c1830d08625320f3a4c2"
   },
   "source": [
    "É um pouco difícil de trabalhar com matrizes esparsas. Sabemos que essa matriz tem 19579 linhas (são as amostras) e 28300 colunas (são as palavras). Vamos espiar uma linha pra entender melhor o que está acontecendo? Vamos espiar a primeira linha."
   ]
  },
  {
   "cell_type": "code",
   "execution_count": 14,
   "metadata": {
    "_cell_guid": "6af4db90-3902-44d7-8054-1ab39643b558",
    "_uuid": "ac565241a27ba69aa8c426595f77b77f35002a64"
   },
   "outputs": [
    {
     "data": {
      "text/plain": [
       "array([0, 0, 0, ..., 0, 0, 0])"
      ]
     },
     "execution_count": 14,
     "metadata": {},
     "output_type": "execute_result"
    }
   ],
   "source": [
    "x_bow_0 = train_X_bow[0].toarray().reshape(-1)\n",
    "x_bow_0"
   ]
  },
  {
   "cell_type": "markdown",
   "metadata": {
    "_cell_guid": "f8728fca-9607-4753-9584-34ab18a3545f",
    "_uuid": "01dfad4f1e96e42257971cbf625d661bf561729a"
   },
   "source": [
    "Ainda difícil de ver. Vamos reordenar, pra ficar mais fácil. Vamos ordenar em ordem decrescente, para saber quais as palavras mais frequentes nesse texto. Pelo modelo de bag of words, essas seriam as mais importantes."
   ]
  },
  {
   "cell_type": "code",
   "execution_count": 15,
   "metadata": {
    "_cell_guid": "df14e0ef-0e93-4c5a-a19c-bc806ece115f",
    "_uuid": "e0d6d10ef2f6f8cd22bc18f2c029f1ae816443f5"
   },
   "outputs": [
    {
     "name": "stdout",
     "output_type": "stream",
     "text": [
      "[28648 21751 22291 58033 58032 58031 58030 58029 58028 58027 58026 58024\n",
      " 58023 58022 58021 58020 58019 58018 58017 58016]\n",
      "[1 1 1 0 0 0 0 0 0 0 0 0 0 0 0 0 0 0 0 0]\n",
      "['for' 'dollars' 'drawing' 'phytl' 'phystix' 'physis' 'physique'\n",
      " 'physiomobile' 'physiological' 'physio' 'physigraphics' 'physick'\n",
      " 'physicians' 'physician' 'physicallyfriendlycooking' 'physically'\n",
      " 'physical' 'physic' 'phyre' 'phyllis']\n"
     ]
    }
   ],
   "source": [
    "idx = np.argsort(-x_bow_0)[:20]\n",
    "print(idx)\n",
    "print(x_bow_0[idx])\n",
    "print(np.array(bow.get_feature_names())[idx])"
   ]
  },
  {
   "cell_type": "markdown",
   "metadata": {
    "_cell_guid": "764c080c-b48b-44b0-9841-0e362c5070fa",
    "_uuid": "db8753d5eb6d47279f55238168c5f2603b56ebd5"
   },
   "source": [
    "Fica aí a reflexão: você acha que essa ordenação de fato reflete a importância dessas palavras? Tem jeito de melhorar isso?\n",
    "\n",
    "Dica: stop words e TF-IDF"
   ]
  },
  {
   "cell_type": "markdown",
   "metadata": {
    "_cell_guid": "eb04053c-6bf7-4c59-a45c-78ca906cea77",
    "_uuid": "8a89900d8abfd2fae9377c4a1b4bb69e72aaf31e"
   },
   "source": [
    "### TF-IDF\n",
    "TF-IDF para os íntimos, é a sigla de Term Frequency - Inverse Document Frequency. Trata-se de uma transformação sobre o modelo de Bag of Words para tentar resolver alguns dos problemas que vimos ali em cima.\n",
    "\n",
    "Essa transformação faz uma mágica: ele diminui a importância de palavras que aparecem em muitos documentos (como the, of, etc) e aumenta a importância de palavras que são mais raras naquelo documento: ou seja - que provavelmente são mais alinhadas com o estilo do autor ou do assunto. Quer saber como calcular o TF-IDF? É fácil, mas a gente não vai tratar disso aqui. [https://en.wikipedia.org/wiki/Tf%E2%80%93idf]\n",
    "\n",
    "Primeiro nós precisamos fazer o TF-IDF Transformer \"entender\" quais as palavras comuns e quais não são comuns."
   ]
  },
  {
   "cell_type": "code",
   "execution_count": 16,
   "metadata": {
    "_cell_guid": "5767f91c-e35a-45e6-9add-99edd90a2a45",
    "_uuid": "8e7cf7158593158fe4e2798371b21871a2dad313"
   },
   "outputs": [
    {
     "data": {
      "text/plain": [
       "TfidfTransformer(norm='l2', smooth_idf=True, sublinear_tf=False, use_idf=True)"
      ]
     },
     "execution_count": 16,
     "metadata": {},
     "output_type": "execute_result"
    }
   ],
   "source": [
    "from sklearn.feature_extraction.text import TfidfTransformer\n",
    "tfidf = TfidfTransformer()\n",
    "tfidf.fit(train_X_bow)"
   ]
  },
  {
   "cell_type": "markdown",
   "metadata": {
    "_cell_guid": "38695cd1-8c72-413a-8e35-bf606a0dcfaf",
    "_uuid": "32ebe1b23572b2881c4f188cbd9f3b571747ea6f"
   },
   "source": [
    "Agora que ele já sabe quais as palavras comuns, hora de transformar o nosso bag of words"
   ]
  },
  {
   "cell_type": "code",
   "execution_count": 17,
   "metadata": {
    "_cell_guid": "52ecca4f-91d5-48c0-a066-103bb8997c10",
    "_uuid": "83d98f4849dde8eb77733c7eb4df2f8b628f4000"
   },
   "outputs": [
    {
     "data": {
      "text/plain": [
       "<108129x87042 sparse matrix of type '<class 'numpy.float64'>'\n",
       "\twith 568885 stored elements in Compressed Sparse Row format>"
      ]
     },
     "execution_count": 17,
     "metadata": {},
     "output_type": "execute_result"
    }
   ],
   "source": [
    "train_X_tfidf = tfidf.transform(train_X_bow)\n",
    "train_X_tfidf"
   ]
  },
  {
   "cell_type": "markdown",
   "metadata": {
    "_cell_guid": "6cd3e784-f6be-4d43-aabe-a5db0f2ca521",
    "_uuid": "bfdaa33f07f7409cb84351b05ac4a488674f45d2"
   },
   "source": [
    "Note que o tamanho da matriz é exatamente o mesmo. Vamos espiar o conteúdo?"
   ]
  },
  {
   "cell_type": "code",
   "execution_count": 18,
   "metadata": {
    "_cell_guid": "00227ac3-739f-41fe-90ff-3de3c2bc6a55",
    "_uuid": "10dd823524435fa7db720fb8fc38be5f11181b48"
   },
   "outputs": [
    {
     "data": {
      "text/plain": [
       "array([ 0.,  0.,  0., ...,  0.,  0.,  0.])"
      ]
     },
     "execution_count": 18,
     "metadata": {},
     "output_type": "execute_result"
    }
   ],
   "source": [
    "x_tfidf_0 = train_X_tfidf[0].toarray().reshape(-1)\n",
    "x_tfidf_0"
   ]
  },
  {
   "cell_type": "markdown",
   "metadata": {
    "_cell_guid": "159e95f8-7515-43f3-838a-2184079e07ba",
    "_uuid": "a9403116ae04537416bcd5ea69d955320a213142"
   },
   "source": [
    "Ainda difícil de ver porque é bem esparso. Vamos ordenar?"
   ]
  },
  {
   "cell_type": "code",
   "execution_count": 19,
   "metadata": {
    "_cell_guid": "b838f539-5dea-4f80-a7f5-70a521c50422",
    "_uuid": "332a7710d523e66c75da4aa27cdcaccb807dcc72"
   },
   "outputs": [
    {
     "name": "stdout",
     "output_type": "stream",
     "text": [
      "[21751 22291 28648 58033 58032 58031 58030 58029 58028 58027 58026 58024\n",
      " 58023 58022 58021 58020 58019 58018 58017 58016]\n",
      "[ 0.74545808  0.60282096  0.28442775  0.          0.          0.          0.\n",
      "  0.          0.          0.          0.          0.          0.          0.\n",
      "  0.          0.          0.          0.          0.          0.        ]\n",
      "['dollars' 'drawing' 'for' 'phytl' 'phystix' 'physis' 'physique'\n",
      " 'physiomobile' 'physiological' 'physio' 'physigraphics' 'physick'\n",
      " 'physicians' 'physician' 'physicallyfriendlycooking' 'physically'\n",
      " 'physical' 'physic' 'phyre' 'phyllis']\n"
     ]
    }
   ],
   "source": [
    "idx = np.argsort(-x_tfidf_0)[:20]\n",
    "print(idx)\n",
    "print(x_tfidf_0[idx])\n",
    "print(np.array(bow.get_feature_names())[idx])"
   ]
  },
  {
   "cell_type": "markdown",
   "metadata": {
    "_cell_guid": "8cf19499-752b-486b-a72e-2f577b3ad10e",
    "_uuid": "8b311395b5cd9477996315221d55bb5430b8a947"
   },
   "source": [
    "E aí? Agora faz mais sentido esse critério de importância (ou característica) de cada autor?\n",
    "\n",
    "Fica aqui mais uma reflexão: é sempre desejável termos essa representação"
   ]
  },
  {
   "cell_type": "markdown",
   "metadata": {
    "_cell_guid": "cae08204-c042-4f5e-90d8-5addc31b56c6",
    "_uuid": "0f42f48d1b0e0d69614ea70ff877843df26b4b54"
   },
   "source": [
    "### LabelEncoding do target\n",
    "O nome do autor também é texto. Vamos ter que dar um jeito de converter os nomes dos autores para valores numérico, porque é o jeito que o sklearn trabalhar. Os 3 textos que temos que transformar são EAP, HPL e MWS. \n",
    "\n",
    "O método que vamos usar é chamado de Label Encoding. Ou seja: a cada texto, vamos atribuir um inteiro. Como por exemplo: EAP = 0, HPL = 1 e MWS = 2.\n",
    "\n",
    "Antes de atribuirmos, precisamos que o Encoder \"aprenda\" quais as categorias existentes."
   ]
  },
  {
   "cell_type": "code",
   "execution_count": 20,
   "metadata": {
    "_cell_guid": "4e78f055-9250-426c-8dea-0443ebaf62b6",
    "_uuid": "8071b9702004af2b7a7cdd899e587bca72ecdd82"
   },
   "outputs": [
    {
     "data": {
      "text/plain": [
       "array([0, 1])"
      ]
     },
     "execution_count": 20,
     "metadata": {},
     "output_type": "execute_result"
    }
   ],
   "source": [
    "from sklearn.preprocessing import LabelEncoder\n",
    "le = LabelEncoder()\n",
    "le.fit(train_df['final_status'])\n",
    "le.classes_"
   ]
  },
  {
   "cell_type": "markdown",
   "metadata": {
    "_cell_guid": "20303f31-ea57-4017-9f28-af6f02dccdad",
    "_uuid": "ab389a543f37d52036e2d550aab441f7852de41b"
   },
   "source": [
    "Ótimo! Agora o LabelEncoder já sabe quais são as categorias que ele tem que mapear. Agora precisamos efetivamente converter a coluna author. Bora lá."
   ]
  },
  {
   "cell_type": "code",
   "execution_count": 21,
   "metadata": {
    "_cell_guid": "eaf45c31-46af-4e1d-859c-4d3a0975e148",
    "_uuid": "15526a68bb768c388df4d4d02265c5d7609be8af"
   },
   "outputs": [
    {
     "data": {
      "text/plain": [
       "array([1, 0, 0, ..., 1, 0, 0])"
      ]
     },
     "execution_count": 21,
     "metadata": {},
     "output_type": "execute_result"
    }
   ],
   "source": [
    "train_y = le.transform(train_df['final_status'])\n",
    "train_y"
   ]
  },
  {
   "cell_type": "markdown",
   "metadata": {
    "_cell_guid": "54090c7d-f38b-4c79-8513-9de17917bdfe",
    "_uuid": "a978d4bbde0ffa7c85cc58e9ef9048976359d99d"
   },
   "source": [
    "## Treinando um Modelo Preditivo\n",
    "Agora que já temos os dados preparados e transformados em dados numéricos, podemos treinar o nosso modelo de machine learning.\n",
    "\n",
    "Para essa competição, vamos usar um classificador que em geral tem uma boa performance trabalhando com texto. Ele é baseado em estatística bayesiana e é normalmente chamado de Naive Bayes (Naive porque ele acredita que os dados não tenham relação entre si...). Não vamos entrar em detalhes aqui do que é um modelo bayesiano. O que importrante pra gente: ele é bom em calcular probabilidades. Se ele sabe que 40% dos textos são do Edgard Alan Poe e que a palavra \"ascertaining\" tem 0,03% de chance de aparecer num texto do Poe e que \"uniform\" tem 0,01% de chance de aparecer num texto do Poe, um texto que tem as palavras \"uniform\" e \"ascertaining\" tem qual a probabilidade de ser um texto do Poe? E da Mary Shelley? E do Lovecraft?\n",
    "\n",
    "Esse é o tipo de cálculo que esse classificador faz. Quer ver mais detalhes? https://en.wikipedia.org/wiki/Naive_Bayes_classifier\n",
    "\n",
    "Curiosidade: os filtros de Spam funcionam exatamente com esse tipo de classificador."
   ]
  },
  {
   "cell_type": "code",
   "execution_count": 22,
   "metadata": {
    "_cell_guid": "ab73575b-739d-4cfa-9377-9bbea6a59a47",
    "_uuid": "c320e61c99d953ca998fc2b248adf6ffa69ece74",
    "collapsed": true
   },
   "outputs": [],
   "source": [
    "from sklearn.naive_bayes import MultinomialNB\n",
    "nb = MultinomialNB(alpha=1.0)"
   ]
  },
  {
   "cell_type": "markdown",
   "metadata": {
    "_cell_guid": "56fc0135-b21e-4b56-ad31-f15557a9bcfc",
    "_uuid": "c285d3fdb24d9d0f7fb3d87236b124c7e1253787"
   },
   "source": [
    "Para treinar o modelo, temos que passar pra ele as \"features\" ou características - nesse caso, TFIDF - e quais são os targets, pra que ele possa calcular as probabilidades."
   ]
  },
  {
   "cell_type": "code",
   "execution_count": 23,
   "metadata": {
    "_cell_guid": "7a84836a-bb06-45a5-968d-63eb717e72de",
    "_uuid": "612700454737f58b252cf0166d9e3c578ce0aab9"
   },
   "outputs": [
    {
     "data": {
      "text/plain": [
       "MultinomialNB(alpha=1.0, class_prior=None, fit_prior=True)"
      ]
     },
     "execution_count": 23,
     "metadata": {},
     "output_type": "execute_result"
    }
   ],
   "source": [
    "nb.fit(train_X_tfidf, train_y)"
   ]
  },
  {
   "cell_type": "markdown",
   "metadata": {
    "_cell_guid": "5baf7a25-8551-4744-bda2-cc3acc6e9d1b",
    "_uuid": "588bceea95bef42fee2c62ead4502671e057d60d"
   },
   "source": [
    "Modelo treinado. Com o modelo treinado, podemos começar usá-lo para fazer predições. Só de farra, vamos usar o próprio dataset de treinamento para fazer uma previsão e ver como ele se comporta."
   ]
  },
  {
   "cell_type": "code",
   "execution_count": 24,
   "metadata": {
    "_cell_guid": "47182a13-a935-4138-8f1f-d9a3ea5b553e",
    "_uuid": "3fc55beff567dcb6dbe12720f4fef05a91cd814f"
   },
   "outputs": [
    {
     "data": {
      "text/plain": [
       "array([0, 0, 0, ..., 0, 0, 0])"
      ]
     },
     "execution_count": 24,
     "metadata": {},
     "output_type": "execute_result"
    }
   ],
   "source": [
    "y_pred = nb.predict(train_X_tfidf)\n",
    "y_pred"
   ]
  },
  {
   "cell_type": "markdown",
   "metadata": {
    "_cell_guid": "f1dbeb3f-31e3-4648-b113-6fb187cc5b33",
    "_uuid": "d495eb6f32ac8ba64db090c2ce73f2ca0874a0e5"
   },
   "source": [
    "Ou seja: ele previu que o primeiro texto é do Poe (0), o segundo também, ... e o último é do Lovecraft (1)\n",
    "\n",
    "## Avaliando o Modelo\n",
    "Mas e aí. Esse modelo é bom? Qual é a taxa de acerto?"
   ]
  },
  {
   "cell_type": "code",
   "execution_count": 25,
   "metadata": {
    "_cell_guid": "85687e32-e555-4ca1-ba0a-db2c0ca1f031",
    "_uuid": "5bbfabcce48b7df19882dbcb1b575121e64e357a"
   },
   "outputs": [
    {
     "data": {
      "text/plain": [
       "0.73535314300511423"
      ]
     },
     "execution_count": 25,
     "metadata": {},
     "output_type": "execute_result"
    }
   ],
   "source": [
    "from sklearn.metrics import accuracy_score\n",
    "accuracy_score(train_y, y_pred)\n",
    "\n",
    "# 0.73535314300511423"
   ]
  },
  {
   "cell_type": "code",
   "execution_count": 26,
   "metadata": {
    "_cell_guid": "f0c5a0d5-fd08-48a5-948f-86597f294e3a",
    "_uuid": "b96040544e3f072a36d9c2c0cc66ac438c27a807"
   },
   "outputs": [
    {
     "data": {
      "text/html": [
       "<div>\n",
       "<style>\n",
       "    .dataframe thead tr:only-child th {\n",
       "        text-align: right;\n",
       "    }\n",
       "\n",
       "    .dataframe thead th {\n",
       "        text-align: left;\n",
       "    }\n",
       "\n",
       "    .dataframe tbody tr th {\n",
       "        vertical-align: top;\n",
       "    }\n",
       "</style>\n",
       "<table border=\"1\" class=\"dataframe\">\n",
       "  <thead>\n",
       "    <tr style=\"text-align: right;\">\n",
       "      <th></th>\n",
       "      <th>project_id</th>\n",
       "      <th>final_status</th>\n",
       "    </tr>\n",
       "  </thead>\n",
       "  <tbody>\n",
       "    <tr>\n",
       "      <th>0</th>\n",
       "      <td>kkst917493670</td>\n",
       "      <td>0</td>\n",
       "    </tr>\n",
       "    <tr>\n",
       "      <th>1</th>\n",
       "      <td>kkst1664901914</td>\n",
       "      <td>0</td>\n",
       "    </tr>\n",
       "    <tr>\n",
       "      <th>2</th>\n",
       "      <td>kkst925125077</td>\n",
       "      <td>1</td>\n",
       "    </tr>\n",
       "    <tr>\n",
       "      <th>3</th>\n",
       "      <td>kkst1427645275</td>\n",
       "      <td>0</td>\n",
       "    </tr>\n",
       "    <tr>\n",
       "      <th>4</th>\n",
       "      <td>kkst1714249266</td>\n",
       "      <td>0</td>\n",
       "    </tr>\n",
       "  </tbody>\n",
       "</table>\n",
       "</div>"
      ],
      "text/plain": [
       "       project_id  final_status\n",
       "0   kkst917493670             0\n",
       "1  kkst1664901914             0\n",
       "2   kkst925125077             1\n",
       "3  kkst1427645275             0\n",
       "4  kkst1714249266             0"
      ]
     },
     "execution_count": 26,
     "metadata": {},
     "output_type": "execute_result"
    }
   ],
   "source": [
    "submission_df.head()"
   ]
  },
  {
   "cell_type": "markdown",
   "metadata": {
    "_cell_guid": "f8c3249e-a2e5-47cb-b211-3610f2c0b5e9",
    "_uuid": "53d8a37334f982875fdff173f3fec30e2ba6d501"
   },
   "source": [
    "Nós conseguimos gerar essas probabilidades usando o método predict_proba."
   ]
  },
  {
   "cell_type": "code",
   "execution_count": 27,
   "metadata": {
    "_cell_guid": "3fe3e489-0e5b-43f0-9baa-880e3a2d41b3",
    "_uuid": "46f9dfa36c7e27f245179402044a66559db274c1"
   },
   "outputs": [
    {
     "data": {
      "text/plain": [
       "array([[ 0.67519512,  0.32480488],\n",
       "       [ 0.7743881 ,  0.2256119 ],\n",
       "       [ 0.75574768,  0.24425232],\n",
       "       ..., \n",
       "       [ 0.75589252,  0.24410748],\n",
       "       [ 0.77445629,  0.22554371],\n",
       "       [ 0.84825048,  0.15174952]])"
      ]
     },
     "execution_count": 27,
     "metadata": {},
     "output_type": "execute_result"
    }
   ],
   "source": [
    "y_pred_proba = nb.predict_proba(train_X_tfidf)\n",
    "y_pred_proba"
   ]
  },
  {
   "cell_type": "code",
   "execution_count": 28,
   "metadata": {},
   "outputs": [],
   "source": [
    "train_df['name_prod'] = y_pred_proba[:,0]\n",
    "train_df[['project_id','name_prod']].to_csv('submission_name_train.csv', index=False)"
   ]
  },
  {
   "cell_type": "markdown",
   "metadata": {
    "_cell_guid": "55dde4c5-d46e-4a18-b2a9-9dd674f18d21",
    "_uuid": "292f3d8ec7551a942b9e2596a9089f2693e4aa18"
   },
   "source": [
    "## Preparando a Submissão\n",
    "\n",
    "Hora de preparar a nossa submissão. Vamos pegar o nosso modelo e prever os resultados a partir do arquivo de teste. É assim que o Kaggle avalia o seu modelo: entendendo como ele se comporta em um conjunto de dados que não foi visto durante o treinamento. Antes de fazer a previsão, precisamos aplicar exatamente as mesmas transformações que fizemos no dataset de treinamento.\n",
    "\n",
    "Começando com a conversão pra bag of words..."
   ]
  },
  {
   "cell_type": "code",
   "execution_count": 29,
   "metadata": {
    "_cell_guid": "bb9b421c-4483-47d2-9b34-c5db21af9b1c",
    "_uuid": "208651c8511663014bc9d1086f653ec9e5164805"
   },
   "outputs": [
    {
     "data": {
      "text/plain": [
       "<63465x87042 sparse matrix of type '<class 'numpy.int64'>'\n",
       "\twith 327582 stored elements in Compressed Sparse Row format>"
      ]
     },
     "execution_count": 29,
     "metadata": {},
     "output_type": "execute_result"
    }
   ],
   "source": [
    "test_X_bow = bow.transform(test_df['name'])\n",
    "test_X_bow"
   ]
  },
  {
   "cell_type": "markdown",
   "metadata": {
    "_cell_guid": "8243471b-a881-4124-90c2-2877ecc5c75f",
    "_uuid": "50dae6338efa893f31311f239192c2a520a72b26"
   },
   "source": [
    "Aplicando o TF-IDF..."
   ]
  },
  {
   "cell_type": "code",
   "execution_count": 30,
   "metadata": {
    "_cell_guid": "ade426e7-64b9-419d-95b9-2ac9c120549a",
    "_uuid": "63392fa3cfa758e94a9d90945162c3f43d9c7474"
   },
   "outputs": [
    {
     "data": {
      "text/plain": [
       "<63465x87042 sparse matrix of type '<class 'numpy.float64'>'\n",
       "\twith 327582 stored elements in Compressed Sparse Row format>"
      ]
     },
     "execution_count": 30,
     "metadata": {},
     "output_type": "execute_result"
    }
   ],
   "source": [
    "test_X_tfidf = tfidf.transform(test_X_bow)\n",
    "test_X_tfidf"
   ]
  },
  {
   "cell_type": "markdown",
   "metadata": {
    "_cell_guid": "ba578d6f-9d71-4f36-86a1-9b3abf032897",
    "_uuid": "01c3fecb9f81a763006f9bc87cf74bf8931b9a15"
   },
   "source": [
    "E, finalmente, fazendo a previsão. Vamos usar o predict_proba, porque é o que o Kaggle espera."
   ]
  },
  {
   "cell_type": "code",
   "execution_count": 31,
   "metadata": {
    "_cell_guid": "7926342d-504a-406a-834f-a7bd8688fc2f",
    "_uuid": "012a6b4815d505a576bdafdbd5014135eff30de6"
   },
   "outputs": [
    {
     "data": {
      "text/plain": [
       "array([[ 0.58834307,  0.41165693],\n",
       "       [ 0.60159079,  0.39840921],\n",
       "       [ 0.64807653,  0.35192347],\n",
       "       ..., \n",
       "       [ 0.8964605 ,  0.1035395 ],\n",
       "       [ 0.83210959,  0.16789041],\n",
       "       [ 0.77436271,  0.22563729]])"
      ]
     },
     "execution_count": 31,
     "metadata": {},
     "output_type": "execute_result"
    }
   ],
   "source": [
    "y_pred_proba = nb.predict_proba(test_X_tfidf)\n",
    "y_pred_proba"
   ]
  },
  {
   "cell_type": "code",
   "execution_count": 32,
   "metadata": {
    "_cell_guid": "86c4ac18-dcc7-47a5-9398-0ebb63784804",
    "_uuid": "d46ec9c787f089d8ea274e51bb92ebc828f0178b"
   },
   "outputs": [
    {
     "data": {
      "text/html": [
       "<div>\n",
       "<style>\n",
       "    .dataframe thead tr:only-child th {\n",
       "        text-align: right;\n",
       "    }\n",
       "\n",
       "    .dataframe thead th {\n",
       "        text-align: left;\n",
       "    }\n",
       "\n",
       "    .dataframe tbody tr th {\n",
       "        vertical-align: top;\n",
       "    }\n",
       "</style>\n",
       "<table border=\"1\" class=\"dataframe\">\n",
       "  <thead>\n",
       "    <tr style=\"text-align: right;\">\n",
       "      <th></th>\n",
       "      <th>project_id</th>\n",
       "      <th>final_status</th>\n",
       "    </tr>\n",
       "  </thead>\n",
       "  <tbody>\n",
       "    <tr>\n",
       "      <th>0</th>\n",
       "      <td>kkst917493670</td>\n",
       "      <td>0</td>\n",
       "    </tr>\n",
       "    <tr>\n",
       "      <th>1</th>\n",
       "      <td>kkst1664901914</td>\n",
       "      <td>0</td>\n",
       "    </tr>\n",
       "    <tr>\n",
       "      <th>2</th>\n",
       "      <td>kkst925125077</td>\n",
       "      <td>1</td>\n",
       "    </tr>\n",
       "    <tr>\n",
       "      <th>3</th>\n",
       "      <td>kkst1427645275</td>\n",
       "      <td>0</td>\n",
       "    </tr>\n",
       "    <tr>\n",
       "      <th>4</th>\n",
       "      <td>kkst1714249266</td>\n",
       "      <td>0</td>\n",
       "    </tr>\n",
       "  </tbody>\n",
       "</table>\n",
       "</div>"
      ],
      "text/plain": [
       "       project_id  final_status\n",
       "0   kkst917493670             0\n",
       "1  kkst1664901914             0\n",
       "2   kkst925125077             1\n",
       "3  kkst1427645275             0\n",
       "4  kkst1714249266             0"
      ]
     },
     "execution_count": 32,
     "metadata": {},
     "output_type": "execute_result"
    }
   ],
   "source": [
    "submission_df.head()"
   ]
  },
  {
   "cell_type": "markdown",
   "metadata": {
    "_cell_guid": "441753a6-7f31-4589-9348-85cc5149cc0e",
    "_uuid": "092ea193e51c53a7cf7a572eaa44f3b758dea003"
   },
   "source": [
    "Agora precisamos atribuir os valores que foram previstos pelo modelo."
   ]
  },
  {
   "cell_type": "code",
   "execution_count": 33,
   "metadata": {
    "_cell_guid": "274b8f42-0c39-45cf-92f9-78edc9eaaa7f",
    "_uuid": "ee7957c17323051efb162f0abafa1862c9ab663a",
    "collapsed": true
   },
   "outputs": [],
   "source": [
    "submission_df['name_prod'] = y_pred_proba[:,0]"
   ]
  },
  {
   "cell_type": "markdown",
   "metadata": {
    "_cell_guid": "327457f4-a5c6-4901-ae1e-525179e2c354",
    "_uuid": "65e9e9e1366eeac52f1e34b4be0018a19cb6646a"
   },
   "source": [
    "O resultado final vai ser parecido com isso."
   ]
  },
  {
   "cell_type": "code",
   "execution_count": 34,
   "metadata": {
    "_cell_guid": "6cca05ea-0386-4b46-987d-87eab9cc0cca",
    "_uuid": "d2075617e02c387ccf8e9c78e1bf7cb7670c7bf3"
   },
   "outputs": [
    {
     "data": {
      "text/html": [
       "<div>\n",
       "<style>\n",
       "    .dataframe thead tr:only-child th {\n",
       "        text-align: right;\n",
       "    }\n",
       "\n",
       "    .dataframe thead th {\n",
       "        text-align: left;\n",
       "    }\n",
       "\n",
       "    .dataframe tbody tr th {\n",
       "        vertical-align: top;\n",
       "    }\n",
       "</style>\n",
       "<table border=\"1\" class=\"dataframe\">\n",
       "  <thead>\n",
       "    <tr style=\"text-align: right;\">\n",
       "      <th></th>\n",
       "      <th>project_id</th>\n",
       "      <th>final_status</th>\n",
       "      <th>name_prod</th>\n",
       "    </tr>\n",
       "  </thead>\n",
       "  <tbody>\n",
       "    <tr>\n",
       "      <th>0</th>\n",
       "      <td>kkst917493670</td>\n",
       "      <td>0</td>\n",
       "      <td>0.588343</td>\n",
       "    </tr>\n",
       "    <tr>\n",
       "      <th>1</th>\n",
       "      <td>kkst1664901914</td>\n",
       "      <td>0</td>\n",
       "      <td>0.601591</td>\n",
       "    </tr>\n",
       "    <tr>\n",
       "      <th>2</th>\n",
       "      <td>kkst925125077</td>\n",
       "      <td>1</td>\n",
       "      <td>0.648077</td>\n",
       "    </tr>\n",
       "    <tr>\n",
       "      <th>3</th>\n",
       "      <td>kkst1427645275</td>\n",
       "      <td>0</td>\n",
       "      <td>0.852360</td>\n",
       "    </tr>\n",
       "    <tr>\n",
       "      <th>4</th>\n",
       "      <td>kkst1714249266</td>\n",
       "      <td>0</td>\n",
       "      <td>0.668133</td>\n",
       "    </tr>\n",
       "  </tbody>\n",
       "</table>\n",
       "</div>"
      ],
      "text/plain": [
       "       project_id  final_status  name_prod\n",
       "0   kkst917493670             0   0.588343\n",
       "1  kkst1664901914             0   0.601591\n",
       "2   kkst925125077             1   0.648077\n",
       "3  kkst1427645275             0   0.852360\n",
       "4  kkst1714249266             0   0.668133"
      ]
     },
     "execution_count": 34,
     "metadata": {},
     "output_type": "execute_result"
    }
   ],
   "source": [
    "submission_df.head()"
   ]
  },
  {
   "cell_type": "code",
   "execution_count": 36,
   "metadata": {
    "_cell_guid": "5d77721e-da90-44fb-9c08-2e35c3cbbb1f",
    "_uuid": "65e9b5e8aacfd79aa8bff313e3e9d397d7c8290e",
    "collapsed": true
   },
   "outputs": [],
   "source": [
    "submission_df[['project_id','name_prod']].to_csv('submission_name_test.csv', index=False)"
   ]
  },
  {
   "cell_type": "code",
   "execution_count": null,
   "metadata": {
    "collapsed": true
   },
   "outputs": [],
   "source": []
  }
 ],
 "metadata": {
  "kernelspec": {
   "display_name": "Python 3",
   "language": "python",
   "name": "python3"
  },
  "language_info": {
   "codemirror_mode": {
    "name": "ipython",
    "version": 3
   },
   "file_extension": ".py",
   "mimetype": "text/x-python",
   "name": "python",
   "nbconvert_exporter": "python",
   "pygments_lexer": "ipython3",
   "version": "3.6.1"
  }
 },
 "nbformat": 4,
 "nbformat_minor": 1
}
