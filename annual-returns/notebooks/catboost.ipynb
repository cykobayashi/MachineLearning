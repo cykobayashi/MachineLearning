{
 "cells": [
  {
   "cell_type": "code",
   "execution_count": 1,
   "metadata": {
    "_cell_guid": "cfdaacbc-23a3-423d-8d4d-120939ac7383",
    "_uuid": "7ac1e40a6d3a14f48e39f54297f50cd889bde493",
    "collapsed": true
   },
   "outputs": [],
   "source": [
    "import pandas as pd\n",
    "import numpy as np\n",
    "import matplotlib.pyplot as plt\n",
    "import seaborn as sns\n",
    "\n",
    "from matplotlib import pyplot\n",
    "\n",
    "%matplotlib inline"
   ]
  },
  {
   "cell_type": "code",
   "execution_count": 2,
   "metadata": {
    "collapsed": true
   },
   "outputs": [],
   "source": [
    "# load data\n",
    "train_df = pd.read_csv(\"../input/train.csv\")\n",
    "test_df = pd.read_csv(\"../input/test.csv\")"
   ]
  },
  {
   "cell_type": "code",
   "execution_count": 3,
   "metadata": {},
   "outputs": [
    {
     "name": "stdout",
     "output_type": "stream",
     "text": [
      "(9366, 18)\n",
      "(4801, 17)\n"
     ]
    }
   ],
   "source": [
    "print(train_df.shape)\n",
    "print(test_df.shape)"
   ]
  },
  {
   "cell_type": "code",
   "execution_count": 4,
   "metadata": {},
   "outputs": [
    {
     "data": {
      "text/html": [
       "<div>\n",
       "<style>\n",
       "    .dataframe thead tr:only-child th {\n",
       "        text-align: right;\n",
       "    }\n",
       "\n",
       "    .dataframe thead th {\n",
       "        text-align: left;\n",
       "    }\n",
       "\n",
       "    .dataframe tbody tr th {\n",
       "        vertical-align: top;\n",
       "    }\n",
       "</style>\n",
       "<table border=\"1\" class=\"dataframe\">\n",
       "  <thead>\n",
       "    <tr style=\"text-align: right;\">\n",
       "      <th></th>\n",
       "      <th>portfolio_id</th>\n",
       "      <th>desk_id</th>\n",
       "      <th>office_id</th>\n",
       "      <th>pf_category</th>\n",
       "      <th>start_date</th>\n",
       "      <th>sold</th>\n",
       "      <th>country_code</th>\n",
       "      <th>euribor_rate</th>\n",
       "      <th>currency</th>\n",
       "      <th>libor_rate</th>\n",
       "      <th>bought</th>\n",
       "      <th>creation_date</th>\n",
       "      <th>indicator_code</th>\n",
       "      <th>sell_date</th>\n",
       "      <th>type</th>\n",
       "      <th>hedge_value</th>\n",
       "      <th>status</th>\n",
       "      <th>return</th>\n",
       "    </tr>\n",
       "  </thead>\n",
       "  <tbody>\n",
       "    <tr>\n",
       "      <th>0</th>\n",
       "      <td>PF00001002</td>\n",
       "      <td>DSK00001001</td>\n",
       "      <td>OFF00001002</td>\n",
       "      <td>B</td>\n",
       "      <td>20040720</td>\n",
       "      <td>110000000.0</td>\n",
       "      <td>T</td>\n",
       "      <td>0.02074</td>\n",
       "      <td>USD</td>\n",
       "      <td>2.332216</td>\n",
       "      <td>1.098097e+08</td>\n",
       "      <td>20040720</td>\n",
       "      <td>NaN</td>\n",
       "      <td>20040812</td>\n",
       "      <td>B</td>\n",
       "      <td>NaN</td>\n",
       "      <td>NaN</td>\n",
       "      <td>0.02496</td>\n",
       "    </tr>\n",
       "    <tr>\n",
       "      <th>1</th>\n",
       "      <td>PF00001003</td>\n",
       "      <td>DSK00001002</td>\n",
       "      <td>OFF00001001</td>\n",
       "      <td>A</td>\n",
       "      <td>20040709</td>\n",
       "      <td>176671000.0</td>\n",
       "      <td>N</td>\n",
       "      <td>0.02074</td>\n",
       "      <td>GBP</td>\n",
       "      <td>5.269617</td>\n",
       "      <td>1.760084e+08</td>\n",
       "      <td>20040723</td>\n",
       "      <td>NaN</td>\n",
       "      <td>20040812</td>\n",
       "      <td>C</td>\n",
       "      <td>NaN</td>\n",
       "      <td>NaN</td>\n",
       "      <td>0.05496</td>\n",
       "    </tr>\n",
       "    <tr>\n",
       "      <th>2</th>\n",
       "      <td>PF00001005</td>\n",
       "      <td>DSK00001004</td>\n",
       "      <td>OFF00001001</td>\n",
       "      <td>A</td>\n",
       "      <td>20040723</td>\n",
       "      <td>56474000.0</td>\n",
       "      <td>T</td>\n",
       "      <td>0.02074</td>\n",
       "      <td>USD</td>\n",
       "      <td>2.332216</td>\n",
       "      <td>5.637953e+07</td>\n",
       "      <td>20040723</td>\n",
       "      <td>NaN</td>\n",
       "      <td>20040817</td>\n",
       "      <td>A</td>\n",
       "      <td>NaN</td>\n",
       "      <td>NaN</td>\n",
       "      <td>0.02496</td>\n",
       "    </tr>\n",
       "    <tr>\n",
       "      <th>3</th>\n",
       "      <td>PF00001006</td>\n",
       "      <td>DSK00001005</td>\n",
       "      <td>OFF00001001</td>\n",
       "      <td>A</td>\n",
       "      <td>20040609</td>\n",
       "      <td>164813000.0</td>\n",
       "      <td>T</td>\n",
       "      <td>0.02074</td>\n",
       "      <td>USD</td>\n",
       "      <td>2.332216</td>\n",
       "      <td>1.645088e+08</td>\n",
       "      <td>20040723</td>\n",
       "      <td>NaN</td>\n",
       "      <td>20040713</td>\n",
       "      <td>A</td>\n",
       "      <td>NaN</td>\n",
       "      <td>NaN</td>\n",
       "      <td>0.02496</td>\n",
       "    </tr>\n",
       "    <tr>\n",
       "      <th>4</th>\n",
       "      <td>PF00001007</td>\n",
       "      <td>DSK00001005</td>\n",
       "      <td>OFF00001002</td>\n",
       "      <td>B</td>\n",
       "      <td>20040609</td>\n",
       "      <td>140800000.0</td>\n",
       "      <td>T</td>\n",
       "      <td>0.02074</td>\n",
       "      <td>USD</td>\n",
       "      <td>2.332216</td>\n",
       "      <td>1.405402e+08</td>\n",
       "      <td>20040723</td>\n",
       "      <td>NaN</td>\n",
       "      <td>20040713</td>\n",
       "      <td>B</td>\n",
       "      <td>NaN</td>\n",
       "      <td>NaN</td>\n",
       "      <td>0.02496</td>\n",
       "    </tr>\n",
       "  </tbody>\n",
       "</table>\n",
       "</div>"
      ],
      "text/plain": [
       "  portfolio_id      desk_id    office_id pf_category  start_date         sold  \\\n",
       "0   PF00001002  DSK00001001  OFF00001002           B    20040720  110000000.0   \n",
       "1   PF00001003  DSK00001002  OFF00001001           A    20040709  176671000.0   \n",
       "2   PF00001005  DSK00001004  OFF00001001           A    20040723   56474000.0   \n",
       "3   PF00001006  DSK00001005  OFF00001001           A    20040609  164813000.0   \n",
       "4   PF00001007  DSK00001005  OFF00001002           B    20040609  140800000.0   \n",
       "\n",
       "  country_code  euribor_rate currency  libor_rate        bought  \\\n",
       "0            T       0.02074      USD    2.332216  1.098097e+08   \n",
       "1            N       0.02074      GBP    5.269617  1.760084e+08   \n",
       "2            T       0.02074      USD    2.332216  5.637953e+07   \n",
       "3            T       0.02074      USD    2.332216  1.645088e+08   \n",
       "4            T       0.02074      USD    2.332216  1.405402e+08   \n",
       "\n",
       "   creation_date indicator_code  sell_date type hedge_value status   return  \n",
       "0       20040720            NaN   20040812    B         NaN    NaN  0.02496  \n",
       "1       20040723            NaN   20040812    C         NaN    NaN  0.05496  \n",
       "2       20040723            NaN   20040817    A         NaN    NaN  0.02496  \n",
       "3       20040723            NaN   20040713    A         NaN    NaN  0.02496  \n",
       "4       20040723            NaN   20040713    B         NaN    NaN  0.02496  "
      ]
     },
     "execution_count": 4,
     "metadata": {},
     "output_type": "execute_result"
    }
   ],
   "source": [
    "train_df.head()"
   ]
  },
  {
   "cell_type": "code",
   "execution_count": 5,
   "metadata": {},
   "outputs": [
    {
     "name": "stdout",
     "output_type": "stream",
     "text": [
      "(14167, 18)\n"
     ]
    }
   ],
   "source": [
    "all_df = pd.concat([train_df, test_df])\n",
    "print(all_df.shape)"
   ]
  },
  {
   "cell_type": "code",
   "execution_count": 6,
   "metadata": {
    "collapsed": true
   },
   "outputs": [],
   "source": [
    "from sklearn.preprocessing import LabelEncoder as LabelEncoder\n",
    "\n",
    "le_contry_code = LabelEncoder().fit(all_df['country_code'])\n",
    "le_office_id = LabelEncoder().fit(all_df['office_id'])\n",
    "le_pf_category = LabelEncoder().fit(all_df['pf_category'])\n",
    "le_currency = LabelEncoder().fit(all_df['currency'])\n",
    "le_type = LabelEncoder().fit(all_df['type'])"
   ]
  },
  {
   "cell_type": "code",
   "execution_count": 7,
   "metadata": {
    "collapsed": true
   },
   "outputs": [],
   "source": [
    "all_df['country_code_enc'] = le_contry_code.transform(all_df['country_code'])\n",
    "all_df['office_id_enc'] = le_office_id.transform(all_df['office_id'])\n",
    "all_df['pf_category_enc'] = le_pf_category.transform(all_df['pf_category'])\n",
    "all_df['currency_enc'] = le_currency.transform(all_df['currency'])\n",
    "all_df['type_enc'] = le_type.transform(all_df['type'])"
   ]
  },
  {
   "cell_type": "code",
   "execution_count": 8,
   "metadata": {
    "collapsed": true
   },
   "outputs": [],
   "source": [
    "all_df['creation_date'] = pd.to_datetime(all_df['creation_date'], format='%Y%m%d')\n",
    "all_df['sell_date'] = pd.to_datetime(all_df['sell_date'], format='%Y%m%d')\n",
    "all_df['duration'] = all_df['sell_date'] - all_df['creation_date']\n",
    "all_df['duration'] = all_df['duration'].apply(lambda x: x.days)"
   ]
  },
  {
   "cell_type": "code",
   "execution_count": 9,
   "metadata": {
    "collapsed": true
   },
   "outputs": [],
   "source": [
    "from datetime import date\n",
    "a = pd.Timestamp(date(2004, 7, 1))\n",
    "\n",
    "#all_df['creation_delta_days'] = all_df.apply(lambda x: (x['creation_date'] - a).days, axis=1)\n",
    "all_df['sell_date_delta_days'] = all_df.apply(lambda x: (x['sell_date'] - a).days, axis=1)"
   ]
  },
  {
   "cell_type": "code",
   "execution_count": 10,
   "metadata": {
    "collapsed": true
   },
   "outputs": [],
   "source": [
    "all_df['indicator_code'] = all_df['indicator_code'].fillna(False)\n",
    "all_df['indicator_code'] = all_df['indicator_code'] * 1"
   ]
  },
  {
   "cell_type": "code",
   "execution_count": 11,
   "metadata": {
    "collapsed": true
   },
   "outputs": [],
   "source": [
    "all_df['status'] = all_df['status'].fillna(False)\n",
    "all_df['status'] = all_df['status'] * 1"
   ]
  },
  {
   "cell_type": "code",
   "execution_count": 12,
   "metadata": {
    "collapsed": true
   },
   "outputs": [],
   "source": [
    "all_df['hedge_value'] = all_df['hedge_value'].fillna(-1) \n",
    "all_df['hedge_value'] = all_df['hedge_value'] * 1"
   ]
  },
  {
   "cell_type": "code",
   "execution_count": 13,
   "metadata": {
    "collapsed": true
   },
   "outputs": [],
   "source": [
    "all_df['sold_ratio'] = all_df['bought'] / all_df['sold']"
   ]
  },
  {
   "cell_type": "code",
   "execution_count": 14,
   "metadata": {},
   "outputs": [
    {
     "name": "stdout",
     "output_type": "stream",
     "text": [
      "(9366, 26)\n",
      "(4801, 26)\n"
     ]
    }
   ],
   "source": [
    "train_df = all_df[:9366]\n",
    "test_df = all_df[9366:]\n",
    "\n",
    "print(train_df.shape)\n",
    "print(test_df.shape)"
   ]
  },
  {
   "cell_type": "code",
   "execution_count": 15,
   "metadata": {
    "_uuid": "320b6de314d80d7038b0ec1d9a315a0b190b56e5",
    "collapsed": true
   },
   "outputs": [],
   "source": [
    "numeric_features = test_df.columns\n",
    "numeric_features = numeric_features.drop(['creation_date', 'sell_date'])\n",
    "numeric_features = numeric_features.drop(['country_code', 'pf_category', 'currency', 'type'])\n",
    "numeric_features = numeric_features.drop(['portfolio_id', 'desk_id', 'office_id', 'return'])\n",
    "numeric_features = numeric_features.drop(['bought', 'sold'])"
   ]
  },
  {
   "cell_type": "code",
   "execution_count": 16,
   "metadata": {
    "_uuid": "9baab72c129aa7823e036b978f99e00f753d19bd"
   },
   "outputs": [
    {
     "name": "stdout",
     "output_type": "stream",
     "text": [
      "(7492, 14)\n",
      "(1874, 14)\n",
      "(7492,)\n",
      "(1874,)\n"
     ]
    }
   ],
   "source": [
    "from sklearn.model_selection import train_test_split\n",
    "train_X, valid_X, train_y, valid_y = train_test_split(train_df[numeric_features].as_matrix(), \n",
    "                                                      train_df['return'].as_matrix(),\n",
    "                                                      test_size=0.2,\n",
    "                                                      random_state=42)\n",
    "                                                                \n",
    "print(train_X.shape)\n",
    "print(valid_X.shape)                                           \n",
    "print(train_y.shape)\n",
    "print(valid_y.shape)"
   ]
  },
  {
   "cell_type": "code",
   "execution_count": 17,
   "metadata": {
    "collapsed": true
   },
   "outputs": [],
   "source": [
    "from catboost import CatBoostRegressor"
   ]
  },
  {
   "cell_type": "code",
   "execution_count": 31,
   "metadata": {},
   "outputs": [],
   "source": [
    "def getModel(depth=7, lr=0.02, border_count=128, verbose=True):\n",
    "    model = CatBoostRegressor(iterations=1000, \n",
    "                              verbose=verbose, \n",
    "                              depth=depth, \n",
    "                              learning_rate=lr,\n",
    "                              border_count=border_count,\n",
    "                              od_type='Iter',\n",
    "                              od_wait=30)\n",
    "    return model"
   ]
  },
  {
   "cell_type": "code",
   "execution_count": 32,
   "metadata": {},
   "outputs": [
    {
     "name": "stderr",
     "output_type": "stream",
     "text": [
      "C:\\opt\\Anaconda3\\lib\\site-packages\\catboost\\core.py:1529: FutureWarning: The 'verbose' parameter is deprecated, use 'logging_level' parameter instead (posible values: 'Silent', 'Verbose', 'Info', 'Debug').\n",
      "  super(CatBoostRegressor, self).__init__(params)\n"
     ]
    }
   ],
   "source": [
    "model = getModel(border_count=32, depth=6, lr=0.5)"
   ]
  },
  {
   "cell_type": "code",
   "execution_count": 33,
   "metadata": {},
   "outputs": [
    {
     "name": "stdout",
     "output_type": "stream",
     "text": [
      "0: learn: 0.01318544\ttest: 0.02226361\tbestTest: 0.02226361 (0)\ttotal: 56.4ms\tremaining: 56.4s\n",
      "1: learn: 0.00839475\ttest: 0.01981894\tbestTest: 0.01981894 (1)\ttotal: 106ms\tremaining: 53s\n",
      "2: learn: 0.006262545\ttest: 0.01886368\tbestTest: 0.01886368 (2)\ttotal: 156ms\tremaining: 51.8s\n",
      "3: learn: 0.005179522\ttest: 0.01854564\tbestTest: 0.01854564 (3)\ttotal: 214ms\tremaining: 53.3s\n",
      "4: learn: 0.004661029\ttest: 0.018403\tbestTest: 0.018403 (4)\ttotal: 272ms\tremaining: 54.2s\n",
      "5: learn: 0.004352884\ttest: 0.01833878\tbestTest: 0.01833878 (5)\ttotal: 322ms\tremaining: 53.3s\n",
      "6: learn: 0.004132316\ttest: 0.01829\tbestTest: 0.01829 (6)\ttotal: 372ms\tremaining: 52.7s\n",
      "7: learn: 0.003997127\ttest: 0.01826187\tbestTest: 0.01826187 (7)\ttotal: 421ms\tremaining: 52.2s\n",
      "8: learn: 0.003912859\ttest: 0.01825206\tbestTest: 0.01825206 (8)\ttotal: 479ms\tremaining: 52.8s\n",
      "9: learn: 0.003632085\ttest: 0.01822426\tbestTest: 0.01822426 (9)\ttotal: 581ms\tremaining: 57.5s\n",
      "10: learn: 0.003515796\ttest: 0.0181969\tbestTest: 0.0181969 (10)\ttotal: 695ms\tremaining: 1m 2s\n",
      "11: learn: 0.003471739\ttest: 0.0181874\tbestTest: 0.0181874 (11)\ttotal: 774ms\tremaining: 1m 3s\n",
      "12: learn: 0.003424571\ttest: 0.01817885\tbestTest: 0.01817885 (12)\ttotal: 857ms\tremaining: 1m 5s\n",
      "13: learn: 0.003424455\ttest: 0.01817875\tbestTest: 0.01817875 (13)\ttotal: 953ms\tremaining: 1m 7s\n",
      "14: learn: 0.003365477\ttest: 0.01815626\tbestTest: 0.01815626 (14)\ttotal: 1.01s\tremaining: 1m 6s\n",
      "15: learn: 0.003251389\ttest: 0.01809735\tbestTest: 0.01809735 (15)\ttotal: 1.08s\tremaining: 1m 6s\n",
      "16: learn: 0.00316856\ttest: 0.01807912\tbestTest: 0.01807912 (16)\ttotal: 1.13s\tremaining: 1m 5s\n",
      "17: learn: 0.003149265\ttest: 0.01807633\tbestTest: 0.01807633 (17)\ttotal: 1.19s\tremaining: 1m 5s\n",
      "18: learn: 0.003132986\ttest: 0.01807403\tbestTest: 0.01807403 (18)\ttotal: 1.25s\tremaining: 1m 4s\n",
      "19: learn: 0.003089704\ttest: 0.01807733\tbestTest: 0.01807403 (18)\ttotal: 1.3s\tremaining: 1m 3s\n",
      "20: learn: 0.003067851\ttest: 0.0180749\tbestTest: 0.01807403 (18)\ttotal: 1.36s\tremaining: 1m 3s\n",
      "21: learn: 0.003057233\ttest: 0.01807227\tbestTest: 0.01807227 (21)\ttotal: 1.42s\tremaining: 1m 2s\n",
      "22: learn: 0.00301941\ttest: 0.01806062\tbestTest: 0.01806062 (22)\ttotal: 1.47s\tremaining: 1m 2s\n",
      "23: learn: 0.002991894\ttest: 0.01805437\tbestTest: 0.01805437 (23)\ttotal: 1.53s\tremaining: 1m 2s\n",
      "24: learn: 0.002865872\ttest: 0.01805294\tbestTest: 0.01805294 (24)\ttotal: 1.59s\tremaining: 1m 2s\n",
      "25: learn: 0.002836515\ttest: 0.01800312\tbestTest: 0.01800312 (25)\ttotal: 1.65s\tremaining: 1m 1s\n",
      "26: learn: 0.002789362\ttest: 0.01789603\tbestTest: 0.01789603 (26)\ttotal: 1.71s\tremaining: 1m 1s\n",
      "27: learn: 0.002753034\ttest: 0.01787625\tbestTest: 0.01787625 (27)\ttotal: 1.76s\tremaining: 1m 1s\n",
      "28: learn: 0.002743264\ttest: 0.01788394\tbestTest: 0.01787625 (27)\ttotal: 1.81s\tremaining: 1m\n",
      "29: learn: 0.002730756\ttest: 0.01788343\tbestTest: 0.01787625 (27)\ttotal: 1.87s\tremaining: 1m\n",
      "30: learn: 0.002721264\ttest: 0.01787675\tbestTest: 0.01787625 (27)\ttotal: 1.92s\tremaining: 1m\n",
      "31: learn: 0.002721171\ttest: 0.01787697\tbestTest: 0.01787625 (27)\ttotal: 2s\tremaining: 1m\n",
      "32: learn: 0.00271383\ttest: 0.01787847\tbestTest: 0.01787625 (27)\ttotal: 2.12s\tremaining: 1m 2s\n",
      "33: learn: 0.002700894\ttest: 0.01787931\tbestTest: 0.01787625 (27)\ttotal: 2.18s\tremaining: 1m 1s\n",
      "34: learn: 0.0026815\ttest: 0.01786825\tbestTest: 0.01786825 (34)\ttotal: 2.24s\tremaining: 1m 1s\n",
      "35: learn: 0.002681499\ttest: 0.01786824\tbestTest: 0.01786824 (35)\ttotal: 2.29s\tremaining: 1m 1s\n",
      "36: learn: 0.002681498\ttest: 0.01786823\tbestTest: 0.01786823 (36)\ttotal: 2.33s\tremaining: 1m\n",
      "37: learn: 0.002666386\ttest: 0.01786986\tbestTest: 0.01786823 (36)\ttotal: 2.43s\tremaining: 1m 1s\n",
      "38: learn: 0.002615364\ttest: 0.01775937\tbestTest: 0.01775937 (38)\ttotal: 2.48s\tremaining: 1m 1s\n",
      "39: learn: 0.002545153\ttest: 0.01775858\tbestTest: 0.01775858 (39)\ttotal: 2.55s\tremaining: 1m 1s\n",
      "40: learn: 0.002496525\ttest: 0.01775611\tbestTest: 0.01775611 (40)\ttotal: 2.61s\tremaining: 1m 1s\n",
      "41: learn: 0.00246651\ttest: 0.0177546\tbestTest: 0.0177546 (41)\ttotal: 2.67s\tremaining: 1m\n",
      "42: learn: 0.002416065\ttest: 0.01775069\tbestTest: 0.01775069 (42)\ttotal: 2.72s\tremaining: 1m\n",
      "43: learn: 0.002404999\ttest: 0.0177472\tbestTest: 0.0177472 (43)\ttotal: 2.78s\tremaining: 1m\n",
      "44: learn: 0.00240008\ttest: 0.01774699\tbestTest: 0.01774699 (44)\ttotal: 2.86s\tremaining: 1m\n",
      "45: learn: 0.002397247\ttest: 0.01774596\tbestTest: 0.01774596 (45)\ttotal: 2.91s\tremaining: 1m\n",
      "46: learn: 0.002387882\ttest: 0.017749\tbestTest: 0.01774596 (45)\ttotal: 2.98s\tremaining: 1m\n",
      "47: learn: 0.00234476\ttest: 0.01776198\tbestTest: 0.01774596 (45)\ttotal: 3.04s\tremaining: 1m\n",
      "48: learn: 0.002306414\ttest: 0.01775977\tbestTest: 0.01774596 (45)\ttotal: 3.11s\tremaining: 1m\n",
      "49: learn: 0.002301802\ttest: 0.01775946\tbestTest: 0.01774596 (45)\ttotal: 3.16s\tremaining: 1m\n",
      "50: learn: 0.002276308\ttest: 0.01779504\tbestTest: 0.01774596 (45)\ttotal: 3.22s\tremaining: 60s\n",
      "51: learn: 0.00227342\ttest: 0.01779388\tbestTest: 0.01774596 (45)\ttotal: 3.28s\tremaining: 59.8s\n",
      "52: learn: 0.002243934\ttest: 0.01779622\tbestTest: 0.01774596 (45)\ttotal: 3.46s\tremaining: 1m 1s\n",
      "53: learn: 0.002222811\ttest: 0.0178057\tbestTest: 0.01774596 (45)\ttotal: 3.52s\tremaining: 1m 1s\n",
      "54: learn: 0.002222797\ttest: 0.0178058\tbestTest: 0.01774596 (45)\ttotal: 3.63s\tremaining: 1m 2s\n",
      "55: learn: 0.002212366\ttest: 0.01780434\tbestTest: 0.01774596 (45)\ttotal: 3.7s\tremaining: 1m 2s\n",
      "56: learn: 0.00220071\ttest: 0.01780415\tbestTest: 0.01774596 (45)\ttotal: 3.75s\tremaining: 1m 2s\n",
      "57: learn: 0.002190764\ttest: 0.01780208\tbestTest: 0.01774596 (45)\ttotal: 3.8s\tremaining: 1m 1s\n",
      "58: learn: 0.002173559\ttest: 0.01786575\tbestTest: 0.01774596 (45)\ttotal: 3.85s\tremaining: 1m 1s\n",
      "59: learn: 0.002159054\ttest: 0.01786454\tbestTest: 0.01774596 (45)\ttotal: 3.9s\tremaining: 1m 1s\n",
      "60: learn: 0.002148898\ttest: 0.01785681\tbestTest: 0.01774596 (45)\ttotal: 3.95s\tremaining: 1m\n",
      "61: learn: 0.002115123\ttest: 0.01788329\tbestTest: 0.01774596 (45)\ttotal: 4s\tremaining: 1m\n",
      "62: learn: 0.002105806\ttest: 0.01787735\tbestTest: 0.01774596 (45)\ttotal: 4.04s\tremaining: 1m\n",
      "63: learn: 0.002101451\ttest: 0.0178746\tbestTest: 0.01774596 (45)\ttotal: 4.09s\tremaining: 59.9s\n",
      "64: learn: 0.002096311\ttest: 0.01786442\tbestTest: 0.01774596 (45)\ttotal: 4.15s\tremaining: 59.7s\n",
      "65: learn: 0.00209631\ttest: 0.01786439\tbestTest: 0.01774596 (45)\ttotal: 4.21s\tremaining: 59.6s\n",
      "66: learn: 0.002090357\ttest: 0.01786351\tbestTest: 0.01774596 (45)\ttotal: 4.27s\tremaining: 59.4s\n",
      "67: learn: 0.002008172\ttest: 0.01789211\tbestTest: 0.01774596 (45)\ttotal: 4.33s\tremaining: 59.3s\n",
      "68: learn: 0.001999584\ttest: 0.01789221\tbestTest: 0.01774596 (45)\ttotal: 4.38s\tremaining: 59.1s\n",
      "69: learn: 0.001995325\ttest: 0.01789255\tbestTest: 0.01774596 (45)\ttotal: 4.43s\tremaining: 58.8s\n",
      "70: learn: 0.001984429\ttest: 0.01783043\tbestTest: 0.01774596 (45)\ttotal: 4.47s\tremaining: 58.6s\n",
      "71: learn: 0.001969923\ttest: 0.01788535\tbestTest: 0.01774596 (45)\ttotal: 4.57s\tremaining: 58.9s\n",
      "72: learn: 0.001957495\ttest: 0.01789021\tbestTest: 0.01774596 (45)\ttotal: 4.62s\tremaining: 58.6s\n",
      "73: learn: 0.001956339\ttest: 0.01789505\tbestTest: 0.01774596 (45)\ttotal: 4.67s\tremaining: 58.4s\n",
      "74: learn: 0.00195633\ttest: 0.01789495\tbestTest: 0.01774596 (45)\ttotal: 4.81s\tremaining: 59.3s\n",
      "75: learn: 0.001946103\ttest: 0.01789472\tbestTest: 0.01774596 (45)\ttotal: 4.87s\tremaining: 59.2s\n",
      "76: learn: 0.001941161\ttest: 0.01789478\tbestTest: 0.01774596 (45)\ttotal: 4.93s\tremaining: 59.1s\n",
      "Stopped by overfitting detector  (30 iterations wait)\n",
      "\n",
      "bestTest = 0.0177459592\n",
      "bestIteration = 45\n",
      "\n"
     ]
    }
   ],
   "source": [
    "fit_model = model.fit(train_X, train_y, eval_set=(valid_X, valid_y))"
   ]
  },
  {
   "cell_type": "code",
   "execution_count": 34,
   "metadata": {
    "collapsed": true
   },
   "outputs": [],
   "source": [
    "y_predict = fit_model.predict(valid_X)"
   ]
  },
  {
   "cell_type": "code",
   "execution_count": 35,
   "metadata": {
    "collapsed": true
   },
   "outputs": [],
   "source": [
    "from sklearn.metrics import r2_score as r2_score"
   ]
  },
  {
   "cell_type": "code",
   "execution_count": 36,
   "metadata": {},
   "outputs": [
    {
     "data": {
      "text/plain": [
       "0.52126008495345544"
      ]
     },
     "execution_count": 36,
     "metadata": {},
     "output_type": "execute_result"
    }
   ],
   "source": [
    "r2_score(valid_y, y_predict)\n",
    "\n",
    "# 0.48550769455517873\n",
    "# 0.48824042779607291\n",
    "# 0.49111170421523154\n",
    "# 0.51344678397675569\n",
    "# 0.5173075327419292\n",
    "# 0.52126008495345544"
   ]
  },
  {
   "cell_type": "markdown",
   "metadata": {},
   "source": [
    "# Feature importance"
   ]
  },
  {
   "cell_type": "code",
   "execution_count": 37,
   "metadata": {
    "collapsed": true
   },
   "outputs": [],
   "source": [
    "feature_importance_df = pd.DataFrame()\n",
    "feature_importance_df['name'] = numeric_features\n",
    "feature_importance_df['value'] = model.get_feature_importance(valid_X, valid_y)\n",
    "feature_importance_df = feature_importance_df.sort_values(by=['value'])"
   ]
  },
  {
   "cell_type": "code",
   "execution_count": 38,
   "metadata": {},
   "outputs": [
    {
     "data": {
      "image/png": "[encoded data removed]",
      "text/plain": [
       "<matplotlib.figure.Figure at 0x14a5b717a90>"
      ]
     },
     "metadata": {},
     "output_type": "display_data"
    }
   ],
   "source": [
    "fig, ax = pyplot.subplots(figsize=(10,10))\n",
    "sns.barplot(ax=ax, x=feature_importance_df['value'], y=feature_importance_df['name']);"
   ]
  },
  {
   "cell_type": "code",
   "execution_count": 39,
   "metadata": {},
   "outputs": [
    {
     "data": {
      "text/html": [
       "<div>\n",
       "<style>\n",
       "    .dataframe thead tr:only-child th {\n",
       "        text-align: right;\n",
       "    }\n",
       "\n",
       "    .dataframe thead th {\n",
       "        text-align: left;\n",
       "    }\n",
       "\n",
       "    .dataframe tbody tr th {\n",
       "        vertical-align: top;\n",
       "    }\n",
       "</style>\n",
       "<table border=\"1\" class=\"dataframe\">\n",
       "  <thead>\n",
       "    <tr style=\"text-align: right;\">\n",
       "      <th></th>\n",
       "      <th>name</th>\n",
       "      <th>value</th>\n",
       "    </tr>\n",
       "  </thead>\n",
       "  <tbody>\n",
       "    <tr>\n",
       "      <th>1</th>\n",
       "      <td>hedge_value</td>\n",
       "      <td>0.002915</td>\n",
       "    </tr>\n",
       "    <tr>\n",
       "      <th>2</th>\n",
       "      <td>indicator_code</td>\n",
       "      <td>0.192814</td>\n",
       "    </tr>\n",
       "    <tr>\n",
       "      <th>7</th>\n",
       "      <td>office_id_enc</td>\n",
       "      <td>0.200224</td>\n",
       "    </tr>\n",
       "    <tr>\n",
       "      <th>10</th>\n",
       "      <td>type_enc</td>\n",
       "      <td>0.500305</td>\n",
       "    </tr>\n",
       "    <tr>\n",
       "      <th>5</th>\n",
       "      <td>status</td>\n",
       "      <td>1.210378</td>\n",
       "    </tr>\n",
       "    <tr>\n",
       "      <th>12</th>\n",
       "      <td>sell_date_delta_days</td>\n",
       "      <td>1.855237</td>\n",
       "    </tr>\n",
       "    <tr>\n",
       "      <th>9</th>\n",
       "      <td>currency_enc</td>\n",
       "      <td>2.490030</td>\n",
       "    </tr>\n",
       "    <tr>\n",
       "      <th>3</th>\n",
       "      <td>libor_rate</td>\n",
       "      <td>4.314102</td>\n",
       "    </tr>\n",
       "    <tr>\n",
       "      <th>6</th>\n",
       "      <td>country_code_enc</td>\n",
       "      <td>6.282116</td>\n",
       "    </tr>\n",
       "    <tr>\n",
       "      <th>11</th>\n",
       "      <td>duration</td>\n",
       "      <td>6.995690</td>\n",
       "    </tr>\n",
       "    <tr>\n",
       "      <th>0</th>\n",
       "      <td>euribor_rate</td>\n",
       "      <td>10.789772</td>\n",
       "    </tr>\n",
       "    <tr>\n",
       "      <th>13</th>\n",
       "      <td>sold_ratio</td>\n",
       "      <td>13.633519</td>\n",
       "    </tr>\n",
       "    <tr>\n",
       "      <th>8</th>\n",
       "      <td>pf_category_enc</td>\n",
       "      <td>13.685314</td>\n",
       "    </tr>\n",
       "    <tr>\n",
       "      <th>4</th>\n",
       "      <td>start_date</td>\n",
       "      <td>37.847583</td>\n",
       "    </tr>\n",
       "  </tbody>\n",
       "</table>\n",
       "</div>"
      ],
      "text/plain": [
       "                    name      value\n",
       "1            hedge_value   0.002915\n",
       "2         indicator_code   0.192814\n",
       "7          office_id_enc   0.200224\n",
       "10              type_enc   0.500305\n",
       "5                 status   1.210378\n",
       "12  sell_date_delta_days   1.855237\n",
       "9           currency_enc   2.490030\n",
       "3             libor_rate   4.314102\n",
       "6       country_code_enc   6.282116\n",
       "11              duration   6.995690\n",
       "0           euribor_rate  10.789772\n",
       "13            sold_ratio  13.633519\n",
       "8        pf_category_enc  13.685314\n",
       "4             start_date  37.847583"
      ]
     },
     "execution_count": 39,
     "metadata": {},
     "output_type": "execute_result"
    }
   ],
   "source": [
    "feature_importance_df"
   ]
  },
  {
   "cell_type": "markdown",
   "metadata": {},
   "source": [
    "# Criar CSV para submissão"
   ]
  },
  {
   "cell_type": "code",
   "execution_count": 40,
   "metadata": {
    "collapsed": true
   },
   "outputs": [],
   "source": [
    "y_predict = fit_model.predict(test_df[numeric_features])"
   ]
  },
  {
   "cell_type": "code",
   "execution_count": 41,
   "metadata": {},
   "outputs": [
    {
     "data": {
      "text/html": [
       "<div>\n",
       "<style>\n",
       "    .dataframe thead tr:only-child th {\n",
       "        text-align: right;\n",
       "    }\n",
       "\n",
       "    .dataframe thead th {\n",
       "        text-align: left;\n",
       "    }\n",
       "\n",
       "    .dataframe tbody tr th {\n",
       "        vertical-align: top;\n",
       "    }\n",
       "</style>\n",
       "<table border=\"1\" class=\"dataframe\">\n",
       "  <thead>\n",
       "    <tr style=\"text-align: right;\">\n",
       "      <th></th>\n",
       "      <th>portfolio_id</th>\n",
       "      <th>return</th>\n",
       "    </tr>\n",
       "  </thead>\n",
       "  <tbody>\n",
       "    <tr>\n",
       "      <th>0</th>\n",
       "      <td>PF00001001</td>\n",
       "      <td>0.028090</td>\n",
       "    </tr>\n",
       "    <tr>\n",
       "      <th>1</th>\n",
       "      <td>PF00001004</td>\n",
       "      <td>0.024348</td>\n",
       "    </tr>\n",
       "    <tr>\n",
       "      <th>2</th>\n",
       "      <td>PF00001009</td>\n",
       "      <td>0.023272</td>\n",
       "    </tr>\n",
       "    <tr>\n",
       "      <th>3</th>\n",
       "      <td>PF00001013</td>\n",
       "      <td>0.025380</td>\n",
       "    </tr>\n",
       "    <tr>\n",
       "      <th>4</th>\n",
       "      <td>PF00001014</td>\n",
       "      <td>0.027350</td>\n",
       "    </tr>\n",
       "  </tbody>\n",
       "</table>\n",
       "</div>"
      ],
      "text/plain": [
       "  portfolio_id    return\n",
       "0   PF00001001  0.028090\n",
       "1   PF00001004  0.024348\n",
       "2   PF00001009  0.023272\n",
       "3   PF00001013  0.025380\n",
       "4   PF00001014  0.027350"
      ]
     },
     "execution_count": 41,
     "metadata": {},
     "output_type": "execute_result"
    }
   ],
   "source": [
    "sample_submission_df = pd.DataFrame()\n",
    "\n",
    "sample_submission_df['portfolio_id'] = test_df['portfolio_id']\n",
    "sample_submission_df['return'] = y_predict\n",
    "sample_submission_df.head()"
   ]
  },
  {
   "cell_type": "code",
   "execution_count": 42,
   "metadata": {
    "collapsed": true
   },
   "outputs": [],
   "source": [
    "sample_submission_df.to_csv('submission2.csv', index=False)"
   ]
  },
  {
   "cell_type": "code",
   "execution_count": null,
   "metadata": {
    "collapsed": true
   },
   "outputs": [],
   "source": []
  }
 ],
 "metadata": {
  "_change_revision": 36,
  "_is_fork": false,
  "kernelspec": {
   "display_name": "Python 3",
   "language": "python",
   "name": "python3"
  },
  "language_info": {
   "codemirror_mode": {
    "name": "ipython",
    "version": 3
   },
   "file_extension": ".py",
   "mimetype": "text/x-python",
   "name": "python",
   "nbconvert_exporter": "python",
   "pygments_lexer": "ipython3",
   "version": "3.6.3"
  }
 },
 "nbformat": 4,
 "nbformat_minor": 1
}
