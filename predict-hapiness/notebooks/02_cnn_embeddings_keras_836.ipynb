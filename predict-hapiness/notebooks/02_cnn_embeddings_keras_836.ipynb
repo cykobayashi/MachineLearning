{
 "cells": [
  {
   "cell_type": "code",
   "execution_count": 1,
   "metadata": {
    "_cell_guid": "1c28b23f-c164-48fa-8f18-439ad139f85d",
    "_uuid": "e6909cc1da233cb8d1bbbd1ffb6657711295fd93"
   },
   "outputs": [
    {
     "name": "stderr",
     "output_type": "stream",
     "text": [
      "/home/ckobayashi/anaconda3/lib/python3.6/site-packages/sklearn/cross_validation.py:44: DeprecationWarning: This module was deprecated in version 0.18 in favor of the model_selection module into which all the refactored classes and functions are moved. Also note that the interface of the new CV iterators are different from that of this module. This module will be removed in 0.20.\n",
      "  \"This module will be removed in 0.20.\", DeprecationWarning)\n"
     ]
    }
   ],
   "source": [
    "import numpy as np\n",
    "np.random.seed(31)\n",
    "import pandas as pd\n",
    "from sklearn.cross_validation import train_test_split\n",
    "from subprocess import check_output"
   ]
  },
  {
   "cell_type": "code",
   "execution_count": 2,
   "metadata": {
    "_cell_guid": "dfaeea53-a796-4d1f-8dc1-167794e1b5b1",
    "_uuid": "a3ee22afefa5610745210a5954ecaf9581b5b3ef"
   },
   "outputs": [
    {
     "data": {
      "text/html": [
       "<div>\n",
       "<style>\n",
       "    .dataframe thead tr:only-child th {\n",
       "        text-align: right;\n",
       "    }\n",
       "\n",
       "    .dataframe thead th {\n",
       "        text-align: left;\n",
       "    }\n",
       "\n",
       "    .dataframe tbody tr th {\n",
       "        vertical-align: top;\n",
       "    }\n",
       "</style>\n",
       "<table border=\"1\" class=\"dataframe\">\n",
       "  <thead>\n",
       "    <tr style=\"text-align: right;\">\n",
       "      <th></th>\n",
       "      <th>User_ID</th>\n",
       "      <th>Is_Response</th>\n",
       "    </tr>\n",
       "  </thead>\n",
       "  <tbody>\n",
       "    <tr>\n",
       "      <th>0</th>\n",
       "      <td>id80132</td>\n",
       "      <td>not_happy</td>\n",
       "    </tr>\n",
       "    <tr>\n",
       "      <th>1</th>\n",
       "      <td>id80133</td>\n",
       "      <td>happy</td>\n",
       "    </tr>\n",
       "  </tbody>\n",
       "</table>\n",
       "</div>"
      ],
      "text/plain": [
       "   User_ID Is_Response\n",
       "0  id80132   not_happy\n",
       "1  id80133       happy"
      ]
     },
     "execution_count": 2,
     "metadata": {},
     "output_type": "execute_result"
    }
   ],
   "source": [
    "#LOAD DATA\n",
    "\n",
    "train = pd.read_csv(\"../input/train.csv\")\n",
    "test = pd.read_csv(\"../input/test.csv\")\n",
    "sample = pd.read_csv(\"../input/sample_submission.csv\")\n",
    "sample.head(2)"
   ]
  },
  {
   "cell_type": "code",
   "execution_count": 3,
   "metadata": {
    "_cell_guid": "4ab16324-31c2-4840-b3aa-03226e3f5ae9",
    "_uuid": "8acfe9382d6d9f03b5b39d63aebc33f23e524106"
   },
   "outputs": [
    {
     "data": {
      "text/html": [
       "<div>\n",
       "<style>\n",
       "    .dataframe thead tr:only-child th {\n",
       "        text-align: right;\n",
       "    }\n",
       "\n",
       "    .dataframe thead th {\n",
       "        text-align: left;\n",
       "    }\n",
       "\n",
       "    .dataframe tbody tr th {\n",
       "        vertical-align: top;\n",
       "    }\n",
       "</style>\n",
       "<table border=\"1\" class=\"dataframe\">\n",
       "  <thead>\n",
       "    <tr style=\"text-align: right;\">\n",
       "      <th></th>\n",
       "      <th>User_ID</th>\n",
       "      <th>Description</th>\n",
       "      <th>Browser_Used</th>\n",
       "      <th>Device_Used</th>\n",
       "      <th>happy</th>\n",
       "      <th>not_happy</th>\n",
       "    </tr>\n",
       "  </thead>\n",
       "  <tbody>\n",
       "    <tr>\n",
       "      <th>0</th>\n",
       "      <td>id10326</td>\n",
       "      <td>The room was kind of clean but had a VERY stro...</td>\n",
       "      <td>Edge</td>\n",
       "      <td>Mobile</td>\n",
       "      <td>0</td>\n",
       "      <td>1</td>\n",
       "    </tr>\n",
       "    <tr>\n",
       "      <th>1</th>\n",
       "      <td>id10327</td>\n",
       "      <td>I stayed at the Crown Plaza April -- - April -...</td>\n",
       "      <td>Internet Explorer</td>\n",
       "      <td>Mobile</td>\n",
       "      <td>0</td>\n",
       "      <td>1</td>\n",
       "    </tr>\n",
       "  </tbody>\n",
       "</table>\n",
       "</div>"
      ],
      "text/plain": [
       "   User_ID                                        Description  \\\n",
       "0  id10326  The room was kind of clean but had a VERY stro...   \n",
       "1  id10327  I stayed at the Crown Plaza April -- - April -...   \n",
       "\n",
       "        Browser_Used Device_Used  happy  not_happy  \n",
       "0               Edge      Mobile      0          1  \n",
       "1  Internet Explorer      Mobile      0          1  "
      ]
     },
     "execution_count": 3,
     "metadata": {},
     "output_type": "execute_result"
    }
   ],
   "source": [
    "#CREATE TARGET VARIABLE\n",
    "train[\"happy\"] = (train.Is_Response==\"happy\")*1\n",
    "train[\"not_happy\"] = (train.Is_Response==\"not happy\")*1\n",
    "train.drop(\"Is_Response\", 1, inplace=True)\n",
    "target_vars = [\"happy\", \"not_happy\"]\n",
    "train.head(2)"
   ]
  },
  {
   "cell_type": "code",
   "execution_count": 4,
   "metadata": {
    "_cell_guid": "60034c26-8f87-4d20-9876-0319a3209588",
    "_uuid": "70425ebf88489c8616ec264b127696a4aed86e6f"
   },
   "outputs": [
    {
     "data": {
      "text/html": [
       "<div>\n",
       "<style>\n",
       "    .dataframe thead tr:only-child th {\n",
       "        text-align: right;\n",
       "    }\n",
       "\n",
       "    .dataframe thead th {\n",
       "        text-align: left;\n",
       "    }\n",
       "\n",
       "    .dataframe tbody tr th {\n",
       "        vertical-align: top;\n",
       "    }\n",
       "</style>\n",
       "<table border=\"1\" class=\"dataframe\">\n",
       "  <thead>\n",
       "    <tr style=\"text-align: right;\">\n",
       "      <th></th>\n",
       "      <th>User_ID</th>\n",
       "      <th>Description</th>\n",
       "      <th>Browser_Used</th>\n",
       "      <th>Device_Used</th>\n",
       "      <th>happy</th>\n",
       "      <th>not_happy</th>\n",
       "      <th>stem_text</th>\n",
       "    </tr>\n",
       "  </thead>\n",
       "  <tbody>\n",
       "    <tr>\n",
       "      <th>0</th>\n",
       "      <td>id10326</td>\n",
       "      <td>The room was kind of clean but had a VERY stro...</td>\n",
       "      <td>Edge</td>\n",
       "      <td>Mobile</td>\n",
       "      <td>0</td>\n",
       "      <td>1</td>\n",
       "      <td>the room was kind of clean but had a veri stro...</td>\n",
       "    </tr>\n",
       "    <tr>\n",
       "      <th>1</th>\n",
       "      <td>id10327</td>\n",
       "      <td>I stayed at the Crown Plaza April -- - April -...</td>\n",
       "      <td>Internet Explorer</td>\n",
       "      <td>Mobile</td>\n",
       "      <td>0</td>\n",
       "      <td>1</td>\n",
       "      <td>i stay at the crown plaza april      april    ...</td>\n",
       "    </tr>\n",
       "    <tr>\n",
       "      <th>2</th>\n",
       "      <td>id10328</td>\n",
       "      <td>I booked this hotel through Hotwire at the low...</td>\n",
       "      <td>Mozilla</td>\n",
       "      <td>Tablet</td>\n",
       "      <td>0</td>\n",
       "      <td>1</td>\n",
       "      <td>i book this hotel through hotwir at the lowest...</td>\n",
       "    </tr>\n",
       "  </tbody>\n",
       "</table>\n",
       "</div>"
      ],
      "text/plain": [
       "   User_ID                                        Description  \\\n",
       "0  id10326  The room was kind of clean but had a VERY stro...   \n",
       "1  id10327  I stayed at the Crown Plaza April -- - April -...   \n",
       "2  id10328  I booked this hotel through Hotwire at the low...   \n",
       "\n",
       "        Browser_Used Device_Used  happy  not_happy  \\\n",
       "0               Edge      Mobile      0          1   \n",
       "1  Internet Explorer      Mobile      0          1   \n",
       "2            Mozilla      Tablet      0          1   \n",
       "\n",
       "                                           stem_text  \n",
       "0  the room was kind of clean but had a veri stro...  \n",
       "1  i stay at the crown plaza april      april    ...  \n",
       "2  i book this hotel through hotwir at the lowest...  "
      ]
     },
     "execution_count": 4,
     "metadata": {},
     "output_type": "execute_result"
    }
   ],
   "source": [
    "#STEMMING WORDS\n",
    "import nltk.stem as stm\n",
    "import re\n",
    "stemmer = stm.SnowballStemmer(\"english\")\n",
    "train[\"stem_text\"] = train.Description.apply(lambda x: (\" \").join([stemmer.stem(z) for z in re.sub(\"[^a-zA-Z0-9]\",\" \", x).split(\" \")]))\n",
    "test[\"stem_text\"] = test.Description.apply(lambda x: (\" \").join([stemmer.stem(z) for z in re.sub(\"[^a-zA-Z0-9]\",\" \", x).split(\" \")]))\n",
    "train.head(3)"
   ]
  },
  {
   "cell_type": "code",
   "execution_count": 5,
   "metadata": {
    "_cell_guid": "059028d2-bbfa-4b76-ba11-69c4a5375d81",
    "_uuid": "bd8004c5014e64c8f4b2d17ed9a8bbdfc3ed9fb1"
   },
   "outputs": [
    {
     "name": "stderr",
     "output_type": "stream",
     "text": [
      "Using TensorFlow backend.\n"
     ]
    },
    {
     "data": {
      "text/html": [
       "<div>\n",
       "<style>\n",
       "    .dataframe thead tr:only-child th {\n",
       "        text-align: right;\n",
       "    }\n",
       "\n",
       "    .dataframe thead th {\n",
       "        text-align: left;\n",
       "    }\n",
       "\n",
       "    .dataframe tbody tr th {\n",
       "        vertical-align: top;\n",
       "    }\n",
       "</style>\n",
       "<table border=\"1\" class=\"dataframe\">\n",
       "  <thead>\n",
       "    <tr style=\"text-align: right;\">\n",
       "      <th></th>\n",
       "      <th>User_ID</th>\n",
       "      <th>Description</th>\n",
       "      <th>Browser_Used</th>\n",
       "      <th>Device_Used</th>\n",
       "      <th>happy</th>\n",
       "      <th>not_happy</th>\n",
       "      <th>stem_text</th>\n",
       "      <th>seq_text_stem</th>\n",
       "    </tr>\n",
       "  </thead>\n",
       "  <tbody>\n",
       "    <tr>\n",
       "      <th>0</th>\n",
       "      <td>id10326</td>\n",
       "      <td>The room was kind of clean but had a VERY stro...</td>\n",
       "      <td>Edge</td>\n",
       "      <td>Mobile</td>\n",
       "      <td>0</td>\n",
       "      <td>1</td>\n",
       "      <td>the room was kind of clean but had a veri stro...</td>\n",
       "      <td>[1, 10, 5, 406, 9, 50, 19, 26, 3, 24, 1158, 40...</td>\n",
       "    </tr>\n",
       "    <tr>\n",
       "      <th>1</th>\n",
       "      <td>id10327</td>\n",
       "      <td>I stayed at the Crown Plaza April -- - April -...</td>\n",
       "      <td>Internet Explorer</td>\n",
       "      <td>Mobile</td>\n",
       "      <td>0</td>\n",
       "      <td>1</td>\n",
       "      <td>i stay at the crown plaza april      april    ...</td>\n",
       "      <td>[6, 16, 15, 1, 1254, 811, 1349, 1349, 1, 38, 5...</td>\n",
       "    </tr>\n",
       "    <tr>\n",
       "      <th>2</th>\n",
       "      <td>id10328</td>\n",
       "      <td>I booked this hotel through Hotwire at the low...</td>\n",
       "      <td>Mozilla</td>\n",
       "      <td>Tablet</td>\n",
       "      <td>0</td>\n",
       "      <td>1</td>\n",
       "      <td>i book this hotel through hotwir at the lowest...</td>\n",
       "      <td>[6, 117, 21, 11, 262, 1069, 15, 1, 2480, 104, ...</td>\n",
       "    </tr>\n",
       "  </tbody>\n",
       "</table>\n",
       "</div>"
      ],
      "text/plain": [
       "   User_ID                                        Description  \\\n",
       "0  id10326  The room was kind of clean but had a VERY stro...   \n",
       "1  id10327  I stayed at the Crown Plaza April -- - April -...   \n",
       "2  id10328  I booked this hotel through Hotwire at the low...   \n",
       "\n",
       "        Browser_Used Device_Used  happy  not_happy  \\\n",
       "0               Edge      Mobile      0          1   \n",
       "1  Internet Explorer      Mobile      0          1   \n",
       "2            Mozilla      Tablet      0          1   \n",
       "\n",
       "                                           stem_text  \\\n",
       "0  the room was kind of clean but had a veri stro...   \n",
       "1  i stay at the crown plaza april      april    ...   \n",
       "2  i book this hotel through hotwir at the lowest...   \n",
       "\n",
       "                                       seq_text_stem  \n",
       "0  [1, 10, 5, 406, 9, 50, 19, 26, 3, 24, 1158, 40...  \n",
       "1  [6, 16, 15, 1, 1254, 811, 1349, 1349, 1, 38, 5...  \n",
       "2  [6, 117, 21, 11, 262, 1069, 15, 1, 2480, 104, ...  "
      ]
     },
     "execution_count": 5,
     "metadata": {},
     "output_type": "execute_result"
    }
   ],
   "source": [
    "#PROCESS TEXT: RAW\n",
    "from keras.preprocessing.text import Tokenizer\n",
    "tok_raw = Tokenizer()\n",
    "tok_raw.fit_on_texts(train.Description.str.lower())\n",
    "tok_stem = Tokenizer()\n",
    "tok_stem.fit_on_texts(train.stem_text)\n",
    "train[\"seq_text_stem\"] = tok_stem.texts_to_sequences(train.stem_text)\n",
    "test[\"seq_text_stem\"] = tok_stem.texts_to_sequences(test.stem_text)\n",
    "train.head(3)"
   ]
  },
  {
   "cell_type": "code",
   "execution_count": 6,
   "metadata": {
    "_cell_guid": "9d27806b-22bd-47ce-b49b-4981c897ad63",
    "_uuid": "ec8a3b2b723389190443fdf6cbf67bb7d9a038e7",
    "collapsed": true
   },
   "outputs": [],
   "source": [
    "#EXTRACT DATA FOR KERAS MODEL\n",
    "from keras.preprocessing.sequence import pad_sequences\n",
    "def get_keras_data(dataset, maxlen=20):\n",
    "    X = {\n",
    "        \"stem_input\": pad_sequences(dataset.seq_text_stem, maxlen=maxlen)\n",
    "    }\n",
    "    return X\n",
    "\n",
    "\n",
    "maxlen = 60\n",
    "dtrain, dvalid = train_test_split(train, random_state=123, train_size=0.85)\n",
    "X_train = get_keras_data(dtrain, maxlen)\n",
    "y_train = np.array(dtrain[target_vars])\n",
    "X_valid = get_keras_data(dvalid, maxlen)\n",
    "y_valid = np.array(dvalid[target_vars])\n",
    "X_test = get_keras_data(test, maxlen)\n",
    "\n",
    "n_stem_seq = np.max( [np.max(X_valid[\"stem_input\"]), np.max(X_train[\"stem_input\"])])+1"
   ]
  },
  {
   "cell_type": "code",
   "execution_count": 9,
   "metadata": {
    "_cell_guid": "6c5b7b62-a184-41fb-83a5-fd1616a81665",
    "_uuid": "93410aec5ce40adf620a8a523fea2905603c53b2"
   },
   "outputs": [
    {
     "name": "stdout",
     "output_type": "stream",
     "text": [
      "_________________________________________________________________\n",
      "Layer (type)                 Output Shape              Param #   \n",
      "=================================================================\n",
      "stem_input (InputLayer)      (None, 60)                0         \n",
      "_________________________________________________________________\n",
      "embedding_3 (Embedding)      (None, 60, 50)            1587250   \n",
      "_________________________________________________________________\n",
      "spatial_dropout1d_3 (Spatial (None, 60, 50)            0         \n",
      "_________________________________________________________________\n",
      "flatten_3 (Flatten)          (None, 3000)              0         \n",
      "_________________________________________________________________\n",
      "dense_5 (Dense)              (None, 512)               1536512   \n",
      "_________________________________________________________________\n",
      "dropout_3 (Dropout)          (None, 512)               0         \n",
      "_________________________________________________________________\n",
      "dense_6 (Dense)              (None, 2)                 1026      \n",
      "=================================================================\n",
      "Total params: 3,124,788\n",
      "Trainable params: 3,124,788\n",
      "Non-trainable params: 0\n",
      "_________________________________________________________________\n"
     ]
    }
   ],
   "source": [
    "#KERAS MODEL DEFINITION\n",
    "from keras.layers import Dense, Dropout, Embedding\n",
    "from keras.layers import Flatten, Input, SpatialDropout1D\n",
    "from keras.models import Model\n",
    "from keras.optimizers import Adam \n",
    "\n",
    "def get_model():\n",
    "    embed_dim = 50\n",
    "    dropout_rate = 0.9\n",
    "    emb_dropout_rate = 0.9\n",
    "   \n",
    "    input_text = Input(shape=[maxlen], name=\"stem_input\")\n",
    "    \n",
    "    emb_lstm = SpatialDropout1D(emb_dropout_rate) (Embedding(n_stem_seq, embed_dim\n",
    "                                                ,input_length = maxlen\n",
    "                                                               ) (input_text))\n",
    "    dense = Dropout(dropout_rate) (Dense(512) (Flatten() (emb_lstm)))\n",
    "    \n",
    "    output = Dense(2, activation=\"softmax\")(dense)\n",
    "\n",
    "    model = Model([input_text], output)\n",
    "\n",
    "    model.compile(loss=\"categorical_crossentropy\", optimizer='nadam', metrics=[\"accuracy\"])\n",
    "    return model\n",
    "\n",
    "model = get_model()\n",
    "model.summary()\n",
    "    "
   ]
  },
  {
   "cell_type": "code",
   "execution_count": 10,
   "metadata": {
    "_cell_guid": "03fe721e-3ba8-4873-9f6a-0d2516f84abe",
    "_uuid": "0ac4bd8abbff316692538ee6eca702c34c946949"
   },
   "outputs": [
    {
     "name": "stdout",
     "output_type": "stream",
     "text": [
      "Train on 33092 samples, validate on 5840 samples\n",
      "Epoch 1/27\n",
      "33092/33092 [==============================] - 15s - loss: 0.6627 - acc: 0.6371 - val_loss: 0.5738 - val_acc: 0.6777\n",
      "Epoch 2/27\n",
      "33092/33092 [==============================] - 15s - loss: 0.5606 - acc: 0.7134 - val_loss: 0.4535 - val_acc: 0.7829\n",
      "Epoch 3/27\n",
      "33092/33092 [==============================] - 16s - loss: 0.4849 - acc: 0.7686 - val_loss: 0.4080 - val_acc: 0.8161\n",
      "Epoch 4/27\n",
      "33092/33092 [==============================] - 16s - loss: 0.4431 - acc: 0.7964 - val_loss: 0.3884 - val_acc: 0.8216\n",
      "Epoch 5/27\n",
      "33092/33092 [==============================] - 18s - loss: 0.4234 - acc: 0.8134 - val_loss: 0.3767 - val_acc: 0.8342\n",
      "Epoch 6/27\n",
      "33092/33092 [==============================] - 16s - loss: 0.4050 - acc: 0.8231 - val_loss: 0.3703 - val_acc: 0.8334\n",
      "Epoch 7/27\n",
      "33092/33092 [==============================] - 16s - loss: 0.3929 - acc: 0.8298 - val_loss: 0.3714 - val_acc: 0.8325\n",
      "Epoch 8/27\n",
      "33092/33092 [==============================] - 16s - loss: 0.3815 - acc: 0.8349 - val_loss: 0.3652 - val_acc: 0.8358\n",
      "Epoch 9/27\n",
      "33092/33092 [==============================] - 16s - loss: 0.3738 - acc: 0.8408 - val_loss: 0.3674 - val_acc: 0.8377\n",
      "Epoch 10/27\n",
      "33092/33092 [==============================] - 16s - loss: 0.3626 - acc: 0.8448 - val_loss: 0.3660 - val_acc: 0.8384\n",
      "Epoch 11/27\n",
      "33092/33092 [==============================] - 15s - loss: 0.3580 - acc: 0.8488 - val_loss: 0.3678 - val_acc: 0.8358\n",
      "Epoch 12/27\n",
      "33092/33092 [==============================] - 15s - loss: 0.3537 - acc: 0.8531 - val_loss: 0.3674 - val_acc: 0.8378\n",
      "Epoch 13/27\n",
      "33092/33092 [==============================] - 14s - loss: 0.3418 - acc: 0.8556 - val_loss: 0.3687 - val_acc: 0.8372\n",
      "Epoch 14/27\n",
      "33092/33092 [==============================] - 15s - loss: 0.3410 - acc: 0.8567 - val_loss: 0.3690 - val_acc: 0.8341\n",
      "Epoch 15/27\n",
      "33092/33092 [==============================] - 15s - loss: 0.3345 - acc: 0.8596 - val_loss: 0.3739 - val_acc: 0.8317\n",
      "Epoch 16/27\n",
      "33092/33092 [==============================] - 15s - loss: 0.3341 - acc: 0.8611 - val_loss: 0.3690 - val_acc: 0.8341\n",
      "Epoch 17/27\n",
      "33092/33092 [==============================] - 15s - loss: 0.3273 - acc: 0.8630 - val_loss: 0.3716 - val_acc: 0.8329\n",
      "Epoch 18/27\n",
      "33092/33092 [==============================] - 15s - loss: 0.3202 - acc: 0.8671 - val_loss: 0.3764 - val_acc: 0.8361\n",
      "Epoch 19/27\n",
      "33092/33092 [==============================] - 15s - loss: 0.3164 - acc: 0.8675 - val_loss: 0.3762 - val_acc: 0.8365\n",
      "Epoch 20/27\n",
      "33092/33092 [==============================] - 16s - loss: 0.3132 - acc: 0.8678 - val_loss: 0.3769 - val_acc: 0.8366\n",
      "Epoch 21/27\n",
      "33092/33092 [==============================] - 16s - loss: 0.3069 - acc: 0.8733 - val_loss: 0.3824 - val_acc: 0.8342\n",
      "Epoch 22/27\n",
      "33092/33092 [==============================] - 16s - loss: 0.3036 - acc: 0.8773 - val_loss: 0.3771 - val_acc: 0.8349\n",
      "Epoch 23/27\n",
      "33092/33092 [==============================] - 15s - loss: 0.2999 - acc: 0.8766 - val_loss: 0.3844 - val_acc: 0.8363\n",
      "Epoch 24/27\n",
      "33092/33092 [==============================] - 15s - loss: 0.3000 - acc: 0.8754 - val_loss: 0.3961 - val_acc: 0.8324\n",
      "Epoch 25/27\n",
      "33092/33092 [==============================] - 15s - loss: 0.2933 - acc: 0.8784 - val_loss: 0.3795 - val_acc: 0.8349\n",
      "Epoch 26/27\n",
      "33092/33092 [==============================] - 16s - loss: 0.2927 - acc: 0.8826 - val_loss: 0.3872 - val_acc: 0.8360\n",
      "Epoch 27/27\n",
      "33092/33092 [==============================] - 16s - loss: 0.2885 - acc: 0.8820 - val_loss: 0.3908 - val_acc: 0.8317\n"
     ]
    },
    {
     "data": {
      "text/plain": [
       "<keras.callbacks.History at 0x7efe06dd57f0>"
      ]
     },
     "execution_count": 10,
     "metadata": {},
     "output_type": "execute_result"
    }
   ],
   "source": [
    "#TRAIN KERAS MODEL\n",
    "model = get_model()\n",
    "model.fit(X_train, y_train, epochs=27\n",
    "          , validation_data=[X_valid, y_valid]\n",
    "         , batch_size=1024)"
   ]
  },
  {
   "cell_type": "code",
   "execution_count": 11,
   "metadata": {
    "_cell_guid": "984c13bd-9e37-4d5b-9b30-08ed8356b53c",
    "_uuid": "5aaba806022361ebdae3565f300637587ffa94d1"
   },
   "outputs": [
    {
     "name": "stdout",
     "output_type": "stream",
     "text": [
      "0.93512027076\n",
      "0.831678082192\n"
     ]
    }
   ],
   "source": [
    "#MODEL EVALUATION\n",
    "from sklearn.metrics import accuracy_score\n",
    "\n",
    "preds_train = model.predict(X_train)\n",
    "preds_valid = model.predict(X_valid)\n",
    "\n",
    "print(accuracy_score(preds_train.argmax(axis=1), y_train[0:,1]))\n",
    "print(accuracy_score(preds_valid.argmax(axis=1), y_valid[0:,1]))\n",
    "\n",
    "# 0.924573915146\n",
    "# 0.83647260274"
   ]
  },
  {
   "cell_type": "code",
   "execution_count": 14,
   "metadata": {},
   "outputs": [
    {
     "data": {
      "text/html": [
       "<div>\n",
       "<style>\n",
       "    .dataframe thead tr:only-child th {\n",
       "        text-align: right;\n",
       "    }\n",
       "\n",
       "    .dataframe thead th {\n",
       "        text-align: left;\n",
       "    }\n",
       "\n",
       "    .dataframe tbody tr th {\n",
       "        vertical-align: top;\n",
       "    }\n",
       "</style>\n",
       "<table border=\"1\" class=\"dataframe\">\n",
       "  <thead>\n",
       "    <tr style=\"text-align: right;\">\n",
       "      <th></th>\n",
       "      <th>User_ID</th>\n",
       "      <th>cnn_target_1</th>\n",
       "      <th>cnn_target_2</th>\n",
       "    </tr>\n",
       "  </thead>\n",
       "  <tbody>\n",
       "    <tr>\n",
       "      <th>0</th>\n",
       "      <td>id10326</td>\n",
       "      <td>0.206745</td>\n",
       "      <td>0.793256</td>\n",
       "    </tr>\n",
       "    <tr>\n",
       "      <th>1</th>\n",
       "      <td>id10327</td>\n",
       "      <td>0.691456</td>\n",
       "      <td>0.308544</td>\n",
       "    </tr>\n",
       "    <tr>\n",
       "      <th>2</th>\n",
       "      <td>id10328</td>\n",
       "      <td>0.031447</td>\n",
       "      <td>0.968553</td>\n",
       "    </tr>\n",
       "    <tr>\n",
       "      <th>3</th>\n",
       "      <td>id10329</td>\n",
       "      <td>0.999429</td>\n",
       "      <td>0.000571</td>\n",
       "    </tr>\n",
       "    <tr>\n",
       "      <th>4</th>\n",
       "      <td>id10330</td>\n",
       "      <td>0.675902</td>\n",
       "      <td>0.324098</td>\n",
       "    </tr>\n",
       "  </tbody>\n",
       "</table>\n",
       "</div>"
      ],
      "text/plain": [
       "   User_ID  cnn_target_1  cnn_target_2\n",
       "0  id10326      0.206745      0.793256\n",
       "1  id10327      0.691456      0.308544\n",
       "2  id10328      0.031447      0.968553\n",
       "3  id10329      0.999429      0.000571\n",
       "4  id10330      0.675902      0.324098"
      ]
     },
     "execution_count": 14,
     "metadata": {},
     "output_type": "execute_result"
    }
   ],
   "source": [
    "#PREDICTION\n",
    "preds = pd.DataFrame(model.predict(get_keras_data(train, maxlen)), columns=['cnn_target_1', 'cnn_target_2'])\n",
    "submission = pd.concat([train[\"User_ID\"],preds], 1)\n",
    "submission.to_csv(\"./cnn_train.csv\", index=False)\n",
    "submission.head()"
   ]
  },
  {
   "cell_type": "code",
   "execution_count": 15,
   "metadata": {
    "_cell_guid": "d32a8f06-2d0c-4a76-97c3-a799eee45f86",
    "_uuid": "88664b3d84bf80f8870258a52c39da9ae338adbb"
   },
   "outputs": [
    {
     "data": {
      "text/html": [
       "<div>\n",
       "<style>\n",
       "    .dataframe thead tr:only-child th {\n",
       "        text-align: right;\n",
       "    }\n",
       "\n",
       "    .dataframe thead th {\n",
       "        text-align: left;\n",
       "    }\n",
       "\n",
       "    .dataframe tbody tr th {\n",
       "        vertical-align: top;\n",
       "    }\n",
       "</style>\n",
       "<table border=\"1\" class=\"dataframe\">\n",
       "  <thead>\n",
       "    <tr style=\"text-align: right;\">\n",
       "      <th></th>\n",
       "      <th>User_ID</th>\n",
       "      <th>cnn_target_1</th>\n",
       "      <th>cnn_target_2</th>\n",
       "    </tr>\n",
       "  </thead>\n",
       "  <tbody>\n",
       "    <tr>\n",
       "      <th>0</th>\n",
       "      <td>id80132</td>\n",
       "      <td>0.044359</td>\n",
       "      <td>0.955641</td>\n",
       "    </tr>\n",
       "    <tr>\n",
       "      <th>1</th>\n",
       "      <td>id80133</td>\n",
       "      <td>0.990811</td>\n",
       "      <td>0.009190</td>\n",
       "    </tr>\n",
       "    <tr>\n",
       "      <th>2</th>\n",
       "      <td>id80134</td>\n",
       "      <td>0.088781</td>\n",
       "      <td>0.911219</td>\n",
       "    </tr>\n",
       "    <tr>\n",
       "      <th>3</th>\n",
       "      <td>id80135</td>\n",
       "      <td>0.040637</td>\n",
       "      <td>0.959363</td>\n",
       "    </tr>\n",
       "    <tr>\n",
       "      <th>4</th>\n",
       "      <td>id80136</td>\n",
       "      <td>0.999337</td>\n",
       "      <td>0.000663</td>\n",
       "    </tr>\n",
       "  </tbody>\n",
       "</table>\n",
       "</div>"
      ],
      "text/plain": [
       "   User_ID  cnn_target_1  cnn_target_2\n",
       "0  id80132      0.044359      0.955641\n",
       "1  id80133      0.990811      0.009190\n",
       "2  id80134      0.088781      0.911219\n",
       "3  id80135      0.040637      0.959363\n",
       "4  id80136      0.999337      0.000663"
      ]
     },
     "execution_count": 15,
     "metadata": {},
     "output_type": "execute_result"
    }
   ],
   "source": [
    "#PREDICTION\n",
    "preds = pd.DataFrame(model.predict(X_test), columns=['cnn_target_1', 'cnn_target_2'])\n",
    "submission = pd.concat([test[\"User_ID\"],preds], 1)\n",
    "submission.to_csv(\"./cnn_test.csv\", index=False)\n",
    "submission.head()"
   ]
  },
  {
   "cell_type": "code",
   "execution_count": null,
   "metadata": {
    "_cell_guid": "c3abcea6-f446-4e24-a766-dd9b79b48c61",
    "_uuid": "008290e65112053a321b793f4e116f6314823164",
    "collapsed": true
   },
   "outputs": [],
   "source": []
  }
 ],
 "metadata": {
  "kernelspec": {
   "display_name": "Python 3",
   "language": "python",
   "name": "python3"
  },
  "language_info": {
   "codemirror_mode": {
    "name": "ipython",
    "version": 3
   },
   "file_extension": ".py",
   "mimetype": "text/x-python",
   "name": "python",
   "nbconvert_exporter": "python",
   "pygments_lexer": "ipython3",
   "version": "3.6.1"
  }
 },
 "nbformat": 4,
 "nbformat_minor": 1
}
