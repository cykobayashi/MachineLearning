{
 "cells": [
  {
   "cell_type": "markdown",
   "metadata": {},
   "source": [
    "### Introduction"
   ]
  },
  {
   "cell_type": "code",
   "execution_count": 1,
   "metadata": {
    "collapsed": true
   },
   "outputs": [],
   "source": [
    "# Load Libraries\n",
    "import numpy as np\n",
    "import pandas as pd\n",
    "from nltk.corpus import stopwords\n",
    "from nltk.stem import PorterStemmer\n",
    "from sklearn.ensemble import GradientBoostingClassifier\n",
    "from sklearn.preprocessing import LabelEncoder\n",
    "import re\n",
    "from sklearn.model_selection import cross_val_score\n",
    "from sklearn.metrics import accuracy_score, make_scorer"
   ]
  },
  {
   "cell_type": "code",
   "execution_count": 2,
   "metadata": {
    "collapsed": true
   },
   "outputs": [],
   "source": [
    "# load data\n",
    "train_df = pd.read_csv(\"../input/train.csv\")\n",
    "test_df = pd.read_csv(\"../input/test.csv\")"
   ]
  },
  {
   "cell_type": "code",
   "execution_count": 3,
   "metadata": {
    "collapsed": true
   },
   "outputs": [],
   "source": [
    "cnn_train_df = pd.read_csv(\"cat_countvec_train.csv\")\n",
    "cnn_test_df = pd.read_csv(\"cat_countvec_test.csv\")"
   ]
  },
  {
   "cell_type": "code",
   "execution_count": 4,
   "metadata": {
    "collapsed": true
   },
   "outputs": [],
   "source": [
    "cnn2_train_df = pd.read_csv(\"cnn_train.csv\")\n",
    "cnn2_test_df = pd.read_csv(\"cnn_test.csv\")"
   ]
  },
  {
   "cell_type": "code",
   "execution_count": 5,
   "metadata": {
    "collapsed": true
   },
   "outputs": [],
   "source": [
    "train_df = pd.merge(train_df, cnn_train_df, on='User_ID', how='left')\n",
    "test_df = pd.merge(test_df, cnn_test_df, on='User_ID', how='left')"
   ]
  },
  {
   "cell_type": "code",
   "execution_count": 6,
   "metadata": {
    "collapsed": true
   },
   "outputs": [],
   "source": [
    "train_df = pd.merge(train_df, cnn2_train_df, on='User_ID', how='left')\n",
    "test_df = pd.merge(test_df, cnn2_test_df, on='User_ID', how='left')"
   ]
  },
  {
   "cell_type": "code",
   "execution_count": 7,
   "metadata": {},
   "outputs": [
    {
     "data": {
      "text/html": [
       "<div>\n",
       "<style>\n",
       "    .dataframe thead tr:only-child th {\n",
       "        text-align: right;\n",
       "    }\n",
       "\n",
       "    .dataframe thead th {\n",
       "        text-align: left;\n",
       "    }\n",
       "\n",
       "    .dataframe tbody tr th {\n",
       "        vertical-align: top;\n",
       "    }\n",
       "</style>\n",
       "<table border=\"1\" class=\"dataframe\">\n",
       "  <thead>\n",
       "    <tr style=\"text-align: right;\">\n",
       "      <th></th>\n",
       "      <th>User_ID</th>\n",
       "      <th>Description</th>\n",
       "      <th>Browser_Used</th>\n",
       "      <th>Device_Used</th>\n",
       "      <th>Is_Response</th>\n",
       "      <th>happy</th>\n",
       "      <th>not_happy</th>\n",
       "      <th>cnn_target_1</th>\n",
       "      <th>cnn_target_2</th>\n",
       "    </tr>\n",
       "  </thead>\n",
       "  <tbody>\n",
       "    <tr>\n",
       "      <th>0</th>\n",
       "      <td>id10326</td>\n",
       "      <td>The room was kind of clean but had a VERY stro...</td>\n",
       "      <td>Edge</td>\n",
       "      <td>Mobile</td>\n",
       "      <td>not happy</td>\n",
       "      <td>0.044895</td>\n",
       "      <td>0.955105</td>\n",
       "      <td>0.206745</td>\n",
       "      <td>0.793256</td>\n",
       "    </tr>\n",
       "    <tr>\n",
       "      <th>1</th>\n",
       "      <td>id10327</td>\n",
       "      <td>I stayed at the Crown Plaza April -- - April -...</td>\n",
       "      <td>Internet Explorer</td>\n",
       "      <td>Mobile</td>\n",
       "      <td>not happy</td>\n",
       "      <td>0.226909</td>\n",
       "      <td>0.773091</td>\n",
       "      <td>0.691456</td>\n",
       "      <td>0.308544</td>\n",
       "    </tr>\n",
       "    <tr>\n",
       "      <th>2</th>\n",
       "      <td>id10328</td>\n",
       "      <td>I booked this hotel through Hotwire at the low...</td>\n",
       "      <td>Mozilla</td>\n",
       "      <td>Tablet</td>\n",
       "      <td>not happy</td>\n",
       "      <td>0.035158</td>\n",
       "      <td>0.964842</td>\n",
       "      <td>0.031447</td>\n",
       "      <td>0.968553</td>\n",
       "    </tr>\n",
       "    <tr>\n",
       "      <th>3</th>\n",
       "      <td>id10329</td>\n",
       "      <td>Stayed here with husband and sons on the way t...</td>\n",
       "      <td>InternetExplorer</td>\n",
       "      <td>Desktop</td>\n",
       "      <td>happy</td>\n",
       "      <td>0.995797</td>\n",
       "      <td>0.004203</td>\n",
       "      <td>0.999429</td>\n",
       "      <td>0.000571</td>\n",
       "    </tr>\n",
       "    <tr>\n",
       "      <th>4</th>\n",
       "      <td>id10330</td>\n",
       "      <td>My girlfriends and I stayed here to celebrate ...</td>\n",
       "      <td>Edge</td>\n",
       "      <td>Tablet</td>\n",
       "      <td>not happy</td>\n",
       "      <td>0.028164</td>\n",
       "      <td>0.971836</td>\n",
       "      <td>0.675902</td>\n",
       "      <td>0.324098</td>\n",
       "    </tr>\n",
       "  </tbody>\n",
       "</table>\n",
       "</div>"
      ],
      "text/plain": [
       "   User_ID                                        Description  \\\n",
       "0  id10326  The room was kind of clean but had a VERY stro...   \n",
       "1  id10327  I stayed at the Crown Plaza April -- - April -...   \n",
       "2  id10328  I booked this hotel through Hotwire at the low...   \n",
       "3  id10329  Stayed here with husband and sons on the way t...   \n",
       "4  id10330  My girlfriends and I stayed here to celebrate ...   \n",
       "\n",
       "        Browser_Used Device_Used Is_Response     happy  not_happy  \\\n",
       "0               Edge      Mobile   not happy  0.044895   0.955105   \n",
       "1  Internet Explorer      Mobile   not happy  0.226909   0.773091   \n",
       "2            Mozilla      Tablet   not happy  0.035158   0.964842   \n",
       "3   InternetExplorer     Desktop       happy  0.995797   0.004203   \n",
       "4               Edge      Tablet   not happy  0.028164   0.971836   \n",
       "\n",
       "   cnn_target_1  cnn_target_2  \n",
       "0      0.206745      0.793256  \n",
       "1      0.691456      0.308544  \n",
       "2      0.031447      0.968553  \n",
       "3      0.999429      0.000571  \n",
       "4      0.675902      0.324098  "
      ]
     },
     "execution_count": 7,
     "metadata": {},
     "output_type": "execute_result"
    }
   ],
   "source": [
    "train_df.head()"
   ]
  },
  {
   "cell_type": "code",
   "execution_count": 8,
   "metadata": {
    "collapsed": true
   },
   "outputs": [],
   "source": [
    "stopwords_set = set(stopwords.words(\"english\"))"
   ]
  },
  {
   "cell_type": "code",
   "execution_count": 9,
   "metadata": {
    "collapsed": true
   },
   "outputs": [],
   "source": [
    "## Number of words in the text ##\n",
    "train_df[\"num_words\"] = train_df[\"Description\"].apply(lambda x: len(str(x).split()))\n",
    "test_df[\"num_words\"] = test_df[\"Description\"].apply(lambda x: len(str(x).split()))"
   ]
  },
  {
   "cell_type": "code",
   "execution_count": 10,
   "metadata": {
    "collapsed": true
   },
   "outputs": [],
   "source": [
    "## Number of unique words in the text ##\n",
    "train_df[\"num_unique_words\"] = train_df[\"Description\"].apply(lambda x: len(set(str(x).split())))\n",
    "test_df[\"num_unique_words\"] = test_df[\"Description\"].apply(lambda x: len(set(str(x).split())))"
   ]
  },
  {
   "cell_type": "code",
   "execution_count": 11,
   "metadata": {
    "collapsed": true
   },
   "outputs": [],
   "source": [
    "## Number of characters in the text ##\n",
    "train_df[\"num_chars\"] = train_df[\"Description\"].apply(lambda x: len(str(x)))\n",
    "test_df[\"num_chars\"] = test_df[\"Description\"].apply(lambda x: len(str(x)))"
   ]
  },
  {
   "cell_type": "code",
   "execution_count": 12,
   "metadata": {
    "collapsed": true
   },
   "outputs": [],
   "source": [
    "## Number of stopwords in the text ##\n",
    "train_df[\"num_stopwords\"] = train_df[\"Description\"].apply(lambda x: len([w for w in str(x).lower().split() if w in stopwords_set]))\n",
    "test_df[\"num_stopwords\"] = test_df[\"Description\"].apply(lambda x: len([w for w in str(x).lower().split() if w in stopwords_set]))"
   ]
  },
  {
   "cell_type": "code",
   "execution_count": 13,
   "metadata": {
    "collapsed": true
   },
   "outputs": [],
   "source": [
    "import string\n",
    "\n",
    "train_df[\"num_punctuations_space\"] = train_df['Description'].apply(lambda x: x.count(' ') )\n",
    "test_df[\"num_punctuations_space\"] = test_df['Description'].apply(lambda x: x.count(' ') )\n",
    "\n",
    "for c in ['I', 'f']:\n",
    "    train_df[\"num_char_{}\".format(c)] = train_df['Description'].apply(lambda x: x.count(c) ) / train_df[\"num_chars\"]\n",
    "    test_df[\"num_char_{}\".format(c)] = test_df['Description'].apply(lambda x: x.count(c) ) / test_df[\"num_chars\"]\n",
    "\n",
    "for c in ['!']:\n",
    "    train_df[\"num_char_{}\".format(c)] = train_df['Description'].apply(lambda x: x.count(c) ) / train_df[\"num_chars\"]\n",
    "    test_df[\"num_char_{}\".format(c)] = test_df['Description'].apply(lambda x: x.count(c) ) / test_df[\"num_chars\"]"
   ]
  },
  {
   "cell_type": "code",
   "execution_count": 14,
   "metadata": {
    "collapsed": true
   },
   "outputs": [],
   "source": [
    "train_df[\"num_stopwords_factor\"] = train_df[\"num_stopwords\"] / train_df[\"num_words\"]\n",
    "test_df[\"num_stopwords_factor\"] = test_df[\"num_unique_words\"] / test_df[\"num_words\"]"
   ]
  },
  {
   "cell_type": "code",
   "execution_count": 15,
   "metadata": {},
   "outputs": [
    {
     "data": {
      "text/html": [
       "<div>\n",
       "<style>\n",
       "    .dataframe thead tr:only-child th {\n",
       "        text-align: right;\n",
       "    }\n",
       "\n",
       "    .dataframe thead th {\n",
       "        text-align: left;\n",
       "    }\n",
       "\n",
       "    .dataframe tbody tr th {\n",
       "        vertical-align: top;\n",
       "    }\n",
       "</style>\n",
       "<table border=\"1\" class=\"dataframe\">\n",
       "  <thead>\n",
       "    <tr style=\"text-align: right;\">\n",
       "      <th></th>\n",
       "      <th>User_ID</th>\n",
       "      <th>Description</th>\n",
       "      <th>Browser_Used</th>\n",
       "      <th>Device_Used</th>\n",
       "      <th>Is_Response</th>\n",
       "      <th>happy</th>\n",
       "      <th>not_happy</th>\n",
       "      <th>cnn_target_1</th>\n",
       "      <th>cnn_target_2</th>\n",
       "      <th>num_words</th>\n",
       "      <th>num_unique_words</th>\n",
       "      <th>num_chars</th>\n",
       "      <th>num_stopwords</th>\n",
       "      <th>num_punctuations_space</th>\n",
       "      <th>num_char_I</th>\n",
       "      <th>num_char_f</th>\n",
       "      <th>num_char_!</th>\n",
       "      <th>num_stopwords_factor</th>\n",
       "    </tr>\n",
       "  </thead>\n",
       "  <tbody>\n",
       "    <tr>\n",
       "      <th>38927</th>\n",
       "      <td>id49253</td>\n",
       "      <td>We arrived late at night and walked in to a ch...</td>\n",
       "      <td>Edge</td>\n",
       "      <td>Desktop</td>\n",
       "      <td>happy</td>\n",
       "      <td>0.580977</td>\n",
       "      <td>0.419023</td>\n",
       "      <td>0.972147</td>\n",
       "      <td>0.027853</td>\n",
       "      <td>140</td>\n",
       "      <td>94</td>\n",
       "      <td>769</td>\n",
       "      <td>72</td>\n",
       "      <td>138</td>\n",
       "      <td>0.003901</td>\n",
       "      <td>0.022107</td>\n",
       "      <td>0.0</td>\n",
       "      <td>0.514286</td>\n",
       "    </tr>\n",
       "    <tr>\n",
       "      <th>38928</th>\n",
       "      <td>id49254</td>\n",
       "      <td>The only positive impression is location and p...</td>\n",
       "      <td>InternetExplorer</td>\n",
       "      <td>Mobile</td>\n",
       "      <td>not happy</td>\n",
       "      <td>0.644477</td>\n",
       "      <td>0.355523</td>\n",
       "      <td>0.070080</td>\n",
       "      <td>0.929920</td>\n",
       "      <td>90</td>\n",
       "      <td>77</td>\n",
       "      <td>533</td>\n",
       "      <td>36</td>\n",
       "      <td>88</td>\n",
       "      <td>0.001876</td>\n",
       "      <td>0.013133</td>\n",
       "      <td>0.0</td>\n",
       "      <td>0.400000</td>\n",
       "    </tr>\n",
       "    <tr>\n",
       "      <th>38929</th>\n",
       "      <td>id49255</td>\n",
       "      <td>Traveling with friends for shopping and a show...</td>\n",
       "      <td>Firefox</td>\n",
       "      <td>Mobile</td>\n",
       "      <td>not happy</td>\n",
       "      <td>0.024995</td>\n",
       "      <td>0.975005</td>\n",
       "      <td>0.014769</td>\n",
       "      <td>0.985231</td>\n",
       "      <td>207</td>\n",
       "      <td>127</td>\n",
       "      <td>1065</td>\n",
       "      <td>101</td>\n",
       "      <td>206</td>\n",
       "      <td>0.001878</td>\n",
       "      <td>0.010329</td>\n",
       "      <td>0.0</td>\n",
       "      <td>0.487923</td>\n",
       "    </tr>\n",
       "    <tr>\n",
       "      <th>38930</th>\n",
       "      <td>id49256</td>\n",
       "      <td>The experience was just ok. We paid extra for ...</td>\n",
       "      <td>Chrome</td>\n",
       "      <td>Desktop</td>\n",
       "      <td>not happy</td>\n",
       "      <td>0.300177</td>\n",
       "      <td>0.699823</td>\n",
       "      <td>0.230790</td>\n",
       "      <td>0.769210</td>\n",
       "      <td>102</td>\n",
       "      <td>70</td>\n",
       "      <td>519</td>\n",
       "      <td>54</td>\n",
       "      <td>101</td>\n",
       "      <td>0.001927</td>\n",
       "      <td>0.017341</td>\n",
       "      <td>0.0</td>\n",
       "      <td>0.529412</td>\n",
       "    </tr>\n",
       "    <tr>\n",
       "      <th>38931</th>\n",
       "      <td>id49257</td>\n",
       "      <td>The Westin is a wonderfully restored grande da...</td>\n",
       "      <td>Mozilla</td>\n",
       "      <td>Desktop</td>\n",
       "      <td>happy</td>\n",
       "      <td>0.903681</td>\n",
       "      <td>0.096319</td>\n",
       "      <td>0.938836</td>\n",
       "      <td>0.061164</td>\n",
       "      <td>20</td>\n",
       "      <td>19</td>\n",
       "      <td>115</td>\n",
       "      <td>9</td>\n",
       "      <td>19</td>\n",
       "      <td>0.000000</td>\n",
       "      <td>0.017391</td>\n",
       "      <td>0.0</td>\n",
       "      <td>0.450000</td>\n",
       "    </tr>\n",
       "  </tbody>\n",
       "</table>\n",
       "</div>"
      ],
      "text/plain": [
       "       User_ID                                        Description  \\\n",
       "38927  id49253  We arrived late at night and walked in to a ch...   \n",
       "38928  id49254  The only positive impression is location and p...   \n",
       "38929  id49255  Traveling with friends for shopping and a show...   \n",
       "38930  id49256  The experience was just ok. We paid extra for ...   \n",
       "38931  id49257  The Westin is a wonderfully restored grande da...   \n",
       "\n",
       "           Browser_Used Device_Used Is_Response     happy  not_happy  \\\n",
       "38927              Edge     Desktop       happy  0.580977   0.419023   \n",
       "38928  InternetExplorer      Mobile   not happy  0.644477   0.355523   \n",
       "38929           Firefox      Mobile   not happy  0.024995   0.975005   \n",
       "38930            Chrome     Desktop   not happy  0.300177   0.699823   \n",
       "38931           Mozilla     Desktop       happy  0.903681   0.096319   \n",
       "\n",
       "       cnn_target_1  cnn_target_2  num_words  num_unique_words  num_chars  \\\n",
       "38927      0.972147      0.027853        140                94        769   \n",
       "38928      0.070080      0.929920         90                77        533   \n",
       "38929      0.014769      0.985231        207               127       1065   \n",
       "38930      0.230790      0.769210        102                70        519   \n",
       "38931      0.938836      0.061164         20                19        115   \n",
       "\n",
       "       num_stopwords  num_punctuations_space  num_char_I  num_char_f  \\\n",
       "38927             72                     138    0.003901    0.022107   \n",
       "38928             36                      88    0.001876    0.013133   \n",
       "38929            101                     206    0.001878    0.010329   \n",
       "38930             54                     101    0.001927    0.017341   \n",
       "38931              9                      19    0.000000    0.017391   \n",
       "\n",
       "       num_char_!  num_stopwords_factor  \n",
       "38927         0.0              0.514286  \n",
       "38928         0.0              0.400000  \n",
       "38929         0.0              0.487923  \n",
       "38930         0.0              0.529412  \n",
       "38931         0.0              0.450000  "
      ]
     },
     "execution_count": 15,
     "metadata": {},
     "output_type": "execute_result"
    }
   ],
   "source": [
    "train_df.tail()"
   ]
  },
  {
   "cell_type": "code",
   "execution_count": 16,
   "metadata": {
    "collapsed": true
   },
   "outputs": [],
   "source": [
    "## join data\n",
    "test_df['Is_Response'] = np.nan\n",
    "alldata = pd.concat([train_df, test_df]).reset_index(drop=True)"
   ]
  },
  {
   "cell_type": "code",
   "execution_count": 17,
   "metadata": {
    "collapsed": true
   },
   "outputs": [],
   "source": [
    "# split the merged data file into train and test respectively\n",
    "train_feats = alldata[~pd.isnull(alldata.Is_Response)]\n",
    "test_feats = alldata[pd.isnull(alldata.Is_Response)]"
   ]
  },
  {
   "cell_type": "code",
   "execution_count": 18,
   "metadata": {
    "collapsed": true
   },
   "outputs": [],
   "source": [
    "### set target variable\n",
    "from sklearn import preprocessing\n",
    "le = preprocessing.LabelEncoder()\n",
    "train_df['Is_Response_idx'] = le.fit_transform(train_df['Is_Response'])"
   ]
  },
  {
   "cell_type": "code",
   "execution_count": 19,
   "metadata": {},
   "outputs": [
    {
     "data": {
      "text/plain": [
       "array(['happy', 'not happy'], dtype=object)"
      ]
     },
     "execution_count": 19,
     "metadata": {},
     "output_type": "execute_result"
    }
   ],
   "source": [
    "le.classes_"
   ]
  },
  {
   "cell_type": "code",
   "execution_count": 20,
   "metadata": {},
   "outputs": [
    {
     "data": {
      "text/plain": [
       "Index(['happy', 'not_happy', 'cnn_target_1', 'cnn_target_2', 'num_words',\n",
       "       'num_unique_words', 'num_chars', 'num_stopwords',\n",
       "       'num_punctuations_space', 'num_char_I', 'num_char_f', 'num_char_!',\n",
       "       'num_stopwords_factor'],\n",
       "      dtype='object')"
      ]
     },
     "execution_count": 20,
     "metadata": {},
     "output_type": "execute_result"
    }
   ],
   "source": [
    "features = train_df.columns\n",
    "features = features.drop(['User_ID', 'Description', 'Browser_Used', 'Device_Used', 'Is_Response', 'Is_Response_idx'])\n",
    "features"
   ]
  },
  {
   "cell_type": "code",
   "execution_count": 21,
   "metadata": {},
   "outputs": [
    {
     "name": "stdout",
     "output_type": "stream",
     "text": [
      "(31145, 13)\n",
      "(7787, 13)\n",
      "(31145,)\n",
      "(7787,)\n"
     ]
    },
    {
     "name": "stderr",
     "output_type": "stream",
     "text": [
      "/home/ckobayashi/anaconda3/lib/python3.6/site-packages/sklearn/cross_validation.py:44: DeprecationWarning: This module was deprecated in version 0.18 in favor of the model_selection module into which all the refactored classes and functions are moved. Also note that the interface of the new CV iterators are different from that of this module. This module will be removed in 0.20.\n",
      "  \"This module will be removed in 0.20.\", DeprecationWarning)\n"
     ]
    }
   ],
   "source": [
    "from sklearn.cross_validation import train_test_split\n",
    "\n",
    "train_X, valid_X, train_y, valid_y = train_test_split(train_df[features].as_matrix(), \n",
    "                                                      train_df['Is_Response_idx'].as_matrix(),\n",
    "                                                      test_size=0.2,\n",
    "                                                      random_state=42)\n",
    "\n",
    "print(train_X.shape)\n",
    "print(valid_X.shape)                                           \n",
    "print(train_y.shape)\n",
    "print(valid_y.shape)"
   ]
  },
  {
   "cell_type": "markdown",
   "metadata": {},
   "source": [
    "### CatBoost\n",
    "\n",
    "Catboost is a new package recently launched by Yandex. It is said that it works well when the data has many categorical features. We'll use it on count data and see it our model improves."
   ]
  },
  {
   "cell_type": "code",
   "execution_count": 22,
   "metadata": {
    "collapsed": true
   },
   "outputs": [],
   "source": [
    "## import library\n",
    "from catboost import CatBoostClassifier,cv, Pool"
   ]
  },
  {
   "cell_type": "code",
   "execution_count": 23,
   "metadata": {
    "collapsed": true
   },
   "outputs": [],
   "source": [
    "## define the classifer model\n",
    "model = CatBoostClassifier(\n",
    "    learning_rate=0.03,\n",
    "    rsm = 0.8,\n",
    "    depth=8,\n",
    "    iterations=1000,\n",
    "    od_type = 'Iter',\n",
    "    od_wait = 10,\n",
    "    eval_metric='MultiClass',\n",
    "    loss_function='MultiClass',\n",
    "    verbose=True)"
   ]
  },
  {
   "cell_type": "code",
   "execution_count": 24,
   "metadata": {},
   "outputs": [
    {
     "data": {
      "text/plain": [
       "0    0.681213\n",
       "1    0.318787\n",
       "Name: Is_Response_idx, dtype: float64"
      ]
     },
     "execution_count": 24,
     "metadata": {},
     "output_type": "execute_result"
    }
   ],
   "source": [
    "train_df['Is_Response_idx'].value_counts(normalize=True)"
   ]
  },
  {
   "cell_type": "code",
   "execution_count": 25,
   "metadata": {
    "scrolled": false
   },
   "outputs": [
    {
     "name": "stdout",
     "output_type": "stream",
     "text": [
      "Borders for float features generated\n",
      "0:\tlearn -0.6684038356\ttest -0.6705939148\tbestTest -0.6705939148\t\ttotal: 300ms\tremaining: 5m\n",
      "1:\tlearn -0.6446595915\ttest -0.649068948\tbestTest -0.649068948\t\ttotal: 556ms\tremaining: 4m 37s\n",
      "2:\tlearn -0.6224987217\ttest -0.6288363467\tbestTest -0.6288363467\t\ttotal: 789ms\tremaining: 4m 22s\n",
      "3:\tlearn -0.6018328939\ttest -0.6099485641\tbestTest -0.6099485641\t\ttotal: 1.03s\tremaining: 4m 17s\n",
      "4:\tlearn -0.5817629249\ttest -0.5918627825\tbestTest -0.5918627825\t\ttotal: 1.26s\tremaining: 4m 9s\n",
      "5:\tlearn -0.5626500693\ttest -0.5745381608\tbestTest -0.5745381608\t\ttotal: 1.48s\tremaining: 4m 4s\n",
      "6:\tlearn -0.5446423902\ttest -0.5582368101\tbestTest -0.5582368101\t\ttotal: 1.71s\tremaining: 4m 2s\n",
      "7:\tlearn -0.5274036223\ttest -0.542693474\tbestTest -0.542693474\t\ttotal: 1.93s\tremaining: 3m 59s\n",
      "8:\tlearn -0.510949066\ttest -0.5278331906\tbestTest -0.5278331906\t\ttotal: 2.18s\tremaining: 3m 59s\n",
      "9:\tlearn -0.4953893102\ttest -0.5138345463\tbestTest -0.5138345463\t\ttotal: 2.41s\tremaining: 3m 58s\n",
      "10:\tlearn -0.4806681876\ttest -0.5006721553\tbestTest -0.5006721553\t\ttotal: 2.66s\tremaining: 3m 58s\n",
      "11:\tlearn -0.4665064063\ttest -0.4881440019\tbestTest -0.4881440019\t\ttotal: 2.89s\tremaining: 3m 57s\n",
      "12:\tlearn -0.452966344\ttest -0.4760022704\tbestTest -0.4760022704\t\ttotal: 3.14s\tremaining: 3m 58s\n",
      "13:\tlearn -0.4399715899\ttest -0.4644333306\tbestTest -0.4644333306\t\ttotal: 3.35s\tremaining: 3m 55s\n",
      "14:\tlearn -0.42782197\ttest -0.4536733776\tbestTest -0.4536733776\t\ttotal: 3.56s\tremaining: 3m 53s\n",
      "15:\tlearn -0.4160589611\ttest -0.4432056017\tbestTest -0.4432056017\t\ttotal: 3.8s\tremaining: 3m 53s\n",
      "16:\tlearn -0.4048227938\ttest -0.4331604642\tbestTest -0.4331604642\t\ttotal: 4.03s\tremaining: 3m 52s\n",
      "17:\tlearn -0.3939824421\ttest -0.4235830299\tbestTest -0.4235830299\t\ttotal: 4.24s\tremaining: 3m 51s\n",
      "18:\tlearn -0.3835419265\ttest -0.414385238\tbestTest -0.414385238\t\ttotal: 4.47s\tremaining: 3m 50s\n",
      "19:\tlearn -0.3737127676\ttest -0.4058772641\tbestTest -0.4058772641\t\ttotal: 4.7s\tremaining: 3m 50s\n",
      "20:\tlearn -0.3642273221\ttest -0.3975564928\tbestTest -0.3975564928\t\ttotal: 4.93s\tremaining: 3m 49s\n",
      "21:\tlearn -0.3551386978\ttest -0.3895364579\tbestTest -0.3895364579\t\ttotal: 5.16s\tremaining: 3m 49s\n",
      "22:\tlearn -0.34635355\ttest -0.3819004621\tbestTest -0.3819004621\t\ttotal: 5.4s\tremaining: 3m 49s\n",
      "23:\tlearn -0.3378865253\ttest -0.3744844341\tbestTest -0.3744844341\t\ttotal: 5.64s\tremaining: 3m 49s\n",
      "24:\tlearn -0.3298334093\ttest -0.3674730654\tbestTest -0.3674730654\t\ttotal: 5.86s\tremaining: 3m 48s\n",
      "25:\tlearn -0.3220943439\ttest -0.3607776922\tbestTest -0.3607776922\t\ttotal: 6.09s\tremaining: 3m 48s\n",
      "26:\tlearn -0.3146711109\ttest -0.3544909119\tbestTest -0.3544909119\t\ttotal: 6.35s\tremaining: 3m 48s\n",
      "27:\tlearn -0.3074906901\ttest -0.3484330116\tbestTest -0.3484330116\t\ttotal: 6.59s\tremaining: 3m 48s\n",
      "28:\tlearn -0.3006159443\ttest -0.3424116969\tbestTest -0.3424116969\t\ttotal: 6.83s\tremaining: 3m 48s\n",
      "29:\tlearn -0.294097745\ttest -0.336861936\tbestTest -0.336861936\t\ttotal: 7.07s\tremaining: 3m 48s\n",
      "30:\tlearn -0.2878541358\ttest -0.331570657\tbestTest -0.331570657\t\ttotal: 7.3s\tremaining: 3m 48s\n",
      "31:\tlearn -0.2816165685\ttest -0.3263110599\tbestTest -0.3263110599\t\ttotal: 7.54s\tremaining: 3m 48s\n",
      "32:\tlearn -0.2757617372\ttest -0.3215469397\tbestTest -0.3215469397\t\ttotal: 7.78s\tremaining: 3m 48s\n",
      "33:\tlearn -0.2701051063\ttest -0.3168041\tbestTest -0.3168041\t\ttotal: 8.02s\tremaining: 3m 47s\n",
      "34:\tlearn -0.2645698981\ttest -0.3121958782\tbestTest -0.3121958782\t\ttotal: 8.25s\tremaining: 3m 47s\n",
      "35:\tlearn -0.2594166011\ttest -0.3078757005\tbestTest -0.3078757005\t\ttotal: 8.49s\tremaining: 3m 47s\n",
      "36:\tlearn -0.2544232935\ttest -0.3037111809\tbestTest -0.3037111809\t\ttotal: 8.71s\tremaining: 3m 46s\n",
      "37:\tlearn -0.2495809569\ttest -0.2995649933\tbestTest -0.2995649933\t\ttotal: 8.92s\tremaining: 3m 45s\n",
      "38:\tlearn -0.2448492639\ttest -0.2957067491\tbestTest -0.2957067491\t\ttotal: 9.14s\tremaining: 3m 45s\n",
      "39:\tlearn -0.2402383716\ttest -0.2918615035\tbestTest -0.2918615035\t\ttotal: 9.34s\tremaining: 3m 44s\n",
      "40:\tlearn -0.2358399937\ttest -0.2882769248\tbestTest -0.2882769248\t\ttotal: 9.57s\tremaining: 3m 43s\n",
      "41:\tlearn -0.2316165848\ttest -0.2848090567\tbestTest -0.2848090567\t\ttotal: 9.81s\tremaining: 3m 43s\n",
      "42:\tlearn -0.2275824157\ttest -0.2813910838\tbestTest -0.2813910838\t\ttotal: 10s\tremaining: 3m 43s\n",
      "43:\tlearn -0.2236530796\ttest -0.2781699577\tbestTest -0.2781699577\t\ttotal: 10.3s\tremaining: 3m 43s\n",
      "44:\tlearn -0.2198709369\ttest -0.2749505648\tbestTest -0.2749505648\t\ttotal: 10.5s\tremaining: 3m 42s\n",
      "45:\tlearn -0.2161403068\ttest -0.2719327675\tbestTest -0.2719327675\t\ttotal: 10.7s\tremaining: 3m 42s\n",
      "46:\tlearn -0.2126180633\ttest -0.2691172047\tbestTest -0.2691172047\t\ttotal: 11s\tremaining: 3m 42s\n",
      "47:\tlearn -0.2091551925\ttest -0.2662695497\tbestTest -0.2662695497\t\ttotal: 11.2s\tremaining: 3m 41s\n",
      "48:\tlearn -0.2058822084\ttest -0.2636417282\tbestTest -0.2636417282\t\ttotal: 11.4s\tremaining: 3m 41s\n",
      "49:\tlearn -0.2027473295\ttest -0.2610113944\tbestTest -0.2610113944\t\ttotal: 11.7s\tremaining: 3m 41s\n",
      "50:\tlearn -0.1996514195\ttest -0.258651433\tbestTest -0.258651433\t\ttotal: 11.9s\tremaining: 3m 41s\n",
      "51:\tlearn -0.1967348469\ttest -0.2564827943\tbestTest -0.2564827943\t\ttotal: 12.2s\tremaining: 3m 42s\n",
      "52:\tlearn -0.1938628336\ttest -0.2542783707\tbestTest -0.2542783707\t\ttotal: 12.5s\tremaining: 3m 42s\n",
      "53:\tlearn -0.1910405591\ttest -0.2521139137\tbestTest -0.2521139137\t\ttotal: 12.7s\tremaining: 3m 42s\n",
      "54:\tlearn -0.188349787\ttest -0.2501351959\tbestTest -0.2501351959\t\ttotal: 13s\tremaining: 3m 42s\n",
      "55:\tlearn -0.1858641042\ttest -0.24829692\tbestTest -0.24829692\t\ttotal: 13.2s\tremaining: 3m 42s\n",
      "56:\tlearn -0.1833429687\ttest -0.2463732532\tbestTest -0.2463732532\t\ttotal: 13.4s\tremaining: 3m 42s\n",
      "57:\tlearn -0.180985829\ttest -0.2446618442\tbestTest -0.2446618442\t\ttotal: 13.7s\tremaining: 3m 41s\n",
      "58:\tlearn -0.1786970196\ttest -0.2429698739\tbestTest -0.2429698739\t\ttotal: 13.9s\tremaining: 3m 41s\n",
      "59:\tlearn -0.1764605366\ttest -0.241410595\tbestTest -0.241410595\t\ttotal: 14.1s\tremaining: 3m 40s\n",
      "60:\tlearn -0.1743381205\ttest -0.239868847\tbestTest -0.239868847\t\ttotal: 14.4s\tremaining: 3m 41s\n",
      "61:\tlearn -0.1722368133\ttest -0.2384080515\tbestTest -0.2384080515\t\ttotal: 14.6s\tremaining: 3m 41s\n",
      "62:\tlearn -0.1702146972\ttest -0.2369971511\tbestTest -0.2369971511\t\ttotal: 14.8s\tremaining: 3m 40s\n",
      "63:\tlearn -0.1682631224\ttest -0.2357755708\tbestTest -0.2357755708\t\ttotal: 15s\tremaining: 3m 39s\n",
      "64:\tlearn -0.1663069027\ttest -0.2343577097\tbestTest -0.2343577097\t\ttotal: 15.2s\tremaining: 3m 39s\n",
      "65:\tlearn -0.1644787258\ttest -0.2329166715\tbestTest -0.2329166715\t\ttotal: 15.5s\tremaining: 3m 38s\n",
      "66:\tlearn -0.1627503451\ttest -0.2317354626\tbestTest -0.2317354626\t\ttotal: 15.7s\tremaining: 3m 38s\n",
      "67:\tlearn -0.1610656718\ttest -0.2304529239\tbestTest -0.2304529239\t\ttotal: 16s\tremaining: 3m 38s\n",
      "68:\tlearn -0.1594130088\ttest -0.2293582154\tbestTest -0.2293582154\t\ttotal: 16.2s\tremaining: 3m 38s\n",
      "69:\tlearn -0.1578779247\ttest -0.2282636129\tbestTest -0.2282636129\t\ttotal: 16.5s\tremaining: 3m 38s\n",
      "70:\tlearn -0.1563662213\ttest -0.2274091721\tbestTest -0.2274091721\t\ttotal: 16.8s\tremaining: 3m 39s\n",
      "71:\tlearn -0.154839752\ttest -0.2262874673\tbestTest -0.2262874673\t\ttotal: 17.1s\tremaining: 3m 39s\n",
      "72:\tlearn -0.1534006447\ttest -0.2254345037\tbestTest -0.2254345037\t\ttotal: 17.4s\tremaining: 3m 40s\n",
      "73:\tlearn -0.1519435264\ttest -0.2244882017\tbestTest -0.2244882017\t\ttotal: 17.7s\tremaining: 3m 41s\n",
      "74:\tlearn -0.1505782625\ttest -0.2236696694\tbestTest -0.2236696694\t\ttotal: 18.1s\tremaining: 3m 42s\n",
      "75:\tlearn -0.149316719\ttest -0.2229793631\tbestTest -0.2229793631\t\ttotal: 18.3s\tremaining: 3m 42s\n",
      "76:\tlearn -0.1480418359\ttest -0.2221754956\tbestTest -0.2221754956\t\ttotal: 18.6s\tremaining: 3m 42s\n",
      "77:\tlearn -0.1468328856\ttest -0.2213423566\tbestTest -0.2213423566\t\ttotal: 18.8s\tremaining: 3m 42s\n",
      "78:\tlearn -0.1456967186\ttest -0.2207261087\tbestTest -0.2207261087\t\ttotal: 19.1s\tremaining: 3m 42s\n",
      "79:\tlearn -0.1446754876\ttest -0.2201191172\tbestTest -0.2201191172\t\ttotal: 19.3s\tremaining: 3m 41s\n",
      "80:\tlearn -0.143553923\ttest -0.2193917747\tbestTest -0.2193917747\t\ttotal: 19.5s\tremaining: 3m 41s\n",
      "81:\tlearn -0.1424265247\ttest -0.2187781735\tbestTest -0.2187781735\t\ttotal: 19.7s\tremaining: 3m 40s\n",
      "82:\tlearn -0.1414184846\ttest -0.2181847653\tbestTest -0.2181847653\t\ttotal: 19.9s\tremaining: 3m 40s\n",
      "83:\tlearn -0.1403659259\ttest -0.2175276477\tbestTest -0.2175276477\t\ttotal: 20.1s\tremaining: 3m 39s\n"
     ]
    },
    {
     "name": "stdout",
     "output_type": "stream",
     "text": [
      "84:\tlearn -0.1393818762\ttest -0.2170459355\tbestTest -0.2170459355\t\ttotal: 20.4s\tremaining: 3m 39s\n",
      "85:\tlearn -0.1383829809\ttest -0.2164640196\tbestTest -0.2164640196\t\ttotal: 20.6s\tremaining: 3m 38s\n",
      "86:\tlearn -0.13746902\ttest -0.2159271333\tbestTest -0.2159271333\t\ttotal: 20.8s\tremaining: 3m 38s\n",
      "87:\tlearn -0.1366702426\ttest -0.2153607284\tbestTest -0.2153607284\t\ttotal: 21.1s\tremaining: 3m 38s\n",
      "88:\tlearn -0.1358734035\ttest -0.2150077947\tbestTest -0.2150077947\t\ttotal: 21.4s\tremaining: 3m 39s\n",
      "89:\tlearn -0.1350334043\ttest -0.2146484951\tbestTest -0.2146484951\t\ttotal: 21.7s\tremaining: 3m 39s\n",
      "90:\tlearn -0.134162949\ttest -0.2140557018\tbestTest -0.2140557018\t\ttotal: 21.9s\tremaining: 3m 38s\n",
      "91:\tlearn -0.1334446532\ttest -0.2139785103\tbestTest -0.2139785103\t\ttotal: 22.2s\tremaining: 3m 38s\n",
      "92:\tlearn -0.132604074\ttest -0.2135955918\tbestTest -0.2135955918\t\ttotal: 22.4s\tremaining: 3m 38s\n",
      "93:\tlearn -0.1318520934\ttest -0.2132104267\tbestTest -0.2132104267\t\ttotal: 22.6s\tremaining: 3m 38s\n",
      "94:\tlearn -0.1311109141\ttest -0.2127679927\tbestTest -0.2127679927\t\ttotal: 22.9s\tremaining: 3m 38s\n",
      "95:\tlearn -0.1303693562\ttest -0.2124793078\tbestTest -0.2124793078\t\ttotal: 23.1s\tremaining: 3m 37s\n",
      "96:\tlearn -0.1297513022\ttest -0.2122234466\tbestTest -0.2122234466\t\ttotal: 23.3s\tremaining: 3m 37s\n",
      "97:\tlearn -0.1290643835\ttest -0.2116788802\tbestTest -0.2116788802\t\ttotal: 23.6s\tremaining: 3m 36s\n",
      "98:\tlearn -0.1284254438\ttest -0.2114535502\tbestTest -0.2114535502\t\ttotal: 23.8s\tremaining: 3m 36s\n",
      "99:\tlearn -0.1279092046\ttest -0.2112831139\tbestTest -0.2112831139\t\ttotal: 24s\tremaining: 3m 35s\n",
      "100:\tlearn -0.12733062\ttest -0.211043693\tbestTest -0.211043693\t\ttotal: 24.2s\tremaining: 3m 35s\n",
      "101:\tlearn -0.126766778\ttest -0.2109372882\tbestTest -0.2109372882\t\ttotal: 24.5s\tremaining: 3m 35s\n",
      "102:\tlearn -0.1261724478\ttest -0.2106041641\tbestTest -0.2106041641\t\ttotal: 24.7s\tremaining: 3m 35s\n",
      "103:\tlearn -0.125606916\ttest -0.2103502821\tbestTest -0.2103502821\t\ttotal: 25s\tremaining: 3m 35s\n",
      "104:\tlearn -0.1251034639\ttest -0.210178472\tbestTest -0.210178472\t\ttotal: 25.2s\tremaining: 3m 34s\n",
      "105:\tlearn -0.1245943693\ttest -0.2099089956\tbestTest -0.2099089956\t\ttotal: 25.4s\tremaining: 3m 34s\n",
      "106:\tlearn -0.1240939765\ttest -0.2098472932\tbestTest -0.2098472932\t\ttotal: 25.7s\tremaining: 3m 34s\n",
      "107:\tlearn -0.1236732643\ttest -0.2095080749\tbestTest -0.2095080749\t\ttotal: 25.9s\tremaining: 3m 34s\n",
      "108:\tlearn -0.1231728963\ttest -0.2093274524\tbestTest -0.2093274524\t\ttotal: 26.2s\tremaining: 3m 33s\n",
      "109:\tlearn -0.1228180131\ttest -0.2093269156\tbestTest -0.2093269156\t\ttotal: 26.4s\tremaining: 3m 33s\n",
      "110:\tlearn -0.122333738\ttest -0.2093354906\tbestTest -0.2093269156\t\ttotal: 26.8s\tremaining: 3m 34s\n",
      "111:\tlearn -0.1219005216\ttest -0.2092945329\tbestTest -0.2092945329\t\ttotal: 27s\tremaining: 3m 34s\n",
      "112:\tlearn -0.1214915105\ttest -0.2092143462\tbestTest -0.2092143462\t\ttotal: 27.3s\tremaining: 3m 33s\n",
      "113:\tlearn -0.1210490076\ttest -0.208990363\tbestTest -0.208990363\t\ttotal: 27.5s\tremaining: 3m 33s\n",
      "114:\tlearn -0.1206442159\ttest -0.2088870644\tbestTest -0.2088870644\t\ttotal: 27.8s\tremaining: 3m 34s\n",
      "115:\tlearn -0.1202247338\ttest -0.2087993713\tbestTest -0.2087993713\t\ttotal: 28.1s\tremaining: 3m 33s\n",
      "116:\tlearn -0.119877167\ttest -0.2087204078\tbestTest -0.2087204078\t\ttotal: 28.3s\tremaining: 3m 33s\n",
      "117:\tlearn -0.1194888877\ttest -0.2086806858\tbestTest -0.2086806858\t\ttotal: 28.6s\tremaining: 3m 33s\n",
      "118:\tlearn -0.1191916554\ttest -0.2085674264\tbestTest -0.2085674264\t\ttotal: 28.8s\tremaining: 3m 33s\n",
      "119:\tlearn -0.1187933453\ttest -0.2085100457\tbestTest -0.2085100457\t\ttotal: 29s\tremaining: 3m 32s\n",
      "120:\tlearn -0.118507316\ttest -0.2085235641\tbestTest -0.2085100457\t\ttotal: 29.3s\tremaining: 3m 32s\n",
      "121:\tlearn -0.1181783505\ttest -0.2085772263\tbestTest -0.2085100457\t\ttotal: 29.5s\tremaining: 3m 32s\n",
      "122:\tlearn -0.117882412\ttest -0.2086835563\tbestTest -0.2085100457\t\ttotal: 29.8s\tremaining: 3m 32s\n",
      "123:\tlearn -0.1175816127\ttest -0.2087823902\tbestTest -0.2085100457\t\ttotal: 30s\tremaining: 3m 32s\n",
      "124:\tlearn -0.1172760599\ttest -0.2086902333\tbestTest -0.2085100457\t\ttotal: 30.2s\tremaining: 3m 31s\n",
      "125:\tlearn -0.1169761524\ttest -0.2088045398\tbestTest -0.2085100457\t\ttotal: 30.5s\tremaining: 3m 31s\n",
      "126:\tlearn -0.1167494635\ttest -0.2087532201\tbestTest -0.2085100457\t\ttotal: 30.7s\tremaining: 3m 31s\n",
      "127:\tlearn -0.1164778936\ttest -0.2087199194\tbestTest -0.2085100457\t\ttotal: 31s\tremaining: 3m 31s\n",
      "128:\tlearn -0.1162342547\ttest -0.2088935471\tbestTest -0.2085100457\t\ttotal: 31.2s\tremaining: 3m 30s\n",
      "129:\tlearn -0.1160079442\ttest -0.2088179059\tbestTest -0.2085100457\t\ttotal: 31.4s\tremaining: 3m 30s\n",
      "130:\tlearn -0.1157644157\ttest -0.2088631624\tbestTest -0.2085100457\t\ttotal: 31.7s\tremaining: 3m 30s\n",
      "Stopped by overfitting detector  (10 iterations wait)\n",
      "\n",
      "bestTest = -0.2085100457\n",
      "bestIteration = 119\n",
      "\n"
     ]
    },
    {
     "data": {
      "text/plain": [
       "<catboost.core.CatBoostClassifier at 0x7fab476d5668>"
      ]
     },
     "execution_count": 25,
     "metadata": {},
     "output_type": "execute_result"
    }
   ],
   "source": [
    "## train model\n",
    "model.fit(train_X, train_y, eval_set=(valid_X, valid_y))"
   ]
  },
  {
   "cell_type": "code",
   "execution_count": 26,
   "metadata": {},
   "outputs": [
    {
     "data": {
      "text/html": [
       "<div>\n",
       "<style>\n",
       "    .dataframe thead tr:only-child th {\n",
       "        text-align: right;\n",
       "    }\n",
       "\n",
       "    .dataframe thead th {\n",
       "        text-align: left;\n",
       "    }\n",
       "\n",
       "    .dataframe tbody tr th {\n",
       "        vertical-align: top;\n",
       "    }\n",
       "</style>\n",
       "<table border=\"1\" class=\"dataframe\">\n",
       "  <thead>\n",
       "    <tr style=\"text-align: right;\">\n",
       "      <th></th>\n",
       "      <th>features</th>\n",
       "      <th>importances</th>\n",
       "    </tr>\n",
       "  </thead>\n",
       "  <tbody>\n",
       "    <tr>\n",
       "      <th>11</th>\n",
       "      <td>num_char_!</td>\n",
       "      <td>0.409962</td>\n",
       "    </tr>\n",
       "    <tr>\n",
       "      <th>12</th>\n",
       "      <td>num_stopwords_factor</td>\n",
       "      <td>1.113114</td>\n",
       "    </tr>\n",
       "    <tr>\n",
       "      <th>9</th>\n",
       "      <td>num_char_I</td>\n",
       "      <td>1.129818</td>\n",
       "    </tr>\n",
       "    <tr>\n",
       "      <th>10</th>\n",
       "      <td>num_char_f</td>\n",
       "      <td>1.135020</td>\n",
       "    </tr>\n",
       "    <tr>\n",
       "      <th>6</th>\n",
       "      <td>num_chars</td>\n",
       "      <td>1.532528</td>\n",
       "    </tr>\n",
       "    <tr>\n",
       "      <th>5</th>\n",
       "      <td>num_unique_words</td>\n",
       "      <td>1.624964</td>\n",
       "    </tr>\n",
       "    <tr>\n",
       "      <th>4</th>\n",
       "      <td>num_words</td>\n",
       "      <td>1.960746</td>\n",
       "    </tr>\n",
       "    <tr>\n",
       "      <th>7</th>\n",
       "      <td>num_stopwords</td>\n",
       "      <td>2.283547</td>\n",
       "    </tr>\n",
       "    <tr>\n",
       "      <th>8</th>\n",
       "      <td>num_punctuations_space</td>\n",
       "      <td>2.379077</td>\n",
       "    </tr>\n",
       "    <tr>\n",
       "      <th>3</th>\n",
       "      <td>cnn_target_2</td>\n",
       "      <td>14.391201</td>\n",
       "    </tr>\n",
       "    <tr>\n",
       "      <th>2</th>\n",
       "      <td>cnn_target_1</td>\n",
       "      <td>15.709173</td>\n",
       "    </tr>\n",
       "    <tr>\n",
       "      <th>1</th>\n",
       "      <td>not_happy</td>\n",
       "      <td>28.087468</td>\n",
       "    </tr>\n",
       "    <tr>\n",
       "      <th>0</th>\n",
       "      <td>happy</td>\n",
       "      <td>28.243382</td>\n",
       "    </tr>\n",
       "  </tbody>\n",
       "</table>\n",
       "</div>"
      ],
      "text/plain": [
       "                  features  importances\n",
       "11              num_char_!     0.409962\n",
       "12    num_stopwords_factor     1.113114\n",
       "9               num_char_I     1.129818\n",
       "10              num_char_f     1.135020\n",
       "6                num_chars     1.532528\n",
       "5         num_unique_words     1.624964\n",
       "4                num_words     1.960746\n",
       "7            num_stopwords     2.283547\n",
       "8   num_punctuations_space     2.379077\n",
       "3             cnn_target_2    14.391201\n",
       "2             cnn_target_1    15.709173\n",
       "1                not_happy    28.087468\n",
       "0                    happy    28.243382"
      ]
     },
     "execution_count": 26,
     "metadata": {},
     "output_type": "execute_result"
    }
   ],
   "source": [
    "feat_importances = model.get_feature_importance(valid_X, valid_y)\n",
    "feat_df = pd.DataFrame({'features':features, 'importances':feat_importances})\n",
    "feat_df.sort_values(by='importances')"
   ]
  },
  {
   "cell_type": "code",
   "execution_count": 27,
   "metadata": {
    "collapsed": true
   },
   "outputs": [],
   "source": [
    "y_pred = model.predict(train_df[features])"
   ]
  },
  {
   "cell_type": "code",
   "execution_count": 28,
   "metadata": {},
   "outputs": [
    {
     "data": {
      "text/plain": [
       "0.95201890475701223"
      ]
     },
     "execution_count": 28,
     "metadata": {},
     "output_type": "execute_result"
    }
   ],
   "source": [
    "from sklearn.metrics import accuracy_score\n",
    "accuracy_score(train_df['Is_Response_idx'].as_matrix(), y_pred)\n",
    "# 0.93139319839720536\n",
    "# 0.93157299907531077\n",
    "# 0.95204459056817015"
   ]
  },
  {
   "cell_type": "code",
   "execution_count": 29,
   "metadata": {},
   "outputs": [
    {
     "data": {
      "text/plain": [
       "array([ 1.,  0.,  1., ...,  0.,  0.,  0.])"
      ]
     },
     "execution_count": 29,
     "metadata": {},
     "output_type": "execute_result"
    }
   ],
   "source": [
    "## make predictions\n",
    "preds = model.predict(test_df[features])\n",
    "preds.flatten()"
   ]
  },
  {
   "cell_type": "code",
   "execution_count": 30,
   "metadata": {},
   "outputs": [
    {
     "data": {
      "text/plain": [
       "0.0    0.69681\n",
       "1.0    0.30319\n",
       "Name: preds, dtype: float64"
      ]
     },
     "execution_count": 30,
     "metadata": {},
     "output_type": "execute_result"
    }
   ],
   "source": [
    "feat_df = pd.DataFrame()\n",
    "feat_df['preds'] = preds.flatten()\n",
    "feat_df['preds'].value_counts(normalize=True)"
   ]
  },
  {
   "cell_type": "code",
   "execution_count": 31,
   "metadata": {
    "collapsed": true
   },
   "outputs": [],
   "source": [
    "test_predict = model.predict(test_df[features])"
   ]
  },
  {
   "cell_type": "code",
   "execution_count": 32,
   "metadata": {
    "collapsed": true
   },
   "outputs": [],
   "source": [
    "## make submission\n",
    "sub5 = pd.DataFrame()\n",
    "sub5['User_ID'] = test_df['User_ID']\n",
    "sub5['Is_Response'] = test_predict\n",
    "sub5['Is_Response'] = ['happy' if x < 0.499 else 'not_happy' for x in sub5['Is_Response']]"
   ]
  },
  {
   "cell_type": "code",
   "execution_count": 33,
   "metadata": {},
   "outputs": [
    {
     "data": {
      "text/html": [
       "<div>\n",
       "<style>\n",
       "    .dataframe thead tr:only-child th {\n",
       "        text-align: right;\n",
       "    }\n",
       "\n",
       "    .dataframe thead th {\n",
       "        text-align: left;\n",
       "    }\n",
       "\n",
       "    .dataframe tbody tr th {\n",
       "        vertical-align: top;\n",
       "    }\n",
       "</style>\n",
       "<table border=\"1\" class=\"dataframe\">\n",
       "  <thead>\n",
       "    <tr style=\"text-align: right;\">\n",
       "      <th></th>\n",
       "      <th>User_ID</th>\n",
       "      <th>Is_Response</th>\n",
       "    </tr>\n",
       "  </thead>\n",
       "  <tbody>\n",
       "    <tr>\n",
       "      <th>0</th>\n",
       "      <td>id80132</td>\n",
       "      <td>not_happy</td>\n",
       "    </tr>\n",
       "    <tr>\n",
       "      <th>1</th>\n",
       "      <td>id80133</td>\n",
       "      <td>happy</td>\n",
       "    </tr>\n",
       "    <tr>\n",
       "      <th>2</th>\n",
       "      <td>id80134</td>\n",
       "      <td>not_happy</td>\n",
       "    </tr>\n",
       "    <tr>\n",
       "      <th>3</th>\n",
       "      <td>id80135</td>\n",
       "      <td>not_happy</td>\n",
       "    </tr>\n",
       "    <tr>\n",
       "      <th>4</th>\n",
       "      <td>id80136</td>\n",
       "      <td>happy</td>\n",
       "    </tr>\n",
       "    <tr>\n",
       "      <th>5</th>\n",
       "      <td>id80137</td>\n",
       "      <td>happy</td>\n",
       "    </tr>\n",
       "    <tr>\n",
       "      <th>6</th>\n",
       "      <td>id80138</td>\n",
       "      <td>happy</td>\n",
       "    </tr>\n",
       "    <tr>\n",
       "      <th>7</th>\n",
       "      <td>id80139</td>\n",
       "      <td>not_happy</td>\n",
       "    </tr>\n",
       "    <tr>\n",
       "      <th>8</th>\n",
       "      <td>id80140</td>\n",
       "      <td>happy</td>\n",
       "    </tr>\n",
       "    <tr>\n",
       "      <th>9</th>\n",
       "      <td>id80141</td>\n",
       "      <td>happy</td>\n",
       "    </tr>\n",
       "    <tr>\n",
       "      <th>10</th>\n",
       "      <td>id80142</td>\n",
       "      <td>happy</td>\n",
       "    </tr>\n",
       "    <tr>\n",
       "      <th>11</th>\n",
       "      <td>id80143</td>\n",
       "      <td>happy</td>\n",
       "    </tr>\n",
       "    <tr>\n",
       "      <th>12</th>\n",
       "      <td>id80144</td>\n",
       "      <td>happy</td>\n",
       "    </tr>\n",
       "    <tr>\n",
       "      <th>13</th>\n",
       "      <td>id80145</td>\n",
       "      <td>not_happy</td>\n",
       "    </tr>\n",
       "    <tr>\n",
       "      <th>14</th>\n",
       "      <td>id80146</td>\n",
       "      <td>not_happy</td>\n",
       "    </tr>\n",
       "    <tr>\n",
       "      <th>15</th>\n",
       "      <td>id80147</td>\n",
       "      <td>happy</td>\n",
       "    </tr>\n",
       "    <tr>\n",
       "      <th>16</th>\n",
       "      <td>id80148</td>\n",
       "      <td>happy</td>\n",
       "    </tr>\n",
       "    <tr>\n",
       "      <th>17</th>\n",
       "      <td>id80149</td>\n",
       "      <td>happy</td>\n",
       "    </tr>\n",
       "    <tr>\n",
       "      <th>18</th>\n",
       "      <td>id80150</td>\n",
       "      <td>happy</td>\n",
       "    </tr>\n",
       "    <tr>\n",
       "      <th>19</th>\n",
       "      <td>id80151</td>\n",
       "      <td>happy</td>\n",
       "    </tr>\n",
       "    <tr>\n",
       "      <th>20</th>\n",
       "      <td>id80152</td>\n",
       "      <td>happy</td>\n",
       "    </tr>\n",
       "    <tr>\n",
       "      <th>21</th>\n",
       "      <td>id80153</td>\n",
       "      <td>happy</td>\n",
       "    </tr>\n",
       "    <tr>\n",
       "      <th>22</th>\n",
       "      <td>id80154</td>\n",
       "      <td>happy</td>\n",
       "    </tr>\n",
       "    <tr>\n",
       "      <th>23</th>\n",
       "      <td>id80155</td>\n",
       "      <td>not_happy</td>\n",
       "    </tr>\n",
       "    <tr>\n",
       "      <th>24</th>\n",
       "      <td>id80156</td>\n",
       "      <td>not_happy</td>\n",
       "    </tr>\n",
       "    <tr>\n",
       "      <th>25</th>\n",
       "      <td>id80157</td>\n",
       "      <td>not_happy</td>\n",
       "    </tr>\n",
       "    <tr>\n",
       "      <th>26</th>\n",
       "      <td>id80158</td>\n",
       "      <td>happy</td>\n",
       "    </tr>\n",
       "    <tr>\n",
       "      <th>27</th>\n",
       "      <td>id80159</td>\n",
       "      <td>happy</td>\n",
       "    </tr>\n",
       "    <tr>\n",
       "      <th>28</th>\n",
       "      <td>id80160</td>\n",
       "      <td>happy</td>\n",
       "    </tr>\n",
       "    <tr>\n",
       "      <th>29</th>\n",
       "      <td>id80161</td>\n",
       "      <td>not_happy</td>\n",
       "    </tr>\n",
       "    <tr>\n",
       "      <th>...</th>\n",
       "      <td>...</td>\n",
       "      <td>...</td>\n",
       "    </tr>\n",
       "    <tr>\n",
       "      <th>29374</th>\n",
       "      <td>id109506</td>\n",
       "      <td>happy</td>\n",
       "    </tr>\n",
       "    <tr>\n",
       "      <th>29375</th>\n",
       "      <td>id109507</td>\n",
       "      <td>happy</td>\n",
       "    </tr>\n",
       "    <tr>\n",
       "      <th>29376</th>\n",
       "      <td>id109508</td>\n",
       "      <td>not_happy</td>\n",
       "    </tr>\n",
       "    <tr>\n",
       "      <th>29377</th>\n",
       "      <td>id109509</td>\n",
       "      <td>happy</td>\n",
       "    </tr>\n",
       "    <tr>\n",
       "      <th>29378</th>\n",
       "      <td>id109510</td>\n",
       "      <td>happy</td>\n",
       "    </tr>\n",
       "    <tr>\n",
       "      <th>29379</th>\n",
       "      <td>id109511</td>\n",
       "      <td>happy</td>\n",
       "    </tr>\n",
       "    <tr>\n",
       "      <th>29380</th>\n",
       "      <td>id109512</td>\n",
       "      <td>happy</td>\n",
       "    </tr>\n",
       "    <tr>\n",
       "      <th>29381</th>\n",
       "      <td>id109513</td>\n",
       "      <td>not_happy</td>\n",
       "    </tr>\n",
       "    <tr>\n",
       "      <th>29382</th>\n",
       "      <td>id109514</td>\n",
       "      <td>not_happy</td>\n",
       "    </tr>\n",
       "    <tr>\n",
       "      <th>29383</th>\n",
       "      <td>id109515</td>\n",
       "      <td>happy</td>\n",
       "    </tr>\n",
       "    <tr>\n",
       "      <th>29384</th>\n",
       "      <td>id109516</td>\n",
       "      <td>happy</td>\n",
       "    </tr>\n",
       "    <tr>\n",
       "      <th>29385</th>\n",
       "      <td>id109517</td>\n",
       "      <td>not_happy</td>\n",
       "    </tr>\n",
       "    <tr>\n",
       "      <th>29386</th>\n",
       "      <td>id109518</td>\n",
       "      <td>not_happy</td>\n",
       "    </tr>\n",
       "    <tr>\n",
       "      <th>29387</th>\n",
       "      <td>id109519</td>\n",
       "      <td>happy</td>\n",
       "    </tr>\n",
       "    <tr>\n",
       "      <th>29388</th>\n",
       "      <td>id109520</td>\n",
       "      <td>happy</td>\n",
       "    </tr>\n",
       "    <tr>\n",
       "      <th>29389</th>\n",
       "      <td>id109521</td>\n",
       "      <td>happy</td>\n",
       "    </tr>\n",
       "    <tr>\n",
       "      <th>29390</th>\n",
       "      <td>id109522</td>\n",
       "      <td>happy</td>\n",
       "    </tr>\n",
       "    <tr>\n",
       "      <th>29391</th>\n",
       "      <td>id109523</td>\n",
       "      <td>not_happy</td>\n",
       "    </tr>\n",
       "    <tr>\n",
       "      <th>29392</th>\n",
       "      <td>id109524</td>\n",
       "      <td>happy</td>\n",
       "    </tr>\n",
       "    <tr>\n",
       "      <th>29393</th>\n",
       "      <td>id109525</td>\n",
       "      <td>happy</td>\n",
       "    </tr>\n",
       "    <tr>\n",
       "      <th>29394</th>\n",
       "      <td>id109526</td>\n",
       "      <td>happy</td>\n",
       "    </tr>\n",
       "    <tr>\n",
       "      <th>29395</th>\n",
       "      <td>id109527</td>\n",
       "      <td>not_happy</td>\n",
       "    </tr>\n",
       "    <tr>\n",
       "      <th>29396</th>\n",
       "      <td>id109528</td>\n",
       "      <td>happy</td>\n",
       "    </tr>\n",
       "    <tr>\n",
       "      <th>29397</th>\n",
       "      <td>id109529</td>\n",
       "      <td>happy</td>\n",
       "    </tr>\n",
       "    <tr>\n",
       "      <th>29398</th>\n",
       "      <td>id109530</td>\n",
       "      <td>happy</td>\n",
       "    </tr>\n",
       "    <tr>\n",
       "      <th>29399</th>\n",
       "      <td>id109531</td>\n",
       "      <td>happy</td>\n",
       "    </tr>\n",
       "    <tr>\n",
       "      <th>29400</th>\n",
       "      <td>id109532</td>\n",
       "      <td>happy</td>\n",
       "    </tr>\n",
       "    <tr>\n",
       "      <th>29401</th>\n",
       "      <td>id109533</td>\n",
       "      <td>happy</td>\n",
       "    </tr>\n",
       "    <tr>\n",
       "      <th>29402</th>\n",
       "      <td>id109534</td>\n",
       "      <td>happy</td>\n",
       "    </tr>\n",
       "    <tr>\n",
       "      <th>29403</th>\n",
       "      <td>id109535</td>\n",
       "      <td>happy</td>\n",
       "    </tr>\n",
       "  </tbody>\n",
       "</table>\n",
       "<p>29404 rows × 2 columns</p>\n",
       "</div>"
      ],
      "text/plain": [
       "        User_ID Is_Response\n",
       "0       id80132   not_happy\n",
       "1       id80133       happy\n",
       "2       id80134   not_happy\n",
       "3       id80135   not_happy\n",
       "4       id80136       happy\n",
       "5       id80137       happy\n",
       "6       id80138       happy\n",
       "7       id80139   not_happy\n",
       "8       id80140       happy\n",
       "9       id80141       happy\n",
       "10      id80142       happy\n",
       "11      id80143       happy\n",
       "12      id80144       happy\n",
       "13      id80145   not_happy\n",
       "14      id80146   not_happy\n",
       "15      id80147       happy\n",
       "16      id80148       happy\n",
       "17      id80149       happy\n",
       "18      id80150       happy\n",
       "19      id80151       happy\n",
       "20      id80152       happy\n",
       "21      id80153       happy\n",
       "22      id80154       happy\n",
       "23      id80155   not_happy\n",
       "24      id80156   not_happy\n",
       "25      id80157   not_happy\n",
       "26      id80158       happy\n",
       "27      id80159       happy\n",
       "28      id80160       happy\n",
       "29      id80161   not_happy\n",
       "...         ...         ...\n",
       "29374  id109506       happy\n",
       "29375  id109507       happy\n",
       "29376  id109508   not_happy\n",
       "29377  id109509       happy\n",
       "29378  id109510       happy\n",
       "29379  id109511       happy\n",
       "29380  id109512       happy\n",
       "29381  id109513   not_happy\n",
       "29382  id109514   not_happy\n",
       "29383  id109515       happy\n",
       "29384  id109516       happy\n",
       "29385  id109517   not_happy\n",
       "29386  id109518   not_happy\n",
       "29387  id109519       happy\n",
       "29388  id109520       happy\n",
       "29389  id109521       happy\n",
       "29390  id109522       happy\n",
       "29391  id109523   not_happy\n",
       "29392  id109524       happy\n",
       "29393  id109525       happy\n",
       "29394  id109526       happy\n",
       "29395  id109527   not_happy\n",
       "29396  id109528       happy\n",
       "29397  id109529       happy\n",
       "29398  id109530       happy\n",
       "29399  id109531       happy\n",
       "29400  id109532       happy\n",
       "29401  id109533       happy\n",
       "29402  id109534       happy\n",
       "29403  id109535       happy\n",
       "\n",
       "[29404 rows x 2 columns]"
      ]
     },
     "execution_count": 33,
     "metadata": {},
     "output_type": "execute_result"
    }
   ],
   "source": [
    "sub5"
   ]
  },
  {
   "cell_type": "code",
   "execution_count": 34,
   "metadata": {
    "collapsed": true
   },
   "outputs": [],
   "source": [
    "sub5.to_csv('submission.csv', index=False)"
   ]
  },
  {
   "cell_type": "code",
   "execution_count": null,
   "metadata": {
    "collapsed": true
   },
   "outputs": [],
   "source": []
  }
 ],
 "metadata": {
  "kernelspec": {
   "display_name": "Python 3",
   "language": "python",
   "name": "python3"
  },
  "language_info": {
   "codemirror_mode": {
    "name": "ipython",
    "version": 3
   },
   "file_extension": ".py",
   "mimetype": "text/x-python",
   "name": "python",
   "nbconvert_exporter": "python",
   "pygments_lexer": "ipython3",
   "version": "3.6.3"
  }
 },
 "nbformat": 4,
 "nbformat_minor": 2
}
