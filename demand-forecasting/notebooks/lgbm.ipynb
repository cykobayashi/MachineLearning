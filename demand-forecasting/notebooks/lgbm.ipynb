{
 "cells": [
  {
   "cell_type": "code",
   "execution_count": 1,
   "metadata": {
    "_cell_guid": "cfdaacbc-23a3-423d-8d4d-120939ac7383",
    "_uuid": "7ac1e40a6d3a14f48e39f54297f50cd889bde493",
    "collapsed": true
   },
   "outputs": [],
   "source": [
    "import pandas as pd\n",
    "import numpy as np\n",
    "import matplotlib.pyplot as plt\n",
    "\n",
    "from sklearn import preprocessing\n",
    "\n",
    "%matplotlib inline"
   ]
  },
  {
   "cell_type": "code",
   "execution_count": 2,
   "metadata": {},
   "outputs": [
    {
     "name": "stdout",
     "output_type": "stream",
     "text": [
      "(913000, 4)\n",
      "(45000, 4)\n"
     ]
    }
   ],
   "source": [
    "# load data\n",
    "train_df = pd.read_csv(\"../input/train.csv\")\n",
    "test_df = pd.read_csv(\"../input/test.csv\")\n",
    "\n",
    "print(train_df.shape)\n",
    "print(test_df.shape)"
   ]
  },
  {
   "cell_type": "code",
   "execution_count": 3,
   "metadata": {},
   "outputs": [
    {
     "data": {
      "text/html": [
       "<div>\n",
       "<style>\n",
       "    .dataframe thead tr:only-child th {\n",
       "        text-align: right;\n",
       "    }\n",
       "\n",
       "    .dataframe thead th {\n",
       "        text-align: left;\n",
       "    }\n",
       "\n",
       "    .dataframe tbody tr th {\n",
       "        vertical-align: top;\n",
       "    }\n",
       "</style>\n",
       "<table border=\"1\" class=\"dataframe\">\n",
       "  <thead>\n",
       "    <tr style=\"text-align: right;\">\n",
       "      <th></th>\n",
       "      <th>date</th>\n",
       "      <th>store</th>\n",
       "      <th>item</th>\n",
       "      <th>sales</th>\n",
       "    </tr>\n",
       "  </thead>\n",
       "  <tbody>\n",
       "    <tr>\n",
       "      <th>912995</th>\n",
       "      <td>2017-12-27</td>\n",
       "      <td>10</td>\n",
       "      <td>50</td>\n",
       "      <td>63</td>\n",
       "    </tr>\n",
       "    <tr>\n",
       "      <th>912996</th>\n",
       "      <td>2017-12-28</td>\n",
       "      <td>10</td>\n",
       "      <td>50</td>\n",
       "      <td>59</td>\n",
       "    </tr>\n",
       "    <tr>\n",
       "      <th>912997</th>\n",
       "      <td>2017-12-29</td>\n",
       "      <td>10</td>\n",
       "      <td>50</td>\n",
       "      <td>74</td>\n",
       "    </tr>\n",
       "    <tr>\n",
       "      <th>912998</th>\n",
       "      <td>2017-12-30</td>\n",
       "      <td>10</td>\n",
       "      <td>50</td>\n",
       "      <td>62</td>\n",
       "    </tr>\n",
       "    <tr>\n",
       "      <th>912999</th>\n",
       "      <td>2017-12-31</td>\n",
       "      <td>10</td>\n",
       "      <td>50</td>\n",
       "      <td>82</td>\n",
       "    </tr>\n",
       "  </tbody>\n",
       "</table>\n",
       "</div>"
      ],
      "text/plain": [
       "              date  store  item  sales\n",
       "912995  2017-12-27     10    50     63\n",
       "912996  2017-12-28     10    50     59\n",
       "912997  2017-12-29     10    50     74\n",
       "912998  2017-12-30     10    50     62\n",
       "912999  2017-12-31     10    50     82"
      ]
     },
     "execution_count": 3,
     "metadata": {},
     "output_type": "execute_result"
    }
   ],
   "source": [
    "train_df.tail()"
   ]
  },
  {
   "cell_type": "code",
   "execution_count": 4,
   "metadata": {},
   "outputs": [
    {
     "data": {
      "text/html": [
       "<div>\n",
       "<style>\n",
       "    .dataframe thead tr:only-child th {\n",
       "        text-align: right;\n",
       "    }\n",
       "\n",
       "    .dataframe thead th {\n",
       "        text-align: left;\n",
       "    }\n",
       "\n",
       "    .dataframe tbody tr th {\n",
       "        vertical-align: top;\n",
       "    }\n",
       "</style>\n",
       "<table border=\"1\" class=\"dataframe\">\n",
       "  <thead>\n",
       "    <tr style=\"text-align: right;\">\n",
       "      <th></th>\n",
       "      <th>id</th>\n",
       "      <th>date</th>\n",
       "      <th>store</th>\n",
       "      <th>item</th>\n",
       "    </tr>\n",
       "  </thead>\n",
       "  <tbody>\n",
       "    <tr>\n",
       "      <th>0</th>\n",
       "      <td>0</td>\n",
       "      <td>2018-01-01</td>\n",
       "      <td>1</td>\n",
       "      <td>1</td>\n",
       "    </tr>\n",
       "    <tr>\n",
       "      <th>1</th>\n",
       "      <td>1</td>\n",
       "      <td>2018-01-02</td>\n",
       "      <td>1</td>\n",
       "      <td>1</td>\n",
       "    </tr>\n",
       "    <tr>\n",
       "      <th>2</th>\n",
       "      <td>2</td>\n",
       "      <td>2018-01-03</td>\n",
       "      <td>1</td>\n",
       "      <td>1</td>\n",
       "    </tr>\n",
       "    <tr>\n",
       "      <th>3</th>\n",
       "      <td>3</td>\n",
       "      <td>2018-01-04</td>\n",
       "      <td>1</td>\n",
       "      <td>1</td>\n",
       "    </tr>\n",
       "    <tr>\n",
       "      <th>4</th>\n",
       "      <td>4</td>\n",
       "      <td>2018-01-05</td>\n",
       "      <td>1</td>\n",
       "      <td>1</td>\n",
       "    </tr>\n",
       "  </tbody>\n",
       "</table>\n",
       "</div>"
      ],
      "text/plain": [
       "   id        date  store  item\n",
       "0   0  2018-01-01      1     1\n",
       "1   1  2018-01-02      1     1\n",
       "2   2  2018-01-03      1     1\n",
       "3   3  2018-01-04      1     1\n",
       "4   4  2018-01-05      1     1"
      ]
     },
     "execution_count": 4,
     "metadata": {},
     "output_type": "execute_result"
    }
   ],
   "source": [
    "test_df.head()"
   ]
  },
  {
   "cell_type": "code",
   "execution_count": 5,
   "metadata": {},
   "outputs": [
    {
     "name": "stdout",
     "output_type": "stream",
     "text": [
      "(958000, 5)\n"
     ]
    }
   ],
   "source": [
    "all_df = pd.concat([train_df, test_df])\n",
    "print(all_df.shape)"
   ]
  },
  {
   "cell_type": "code",
   "execution_count": 6,
   "metadata": {},
   "outputs": [
    {
     "data": {
      "text/html": [
       "<div>\n",
       "<style>\n",
       "    .dataframe thead tr:only-child th {\n",
       "        text-align: right;\n",
       "    }\n",
       "\n",
       "    .dataframe thead th {\n",
       "        text-align: left;\n",
       "    }\n",
       "\n",
       "    .dataframe tbody tr th {\n",
       "        vertical-align: top;\n",
       "    }\n",
       "</style>\n",
       "<table border=\"1\" class=\"dataframe\">\n",
       "  <thead>\n",
       "    <tr style=\"text-align: right;\">\n",
       "      <th></th>\n",
       "      <th>date</th>\n",
       "      <th>id</th>\n",
       "      <th>item</th>\n",
       "      <th>sales</th>\n",
       "      <th>store</th>\n",
       "    </tr>\n",
       "  </thead>\n",
       "  <tbody>\n",
       "    <tr>\n",
       "      <th>0</th>\n",
       "      <td>2013-01-01</td>\n",
       "      <td>NaN</td>\n",
       "      <td>1</td>\n",
       "      <td>13.0</td>\n",
       "      <td>1</td>\n",
       "    </tr>\n",
       "    <tr>\n",
       "      <th>1</th>\n",
       "      <td>2013-01-02</td>\n",
       "      <td>NaN</td>\n",
       "      <td>1</td>\n",
       "      <td>11.0</td>\n",
       "      <td>1</td>\n",
       "    </tr>\n",
       "    <tr>\n",
       "      <th>2</th>\n",
       "      <td>2013-01-03</td>\n",
       "      <td>NaN</td>\n",
       "      <td>1</td>\n",
       "      <td>14.0</td>\n",
       "      <td>1</td>\n",
       "    </tr>\n",
       "    <tr>\n",
       "      <th>3</th>\n",
       "      <td>2013-01-04</td>\n",
       "      <td>NaN</td>\n",
       "      <td>1</td>\n",
       "      <td>13.0</td>\n",
       "      <td>1</td>\n",
       "    </tr>\n",
       "    <tr>\n",
       "      <th>4</th>\n",
       "      <td>2013-01-05</td>\n",
       "      <td>NaN</td>\n",
       "      <td>1</td>\n",
       "      <td>10.0</td>\n",
       "      <td>1</td>\n",
       "    </tr>\n",
       "  </tbody>\n",
       "</table>\n",
       "</div>"
      ],
      "text/plain": [
       "         date  id  item  sales  store\n",
       "0  2013-01-01 NaN     1   13.0      1\n",
       "1  2013-01-02 NaN     1   11.0      1\n",
       "2  2013-01-03 NaN     1   14.0      1\n",
       "3  2013-01-04 NaN     1   13.0      1\n",
       "4  2013-01-05 NaN     1   10.0      1"
      ]
     },
     "execution_count": 6,
     "metadata": {},
     "output_type": "execute_result"
    }
   ],
   "source": [
    "all_df.head()"
   ]
  },
  {
   "cell_type": "code",
   "execution_count": 7,
   "metadata": {},
   "outputs": [
    {
     "data": {
      "text/plain": [
       "<matplotlib.axes._subplots.AxesSubplot at 0x7fbd66152d68>"
      ]
     },
     "execution_count": 7,
     "metadata": {},
     "output_type": "execute_result"
    },
    {
     "data": {
      "image/png": "[encoded data removed]",
      "text/plain": [
       "<Figure size 432x288 with 1 Axes>"
      ]
     },
     "metadata": {},
     "output_type": "display_data"
    }
   ],
   "source": [
    "train_df['sales'].hist(bins=50)"
   ]
  },
  {
   "cell_type": "markdown",
   "metadata": {},
   "source": [
    "# feat eng"
   ]
  },
  {
   "cell_type": "code",
   "execution_count": 8,
   "metadata": {
    "collapsed": true
   },
   "outputs": [],
   "source": [
    "all_df['date'] = pd.to_datetime(all_df['date'])"
   ]
  },
  {
   "cell_type": "code",
   "execution_count": 9,
   "metadata": {
    "collapsed": true
   },
   "outputs": [],
   "source": [
    "all_df['weekday'] = all_df['date'].dt.weekday"
   ]
  },
  {
   "cell_type": "code",
   "execution_count": 10,
   "metadata": {
    "collapsed": true
   },
   "outputs": [],
   "source": [
    "all_df['day'] = all_df['date'].dt.day\n",
    "all_df['year'] = all_df['date'].dt.year\n",
    "all_df['month'] = all_df['date'].dt.month"
   ]
  },
  {
   "cell_type": "markdown",
   "metadata": {},
   "source": [
    "# numeric_features"
   ]
  },
  {
   "cell_type": "code",
   "execution_count": 11,
   "metadata": {},
   "outputs": [
    {
     "data": {
      "text/plain": [
       "Index(['date', 'id', 'item', 'sales', 'store', 'weekday', 'day', 'year',\n",
       "       'month'],\n",
       "      dtype='object')"
      ]
     },
     "execution_count": 11,
     "metadata": {},
     "output_type": "execute_result"
    }
   ],
   "source": [
    "all_df.columns"
   ]
  },
  {
   "cell_type": "code",
   "execution_count": 12,
   "metadata": {},
   "outputs": [
    {
     "data": {
      "text/plain": [
       "Index(['date'], dtype='object')"
      ]
     },
     "execution_count": 12,
     "metadata": {},
     "output_type": "execute_result"
    }
   ],
   "source": [
    "all_df.columns[[not np.issubdtype(dt, np.number) for dt in all_df.dtypes]]"
   ]
  },
  {
   "cell_type": "code",
   "execution_count": 13,
   "metadata": {
    "_uuid": "320b6de314d80d7038b0ec1d9a315a0b190b56e5",
    "collapsed": true
   },
   "outputs": [],
   "source": [
    "numeric_features = all_df.columns[[np.issubdtype(dt, np.number) for dt in all_df.dtypes]]\n",
    "numeric_features = numeric_features.drop([\n",
    "    'id', 'sales'\n",
    "])"
   ]
  },
  {
   "cell_type": "code",
   "execution_count": 14,
   "metadata": {},
   "outputs": [
    {
     "data": {
      "text/plain": [
       "Index(['item', 'store', 'weekday', 'day', 'year', 'month'], dtype='object')"
      ]
     },
     "execution_count": 14,
     "metadata": {},
     "output_type": "execute_result"
    }
   ],
   "source": [
    "numeric_features"
   ]
  },
  {
   "cell_type": "code",
   "execution_count": 15,
   "metadata": {},
   "outputs": [
    {
     "data": {
      "text/plain": [
       "[0, 1]"
      ]
     },
     "execution_count": 15,
     "metadata": {},
     "output_type": "execute_result"
    }
   ],
   "source": [
    "cat_features = []\n",
    "cat_features.append(np.where(numeric_features.values == 'item')[0][0])\n",
    "cat_features.append(np.where(numeric_features.values == 'store')[0][0])\n",
    "cat_features"
   ]
  },
  {
   "cell_type": "markdown",
   "metadata": {},
   "source": [
    "# Create Validation Dataset"
   ]
  },
  {
   "cell_type": "code",
   "execution_count": 16,
   "metadata": {},
   "outputs": [
    {
     "name": "stdout",
     "output_type": "stream",
     "text": [
      "(913000, 9)\n",
      "(45000, 9)\n"
     ]
    }
   ],
   "source": [
    "train_df = all_df[:913000]\n",
    "test_df = all_df[913000:]\n",
    "\n",
    "train_f_df = train_df[numeric_features]\n",
    "test_f_df = test_df[numeric_features]\n",
    "\n",
    "print(train_df.shape)\n",
    "print(test_df.shape)"
   ]
  },
  {
   "cell_type": "code",
   "execution_count": 17,
   "metadata": {
    "_uuid": "9baab72c129aa7823e036b978f99e00f753d19bd"
   },
   "outputs": [
    {
     "name": "stderr",
     "output_type": "stream",
     "text": [
      "Using TensorFlow backend.\n"
     ]
    },
    {
     "name": "stdout",
     "output_type": "stream",
     "text": [
      "<class 'numpy.ndarray'>\n",
      "<class 'numpy.ndarray'>\n",
      "(730400, 6)\n",
      "(182600, 6)\n",
      "(730400,)\n",
      "(182600,)\n"
     ]
    }
   ],
   "source": [
    "from sklearn.model_selection import train_test_split\n",
    "from keras.utils import np_utils\n",
    "\n",
    "train_X, valid_X, train_y, valid_y = train_test_split(train_f_df.as_matrix(), \n",
    "                                                      train_df['sales'].as_matrix(),\n",
    "                                                      test_size=0.20,\n",
    "                                                      random_state=42)\n",
    "\n",
    "print(type(train_X))\n",
    "print(type(valid_X))\n",
    "\n",
    "print(train_X.shape)\n",
    "print(valid_X.shape)                                           \n",
    "print(train_y.shape)\n",
    "print(valid_y.shape)"
   ]
  },
  {
   "cell_type": "markdown",
   "metadata": {},
   "source": [
    "# Train"
   ]
  },
  {
   "cell_type": "code",
   "execution_count": 18,
   "metadata": {
    "collapsed": true
   },
   "outputs": [],
   "source": [
    "import lightgbm as lgb"
   ]
  },
  {
   "cell_type": "code",
   "execution_count": 19,
   "metadata": {
    "collapsed": true
   },
   "outputs": [],
   "source": [
    "lgb_train = lgb.Dataset(train_X, train_y)\n",
    "lgb_eval = lgb.Dataset(valid_X, valid_y, reference=lgb_train)"
   ]
  },
  {
   "cell_type": "code",
   "execution_count": 20,
   "metadata": {
    "collapsed": true
   },
   "outputs": [],
   "source": [
    "# LightGBM parameters\n",
    "params = {\n",
    "        'task': 'train',\n",
    "        'boosting_type': 'gbdt',\n",
    "        'objective': 'regression',\n",
    "        'metric': {'mape'},\n",
    "        'learning_rate': 0.03,\n",
    "        'num_leaves': 512,\n",
    "        'num_iteration': 2000,\n",
    "        'verbose': 0\n",
    "}"
   ]
  },
  {
   "cell_type": "code",
   "execution_count": 21,
   "metadata": {},
   "outputs": [
    {
     "name": "stderr",
     "output_type": "stream",
     "text": [
      "/home/ckobayashi/anaconda3/lib/python3.6/site-packages/lightgbm/engine.py:99: UserWarning: Found `num_iteration` in params. Will use it instead of argument\n",
      "  warnings.warn(\"Found `{}` in params. Will use it instead of argument\".format(alias))\n"
     ]
    },
    {
     "name": "stdout",
     "output_type": "stream",
     "text": [
      "[1]\tvalid_0's mape: 0.661584\n",
      "Training until validation scores don't improve for 30 rounds.\n",
      "[2]\tvalid_0's mape: 0.645727\n",
      "[3]\tvalid_0's mape: 0.630428\n",
      "[4]\tvalid_0's mape: 0.615662\n",
      "[5]\tvalid_0's mape: 0.60143\n",
      "[6]\tvalid_0's mape: 0.587953\n",
      "[7]\tvalid_0's mape: 0.57486\n",
      "[8]\tvalid_0's mape: 0.562376\n",
      "[9]\tvalid_0's mape: 0.550832\n",
      "[10]\tvalid_0's mape: 0.539378\n",
      "[11]\tvalid_0's mape: 0.528689\n",
      "[12]\tvalid_0's mape: 0.518597\n",
      "[13]\tvalid_0's mape: 0.508511\n",
      "[14]\tvalid_0's mape: 0.499039\n",
      "[15]\tvalid_0's mape: 0.489805\n",
      "[16]\tvalid_0's mape: 0.481383\n",
      "[17]\tvalid_0's mape: 0.472952\n",
      "[18]\tvalid_0's mape: 0.464785\n",
      "[19]\tvalid_0's mape: 0.455849\n",
      "[20]\tvalid_0's mape: 0.448714\n",
      "[21]\tvalid_0's mape: 0.439776\n",
      "[22]\tvalid_0's mape: 0.431751\n",
      "[23]\tvalid_0's mape: 0.424835\n",
      "[24]\tvalid_0's mape: 0.416684\n",
      "[25]\tvalid_0's mape: 0.410084\n",
      "[26]\tvalid_0's mape: 0.403868\n",
      "[27]\tvalid_0's mape: 0.396536\n",
      "[28]\tvalid_0's mape: 0.390715\n",
      "[29]\tvalid_0's mape: 0.383869\n",
      "[30]\tvalid_0's mape: 0.377956\n",
      "[31]\tvalid_0's mape: 0.370783\n",
      "[32]\tvalid_0's mape: 0.365661\n",
      "[33]\tvalid_0's mape: 0.36059\n",
      "[34]\tvalid_0's mape: 0.354734\n",
      "[35]\tvalid_0's mape: 0.349492\n",
      "[36]\tvalid_0's mape: 0.344548\n",
      "[37]\tvalid_0's mape: 0.339887\n",
      "[38]\tvalid_0's mape: 0.335422\n",
      "[39]\tvalid_0's mape: 0.330829\n",
      "[40]\tvalid_0's mape: 0.326132\n",
      "[41]\tvalid_0's mape: 0.321712\n",
      "[42]\tvalid_0's mape: 0.317132\n",
      "[43]\tvalid_0's mape: 0.313529\n",
      "[44]\tvalid_0's mape: 0.309768\n",
      "[45]\tvalid_0's mape: 0.306281\n",
      "[46]\tvalid_0's mape: 0.302419\n",
      "[47]\tvalid_0's mape: 0.298352\n",
      "[48]\tvalid_0's mape: 0.294795\n",
      "[49]\tvalid_0's mape: 0.291052\n",
      "[50]\tvalid_0's mape: 0.288226\n",
      "[51]\tvalid_0's mape: 0.284369\n",
      "[52]\tvalid_0's mape: 0.281758\n",
      "[53]\tvalid_0's mape: 0.27898\n",
      "[54]\tvalid_0's mape: 0.275642\n",
      "[55]\tvalid_0's mape: 0.27218\n",
      "[56]\tvalid_0's mape: 0.269462\n",
      "[57]\tvalid_0's mape: 0.266667\n",
      "[58]\tvalid_0's mape: 0.263917\n",
      "[59]\tvalid_0's mape: 0.261348\n",
      "[60]\tvalid_0's mape: 0.257506\n",
      "[61]\tvalid_0's mape: 0.254647\n",
      "[62]\tvalid_0's mape: 0.252396\n",
      "[63]\tvalid_0's mape: 0.250019\n",
      "[64]\tvalid_0's mape: 0.247345\n",
      "[65]\tvalid_0's mape: 0.244661\n",
      "[66]\tvalid_0's mape: 0.242476\n",
      "[67]\tvalid_0's mape: 0.24027\n",
      "[68]\tvalid_0's mape: 0.237904\n",
      "[69]\tvalid_0's mape: 0.235857\n",
      "[70]\tvalid_0's mape: 0.233066\n",
      "[71]\tvalid_0's mape: 0.230024\n",
      "[72]\tvalid_0's mape: 0.227945\n",
      "[73]\tvalid_0's mape: 0.225406\n",
      "[74]\tvalid_0's mape: 0.223617\n",
      "[75]\tvalid_0's mape: 0.221804\n",
      "[76]\tvalid_0's mape: 0.220232\n",
      "[77]\tvalid_0's mape: 0.218229\n",
      "[78]\tvalid_0's mape: 0.215248\n",
      "[79]\tvalid_0's mape: 0.213878\n",
      "[80]\tvalid_0's mape: 0.212298\n",
      "[81]\tvalid_0's mape: 0.209613\n",
      "[82]\tvalid_0's mape: 0.207752\n",
      "[83]\tvalid_0's mape: 0.205715\n",
      "[84]\tvalid_0's mape: 0.204105\n",
      "[85]\tvalid_0's mape: 0.202798\n",
      "[86]\tvalid_0's mape: 0.200289\n",
      "[87]\tvalid_0's mape: 0.198578\n",
      "[88]\tvalid_0's mape: 0.197288\n",
      "[89]\tvalid_0's mape: 0.195915\n",
      "[90]\tvalid_0's mape: 0.1943\n",
      "[91]\tvalid_0's mape: 0.192571\n",
      "[92]\tvalid_0's mape: 0.19087\n",
      "[93]\tvalid_0's mape: 0.189503\n",
      "[94]\tvalid_0's mape: 0.188272\n",
      "[95]\tvalid_0's mape: 0.186488\n",
      "[96]\tvalid_0's mape: 0.185521\n",
      "[97]\tvalid_0's mape: 0.184162\n",
      "[98]\tvalid_0's mape: 0.182901\n",
      "[99]\tvalid_0's mape: 0.181651\n",
      "[100]\tvalid_0's mape: 0.180383\n",
      "[101]\tvalid_0's mape: 0.178893\n",
      "[102]\tvalid_0's mape: 0.178032\n",
      "[103]\tvalid_0's mape: 0.177127\n",
      "[104]\tvalid_0's mape: 0.17551\n",
      "[105]\tvalid_0's mape: 0.174648\n",
      "[106]\tvalid_0's mape: 0.17353\n",
      "[107]\tvalid_0's mape: 0.172483\n",
      "[108]\tvalid_0's mape: 0.170917\n",
      "[109]\tvalid_0's mape: 0.170001\n",
      "[110]\tvalid_0's mape: 0.169272\n",
      "[111]\tvalid_0's mape: 0.168406\n",
      "[112]\tvalid_0's mape: 0.167516\n",
      "[113]\tvalid_0's mape: 0.166563\n",
      "[114]\tvalid_0's mape: 0.165893\n",
      "[115]\tvalid_0's mape: 0.164905\n",
      "[116]\tvalid_0's mape: 0.164146\n",
      "[117]\tvalid_0's mape: 0.163291\n",
      "[118]\tvalid_0's mape: 0.162479\n",
      "[119]\tvalid_0's mape: 0.16182\n",
      "[120]\tvalid_0's mape: 0.160888\n",
      "[121]\tvalid_0's mape: 0.160278\n",
      "[122]\tvalid_0's mape: 0.159561\n",
      "[123]\tvalid_0's mape: 0.158896\n",
      "[124]\tvalid_0's mape: 0.158331\n",
      "[125]\tvalid_0's mape: 0.157578\n",
      "[126]\tvalid_0's mape: 0.156805\n",
      "[127]\tvalid_0's mape: 0.156311\n",
      "[128]\tvalid_0's mape: 0.155755\n",
      "[129]\tvalid_0's mape: 0.155264\n",
      "[130]\tvalid_0's mape: 0.154473\n",
      "[131]\tvalid_0's mape: 0.154014\n",
      "[132]\tvalid_0's mape: 0.153401\n",
      "[133]\tvalid_0's mape: 0.15297\n",
      "[134]\tvalid_0's mape: 0.152297\n",
      "[135]\tvalid_0's mape: 0.151763\n",
      "[136]\tvalid_0's mape: 0.151395\n",
      "[137]\tvalid_0's mape: 0.150951\n",
      "[138]\tvalid_0's mape: 0.15033\n",
      "[139]\tvalid_0's mape: 0.149921\n",
      "[140]\tvalid_0's mape: 0.149576\n",
      "[141]\tvalid_0's mape: 0.149139\n",
      "[142]\tvalid_0's mape: 0.148608\n",
      "[143]\tvalid_0's mape: 0.148303\n",
      "[144]\tvalid_0's mape: 0.14789\n",
      "[145]\tvalid_0's mape: 0.14749\n",
      "[146]\tvalid_0's mape: 0.147158\n",
      "[147]\tvalid_0's mape: 0.146833\n",
      "[148]\tvalid_0's mape: 0.146398\n",
      "[149]\tvalid_0's mape: 0.145994\n",
      "[150]\tvalid_0's mape: 0.145702\n",
      "[151]\tvalid_0's mape: 0.145387\n",
      "[152]\tvalid_0's mape: 0.145071\n",
      "[153]\tvalid_0's mape: 0.144801\n",
      "[154]\tvalid_0's mape: 0.144512\n",
      "[155]\tvalid_0's mape: 0.144119\n",
      "[156]\tvalid_0's mape: 0.143854\n",
      "[157]\tvalid_0's mape: 0.143636\n",
      "[158]\tvalid_0's mape: 0.143359\n",
      "[159]\tvalid_0's mape: 0.143112\n",
      "[160]\tvalid_0's mape: 0.142862\n",
      "[161]\tvalid_0's mape: 0.142632\n",
      "[162]\tvalid_0's mape: 0.142351\n",
      "[163]\tvalid_0's mape: 0.14205\n",
      "[164]\tvalid_0's mape: 0.14188\n",
      "[165]\tvalid_0's mape: 0.141672\n",
      "[166]\tvalid_0's mape: 0.141449\n",
      "[167]\tvalid_0's mape: 0.141101\n",
      "[168]\tvalid_0's mape: 0.140849\n",
      "[169]\tvalid_0's mape: 0.140675\n",
      "[170]\tvalid_0's mape: 0.140518\n",
      "[171]\tvalid_0's mape: 0.140312\n",
      "[172]\tvalid_0's mape: 0.140074\n",
      "[173]\tvalid_0's mape: 0.139921\n",
      "[174]\tvalid_0's mape: 0.139724\n",
      "[175]\tvalid_0's mape: 0.139565\n",
      "[176]\tvalid_0's mape: 0.139416\n",
      "[177]\tvalid_0's mape: 0.139277\n",
      "[178]\tvalid_0's mape: 0.139085\n",
      "[179]\tvalid_0's mape: 0.138962\n",
      "[180]\tvalid_0's mape: 0.138808\n",
      "[181]\tvalid_0's mape: 0.138695\n",
      "[182]\tvalid_0's mape: 0.138531\n",
      "[183]\tvalid_0's mape: 0.138431\n",
      "[184]\tvalid_0's mape: 0.138296\n",
      "[185]\tvalid_0's mape: 0.138174\n",
      "[186]\tvalid_0's mape: 0.138043\n",
      "[187]\tvalid_0's mape: 0.137918\n",
      "[188]\tvalid_0's mape: 0.13781\n",
      "[189]\tvalid_0's mape: 0.137706\n",
      "[190]\tvalid_0's mape: 0.137613\n",
      "[191]\tvalid_0's mape: 0.13742\n",
      "[192]\tvalid_0's mape: 0.137349\n",
      "[193]\tvalid_0's mape: 0.137234\n",
      "[194]\tvalid_0's mape: 0.137059\n",
      "[195]\tvalid_0's mape: 0.136976\n",
      "[196]\tvalid_0's mape: 0.136893\n",
      "[197]\tvalid_0's mape: 0.136759\n",
      "[198]\tvalid_0's mape: 0.136672\n",
      "[199]\tvalid_0's mape: 0.136599\n",
      "[200]\tvalid_0's mape: 0.136519\n",
      "[201]\tvalid_0's mape: 0.136373\n",
      "[202]\tvalid_0's mape: 0.136285\n",
      "[203]\tvalid_0's mape: 0.136231\n",
      "[204]\tvalid_0's mape: 0.136144\n",
      "[205]\tvalid_0's mape: 0.136085\n",
      "[206]\tvalid_0's mape: 0.136018\n",
      "[207]\tvalid_0's mape: 0.13597\n",
      "[208]\tvalid_0's mape: 0.135839\n",
      "[209]\tvalid_0's mape: 0.135796\n",
      "[210]\tvalid_0's mape: 0.135741\n",
      "[211]\tvalid_0's mape: 0.135647\n",
      "[212]\tvalid_0's mape: 0.135532\n",
      "[213]\tvalid_0's mape: 0.135497\n",
      "[214]\tvalid_0's mape: 0.135411\n",
      "[215]\tvalid_0's mape: 0.135369\n",
      "[216]\tvalid_0's mape: 0.135297\n",
      "[217]\tvalid_0's mape: 0.135251\n",
      "[218]\tvalid_0's mape: 0.135152\n",
      "[219]\tvalid_0's mape: 0.135097\n",
      "[220]\tvalid_0's mape: 0.135071\n",
      "[221]\tvalid_0's mape: 0.135017\n",
      "[222]\tvalid_0's mape: 0.134958\n",
      "[223]\tvalid_0's mape: 0.134916\n",
      "[224]\tvalid_0's mape: 0.13488\n",
      "[225]\tvalid_0's mape: 0.134803\n",
      "[226]\tvalid_0's mape: 0.134752\n",
      "[227]\tvalid_0's mape: 0.134727\n",
      "[228]\tvalid_0's mape: 0.134671\n",
      "[229]\tvalid_0's mape: 0.134633\n",
      "[230]\tvalid_0's mape: 0.134567\n",
      "[231]\tvalid_0's mape: 0.134523\n",
      "[232]\tvalid_0's mape: 0.13446\n",
      "[233]\tvalid_0's mape: 0.134438\n",
      "[234]\tvalid_0's mape: 0.134417\n",
      "[235]\tvalid_0's mape: 0.134358\n",
      "[236]\tvalid_0's mape: 0.134289\n",
      "[237]\tvalid_0's mape: 0.134271\n",
      "[238]\tvalid_0's mape: 0.13424\n",
      "[239]\tvalid_0's mape: 0.134219\n",
      "[240]\tvalid_0's mape: 0.134193\n",
      "[241]\tvalid_0's mape: 0.134163\n",
      "[242]\tvalid_0's mape: 0.134103\n",
      "[243]\tvalid_0's mape: 0.134072\n",
      "[244]\tvalid_0's mape: 0.134054\n",
      "[245]\tvalid_0's mape: 0.134006\n",
      "[246]\tvalid_0's mape: 0.133981\n",
      "[247]\tvalid_0's mape: 0.133968\n",
      "[248]\tvalid_0's mape: 0.133943\n",
      "[249]\tvalid_0's mape: 0.133928\n",
      "[250]\tvalid_0's mape: 0.133875\n",
      "[251]\tvalid_0's mape: 0.133855\n",
      "[252]\tvalid_0's mape: 0.133841\n",
      "[253]\tvalid_0's mape: 0.133824\n",
      "[254]\tvalid_0's mape: 0.1338\n",
      "[255]\tvalid_0's mape: 0.133752\n",
      "[256]\tvalid_0's mape: 0.13374\n",
      "[257]\tvalid_0's mape: 0.133729\n",
      "[258]\tvalid_0's mape: 0.133693\n",
      "[259]\tvalid_0's mape: 0.133681\n",
      "[260]\tvalid_0's mape: 0.133645\n",
      "[261]\tvalid_0's mape: 0.133632\n",
      "[262]\tvalid_0's mape: 0.133618\n",
      "[263]\tvalid_0's mape: 0.133601\n",
      "[264]\tvalid_0's mape: 0.13359\n",
      "[265]\tvalid_0's mape: 0.133559\n",
      "[266]\tvalid_0's mape: 0.133546\n",
      "[267]\tvalid_0's mape: 0.133526\n",
      "[268]\tvalid_0's mape: 0.133515\n"
     ]
    },
    {
     "name": "stdout",
     "output_type": "stream",
     "text": [
      "[269]\tvalid_0's mape: 0.133472\n",
      "[270]\tvalid_0's mape: 0.133464\n",
      "[271]\tvalid_0's mape: 0.133457\n",
      "[272]\tvalid_0's mape: 0.133422\n",
      "[273]\tvalid_0's mape: 0.133398\n",
      "[274]\tvalid_0's mape: 0.13339\n",
      "[275]\tvalid_0's mape: 0.133383\n",
      "[276]\tvalid_0's mape: 0.133374\n",
      "[277]\tvalid_0's mape: 0.133366\n",
      "[278]\tvalid_0's mape: 0.133358\n",
      "[279]\tvalid_0's mape: 0.133321\n",
      "[280]\tvalid_0's mape: 0.133315\n",
      "[281]\tvalid_0's mape: 0.133302\n",
      "[282]\tvalid_0's mape: 0.133282\n",
      "[283]\tvalid_0's mape: 0.133276\n",
      "[284]\tvalid_0's mape: 0.133257\n",
      "[285]\tvalid_0's mape: 0.133249\n",
      "[286]\tvalid_0's mape: 0.133243\n",
      "[287]\tvalid_0's mape: 0.13321\n",
      "[288]\tvalid_0's mape: 0.133195\n",
      "[289]\tvalid_0's mape: 0.13319\n",
      "[290]\tvalid_0's mape: 0.133185\n",
      "[291]\tvalid_0's mape: 0.133168\n",
      "[292]\tvalid_0's mape: 0.133162\n",
      "[293]\tvalid_0's mape: 0.133156\n",
      "[294]\tvalid_0's mape: 0.133143\n",
      "[295]\tvalid_0's mape: 0.133129\n",
      "[296]\tvalid_0's mape: 0.133114\n",
      "[297]\tvalid_0's mape: 0.133109\n",
      "[298]\tvalid_0's mape: 0.133096\n",
      "[299]\tvalid_0's mape: 0.133079\n",
      "[300]\tvalid_0's mape: 0.133053\n",
      "[301]\tvalid_0's mape: 0.133041\n",
      "[302]\tvalid_0's mape: 0.133029\n",
      "[303]\tvalid_0's mape: 0.133019\n",
      "[304]\tvalid_0's mape: 0.133017\n",
      "[305]\tvalid_0's mape: 0.133012\n",
      "[306]\tvalid_0's mape: 0.132987\n",
      "[307]\tvalid_0's mape: 0.132977\n",
      "[308]\tvalid_0's mape: 0.132967\n",
      "[309]\tvalid_0's mape: 0.132963\n",
      "[310]\tvalid_0's mape: 0.132939\n",
      "[311]\tvalid_0's mape: 0.132931\n",
      "[312]\tvalid_0's mape: 0.132928\n",
      "[313]\tvalid_0's mape: 0.132923\n",
      "[314]\tvalid_0's mape: 0.13292\n",
      "[315]\tvalid_0's mape: 0.132917\n",
      "[316]\tvalid_0's mape: 0.132914\n",
      "[317]\tvalid_0's mape: 0.132911\n",
      "[318]\tvalid_0's mape: 0.132889\n",
      "[319]\tvalid_0's mape: 0.132887\n",
      "[320]\tvalid_0's mape: 0.132882\n",
      "[321]\tvalid_0's mape: 0.132878\n",
      "[322]\tvalid_0's mape: 0.132877\n",
      "[323]\tvalid_0's mape: 0.132874\n",
      "[324]\tvalid_0's mape: 0.132853\n",
      "[325]\tvalid_0's mape: 0.132851\n",
      "[326]\tvalid_0's mape: 0.132848\n",
      "[327]\tvalid_0's mape: 0.132843\n",
      "[328]\tvalid_0's mape: 0.13284\n",
      "[329]\tvalid_0's mape: 0.132839\n",
      "[330]\tvalid_0's mape: 0.132838\n",
      "[331]\tvalid_0's mape: 0.132819\n",
      "[332]\tvalid_0's mape: 0.132817\n",
      "[333]\tvalid_0's mape: 0.132814\n",
      "[334]\tvalid_0's mape: 0.13281\n",
      "[335]\tvalid_0's mape: 0.132808\n",
      "[336]\tvalid_0's mape: 0.132803\n",
      "[337]\tvalid_0's mape: 0.132802\n",
      "[338]\tvalid_0's mape: 0.1328\n",
      "[339]\tvalid_0's mape: 0.132798\n",
      "[340]\tvalid_0's mape: 0.132794\n",
      "[341]\tvalid_0's mape: 0.132793\n",
      "[342]\tvalid_0's mape: 0.132782\n",
      "[343]\tvalid_0's mape: 0.132779\n",
      "[344]\tvalid_0's mape: 0.132777\n",
      "[345]\tvalid_0's mape: 0.132773\n",
      "[346]\tvalid_0's mape: 0.132771\n",
      "[347]\tvalid_0's mape: 0.132759\n",
      "[348]\tvalid_0's mape: 0.132741\n",
      "[349]\tvalid_0's mape: 0.13274\n",
      "[350]\tvalid_0's mape: 0.132735\n",
      "[351]\tvalid_0's mape: 0.132732\n",
      "[352]\tvalid_0's mape: 0.132727\n",
      "[353]\tvalid_0's mape: 0.132725\n",
      "[354]\tvalid_0's mape: 0.132723\n",
      "[355]\tvalid_0's mape: 0.132721\n",
      "[356]\tvalid_0's mape: 0.132718\n",
      "[357]\tvalid_0's mape: 0.132716\n",
      "[358]\tvalid_0's mape: 0.132715\n",
      "[359]\tvalid_0's mape: 0.13271\n",
      "[360]\tvalid_0's mape: 0.132705\n",
      "[361]\tvalid_0's mape: 0.132704\n",
      "[362]\tvalid_0's mape: 0.132689\n",
      "[363]\tvalid_0's mape: 0.132685\n",
      "[364]\tvalid_0's mape: 0.132683\n",
      "[365]\tvalid_0's mape: 0.13268\n",
      "[366]\tvalid_0's mape: 0.132671\n",
      "[367]\tvalid_0's mape: 0.132669\n",
      "[368]\tvalid_0's mape: 0.132667\n",
      "[369]\tvalid_0's mape: 0.132663\n",
      "[370]\tvalid_0's mape: 0.13265\n",
      "[371]\tvalid_0's mape: 0.132646\n",
      "[372]\tvalid_0's mape: 0.132644\n",
      "[373]\tvalid_0's mape: 0.132644\n",
      "[374]\tvalid_0's mape: 0.132637\n",
      "[375]\tvalid_0's mape: 0.132637\n",
      "[376]\tvalid_0's mape: 0.132635\n",
      "[377]\tvalid_0's mape: 0.132631\n",
      "[378]\tvalid_0's mape: 0.132619\n",
      "[379]\tvalid_0's mape: 0.132617\n",
      "[380]\tvalid_0's mape: 0.132614\n",
      "[381]\tvalid_0's mape: 0.132613\n",
      "[382]\tvalid_0's mape: 0.132611\n",
      "[383]\tvalid_0's mape: 0.132599\n",
      "[384]\tvalid_0's mape: 0.132597\n",
      "[385]\tvalid_0's mape: 0.132594\n",
      "[386]\tvalid_0's mape: 0.132593\n",
      "[387]\tvalid_0's mape: 0.132592\n",
      "[388]\tvalid_0's mape: 0.132589\n",
      "[389]\tvalid_0's mape: 0.132586\n",
      "[390]\tvalid_0's mape: 0.132581\n",
      "[391]\tvalid_0's mape: 0.13258\n",
      "[392]\tvalid_0's mape: 0.13258\n",
      "[393]\tvalid_0's mape: 0.132579\n",
      "[394]\tvalid_0's mape: 0.132567\n",
      "[395]\tvalid_0's mape: 0.132565\n",
      "[396]\tvalid_0's mape: 0.132565\n",
      "[397]\tvalid_0's mape: 0.132565\n",
      "[398]\tvalid_0's mape: 0.13256\n",
      "[399]\tvalid_0's mape: 0.13256\n",
      "[400]\tvalid_0's mape: 0.132558\n",
      "[401]\tvalid_0's mape: 0.132555\n",
      "[402]\tvalid_0's mape: 0.132553\n",
      "[403]\tvalid_0's mape: 0.132551\n",
      "[404]\tvalid_0's mape: 0.13255\n",
      "[405]\tvalid_0's mape: 0.132539\n",
      "[406]\tvalid_0's mape: 0.13254\n",
      "[407]\tvalid_0's mape: 0.132539\n",
      "[408]\tvalid_0's mape: 0.132538\n",
      "[409]\tvalid_0's mape: 0.132537\n",
      "[410]\tvalid_0's mape: 0.132537\n",
      "[411]\tvalid_0's mape: 0.132528\n",
      "[412]\tvalid_0's mape: 0.132525\n",
      "[413]\tvalid_0's mape: 0.132523\n",
      "[414]\tvalid_0's mape: 0.132521\n",
      "[415]\tvalid_0's mape: 0.13252\n",
      "[416]\tvalid_0's mape: 0.132519\n",
      "[417]\tvalid_0's mape: 0.132514\n",
      "[418]\tvalid_0's mape: 0.132514\n",
      "[419]\tvalid_0's mape: 0.132513\n",
      "[420]\tvalid_0's mape: 0.132511\n",
      "[421]\tvalid_0's mape: 0.13251\n",
      "[422]\tvalid_0's mape: 0.132509\n",
      "[423]\tvalid_0's mape: 0.132509\n",
      "[424]\tvalid_0's mape: 0.132507\n",
      "[425]\tvalid_0's mape: 0.132506\n",
      "[426]\tvalid_0's mape: 0.132506\n",
      "[427]\tvalid_0's mape: 0.132505\n",
      "[428]\tvalid_0's mape: 0.132505\n",
      "[429]\tvalid_0's mape: 0.132497\n",
      "[430]\tvalid_0's mape: 0.132496\n",
      "[431]\tvalid_0's mape: 0.132495\n",
      "[432]\tvalid_0's mape: 0.132493\n",
      "[433]\tvalid_0's mape: 0.132492\n",
      "[434]\tvalid_0's mape: 0.132491\n",
      "[435]\tvalid_0's mape: 0.13249\n",
      "[436]\tvalid_0's mape: 0.132488\n",
      "[437]\tvalid_0's mape: 0.132486\n",
      "[438]\tvalid_0's mape: 0.132482\n",
      "[439]\tvalid_0's mape: 0.132483\n",
      "[440]\tvalid_0's mape: 0.132482\n",
      "[441]\tvalid_0's mape: 0.132482\n",
      "[442]\tvalid_0's mape: 0.132483\n",
      "[443]\tvalid_0's mape: 0.132481\n",
      "[444]\tvalid_0's mape: 0.13248\n",
      "[445]\tvalid_0's mape: 0.132479\n",
      "[446]\tvalid_0's mape: 0.132476\n",
      "[447]\tvalid_0's mape: 0.132477\n",
      "[448]\tvalid_0's mape: 0.132476\n",
      "[449]\tvalid_0's mape: 0.132475\n",
      "[450]\tvalid_0's mape: 0.132473\n",
      "[451]\tvalid_0's mape: 0.132474\n",
      "[452]\tvalid_0's mape: 0.13247\n",
      "[453]\tvalid_0's mape: 0.132468\n",
      "[454]\tvalid_0's mape: 0.132469\n",
      "[455]\tvalid_0's mape: 0.132467\n",
      "[456]\tvalid_0's mape: 0.132466\n",
      "[457]\tvalid_0's mape: 0.132466\n",
      "[458]\tvalid_0's mape: 0.132466\n",
      "[459]\tvalid_0's mape: 0.132464\n",
      "[460]\tvalid_0's mape: 0.132464\n",
      "[461]\tvalid_0's mape: 0.132465\n",
      "[462]\tvalid_0's mape: 0.132464\n",
      "[463]\tvalid_0's mape: 0.132463\n",
      "[464]\tvalid_0's mape: 0.132461\n",
      "[465]\tvalid_0's mape: 0.132463\n",
      "[466]\tvalid_0's mape: 0.132461\n",
      "[467]\tvalid_0's mape: 0.132461\n",
      "[468]\tvalid_0's mape: 0.13246\n",
      "[469]\tvalid_0's mape: 0.132459\n",
      "[470]\tvalid_0's mape: 0.13246\n",
      "[471]\tvalid_0's mape: 0.13246\n",
      "[472]\tvalid_0's mape: 0.132452\n",
      "[473]\tvalid_0's mape: 0.132453\n",
      "[474]\tvalid_0's mape: 0.132452\n",
      "[475]\tvalid_0's mape: 0.132445\n",
      "[476]\tvalid_0's mape: 0.132445\n",
      "[477]\tvalid_0's mape: 0.132446\n",
      "[478]\tvalid_0's mape: 0.132447\n",
      "[479]\tvalid_0's mape: 0.132445\n",
      "[480]\tvalid_0's mape: 0.132444\n",
      "[481]\tvalid_0's mape: 0.132445\n",
      "[482]\tvalid_0's mape: 0.132444\n",
      "[483]\tvalid_0's mape: 0.132443\n",
      "[484]\tvalid_0's mape: 0.132441\n",
      "[485]\tvalid_0's mape: 0.13244\n",
      "[486]\tvalid_0's mape: 0.13244\n",
      "[487]\tvalid_0's mape: 0.132439\n",
      "[488]\tvalid_0's mape: 0.132438\n",
      "[489]\tvalid_0's mape: 0.132439\n",
      "[490]\tvalid_0's mape: 0.132439\n",
      "[491]\tvalid_0's mape: 0.132439\n",
      "[492]\tvalid_0's mape: 0.132439\n",
      "[493]\tvalid_0's mape: 0.132438\n",
      "[494]\tvalid_0's mape: 0.132439\n",
      "[495]\tvalid_0's mape: 0.13244\n",
      "[496]\tvalid_0's mape: 0.132438\n",
      "[497]\tvalid_0's mape: 0.13244\n",
      "[498]\tvalid_0's mape: 0.132438\n",
      "[499]\tvalid_0's mape: 0.13244\n",
      "[500]\tvalid_0's mape: 0.132439\n",
      "[501]\tvalid_0's mape: 0.13244\n",
      "[502]\tvalid_0's mape: 0.13244\n",
      "[503]\tvalid_0's mape: 0.13244\n",
      "[504]\tvalid_0's mape: 0.13244\n",
      "[505]\tvalid_0's mape: 0.132441\n",
      "[506]\tvalid_0's mape: 0.132443\n",
      "[507]\tvalid_0's mape: 0.132442\n",
      "[508]\tvalid_0's mape: 0.132441\n",
      "[509]\tvalid_0's mape: 0.132441\n",
      "[510]\tvalid_0's mape: 0.132441\n",
      "[511]\tvalid_0's mape: 0.132442\n",
      "[512]\tvalid_0's mape: 0.132443\n",
      "[513]\tvalid_0's mape: 0.132443\n",
      "[514]\tvalid_0's mape: 0.132439\n",
      "[515]\tvalid_0's mape: 0.13244\n",
      "[516]\tvalid_0's mape: 0.132438\n",
      "[517]\tvalid_0's mape: 0.132438\n",
      "[518]\tvalid_0's mape: 0.132438\n",
      "[519]\tvalid_0's mape: 0.132439\n",
      "[520]\tvalid_0's mape: 0.13244\n",
      "[521]\tvalid_0's mape: 0.132439\n",
      "[522]\tvalid_0's mape: 0.132438\n",
      "[523]\tvalid_0's mape: 0.132439\n",
      "[524]\tvalid_0's mape: 0.132438\n",
      "[525]\tvalid_0's mape: 0.132438\n",
      "[526]\tvalid_0's mape: 0.132437\n",
      "[527]\tvalid_0's mape: 0.132437\n",
      "[528]\tvalid_0's mape: 0.132437\n",
      "[529]\tvalid_0's mape: 0.132436\n",
      "[530]\tvalid_0's mape: 0.132437\n",
      "[531]\tvalid_0's mape: 0.132438\n",
      "[532]\tvalid_0's mape: 0.132439\n",
      "[533]\tvalid_0's mape: 0.132439\n",
      "[534]\tvalid_0's mape: 0.13244\n",
      "[535]\tvalid_0's mape: 0.13244\n"
     ]
    },
    {
     "name": "stdout",
     "output_type": "stream",
     "text": [
      "[536]\tvalid_0's mape: 0.132441\n",
      "[537]\tvalid_0's mape: 0.132441\n",
      "[538]\tvalid_0's mape: 0.132442\n",
      "[539]\tvalid_0's mape: 0.132441\n",
      "[540]\tvalid_0's mape: 0.132441\n",
      "[541]\tvalid_0's mape: 0.132441\n",
      "[542]\tvalid_0's mape: 0.132442\n",
      "[543]\tvalid_0's mape: 0.132441\n",
      "[544]\tvalid_0's mape: 0.132441\n",
      "[545]\tvalid_0's mape: 0.132443\n",
      "[546]\tvalid_0's mape: 0.132437\n",
      "[547]\tvalid_0's mape: 0.132436\n",
      "[548]\tvalid_0's mape: 0.132436\n",
      "[549]\tvalid_0's mape: 0.132437\n",
      "[550]\tvalid_0's mape: 0.132438\n",
      "[551]\tvalid_0's mape: 0.132439\n",
      "[552]\tvalid_0's mape: 0.132439\n",
      "[553]\tvalid_0's mape: 0.132435\n",
      "[554]\tvalid_0's mape: 0.132435\n",
      "[555]\tvalid_0's mape: 0.132436\n",
      "[556]\tvalid_0's mape: 0.132436\n",
      "[557]\tvalid_0's mape: 0.132434\n",
      "[558]\tvalid_0's mape: 0.132435\n",
      "[559]\tvalid_0's mape: 0.132433\n",
      "[560]\tvalid_0's mape: 0.132433\n",
      "[561]\tvalid_0's mape: 0.132433\n",
      "[562]\tvalid_0's mape: 0.132433\n",
      "[563]\tvalid_0's mape: 0.132433\n",
      "[564]\tvalid_0's mape: 0.132433\n",
      "[565]\tvalid_0's mape: 0.132431\n",
      "[566]\tvalid_0's mape: 0.132431\n",
      "[567]\tvalid_0's mape: 0.13243\n",
      "[568]\tvalid_0's mape: 0.132431\n",
      "[569]\tvalid_0's mape: 0.132431\n",
      "[570]\tvalid_0's mape: 0.132431\n",
      "[571]\tvalid_0's mape: 0.132433\n",
      "[572]\tvalid_0's mape: 0.132433\n",
      "[573]\tvalid_0's mape: 0.132434\n",
      "[574]\tvalid_0's mape: 0.132431\n",
      "[575]\tvalid_0's mape: 0.132431\n",
      "[576]\tvalid_0's mape: 0.132431\n",
      "[577]\tvalid_0's mape: 0.132432\n",
      "[578]\tvalid_0's mape: 0.132432\n",
      "[579]\tvalid_0's mape: 0.132433\n",
      "[580]\tvalid_0's mape: 0.132432\n",
      "[581]\tvalid_0's mape: 0.132432\n",
      "[582]\tvalid_0's mape: 0.132432\n",
      "[583]\tvalid_0's mape: 0.132433\n",
      "[584]\tvalid_0's mape: 0.132433\n",
      "[585]\tvalid_0's mape: 0.132433\n",
      "[586]\tvalid_0's mape: 0.132434\n",
      "[587]\tvalid_0's mape: 0.132434\n",
      "[588]\tvalid_0's mape: 0.132431\n",
      "[589]\tvalid_0's mape: 0.132433\n",
      "[590]\tvalid_0's mape: 0.132434\n",
      "[591]\tvalid_0's mape: 0.132435\n",
      "[592]\tvalid_0's mape: 0.132436\n",
      "[593]\tvalid_0's mape: 0.132436\n",
      "[594]\tvalid_0's mape: 0.132435\n",
      "[595]\tvalid_0's mape: 0.132436\n",
      "[596]\tvalid_0's mape: 0.132437\n",
      "[597]\tvalid_0's mape: 0.132439\n",
      "Early stopping, best iteration is:\n",
      "[567]\tvalid_0's mape: 0.13243\n"
     ]
    }
   ],
   "source": [
    "gbm = lgb.train(params,\n",
    "            lgb_train,\n",
    "            valid_sets=lgb_eval,\n",
    "            early_stopping_rounds=30)"
   ]
  },
  {
   "cell_type": "code",
   "execution_count": 22,
   "metadata": {
    "collapsed": true
   },
   "outputs": [],
   "source": [
    "y_predict = gbm.predict(valid_X, num_iteration=gbm.best_iteration)"
   ]
  },
  {
   "cell_type": "code",
   "execution_count": 23,
   "metadata": {
    "collapsed": true
   },
   "outputs": [],
   "source": [
    "def mean_absolute_percentage_error(y_true, y_pred):\n",
    "    y_true, y_pred = np.array(y_true), np.array(y_pred)\n",
    "    return np.mean(np.abs((y_true - y_pred) / y_true)) * 100"
   ]
  },
  {
   "cell_type": "code",
   "execution_count": 24,
   "metadata": {
    "collapsed": true
   },
   "outputs": [],
   "source": [
    "from sklearn.metrics import mean_squared_error as mean_squared_error"
   ]
  },
  {
   "cell_type": "code",
   "execution_count": 25,
   "metadata": {},
   "outputs": [
    {
     "name": "stdout",
     "output_type": "stream",
     "text": [
      "13.2430389186\n"
     ]
    }
   ],
   "source": [
    "print(mean_absolute_percentage_error(valid_y, y_predict))\n",
    "\n",
    "# 13.2430389186"
   ]
  },
  {
   "cell_type": "code",
   "execution_count": 26,
   "metadata": {},
   "outputs": [
    {
     "data": {
      "text/plain": [
       "<matplotlib.axes._subplots.AxesSubplot at 0x7fbd4da749b0>"
      ]
     },
     "execution_count": 26,
     "metadata": {},
     "output_type": "execute_result"
    },
    {
     "data": {
      "image/png": "[encoded data removed]",
      "text/plain": [
       "<Figure size 432x288 with 1 Axes>"
      ]
     },
     "metadata": {},
     "output_type": "display_data"
    }
   ],
   "source": [
    "pd.Series(y_predict.flatten()).hist()"
   ]
  },
  {
   "cell_type": "markdown",
   "metadata": {},
   "source": [
    "# Importance"
   ]
  },
  {
   "cell_type": "markdown",
   "metadata": {},
   "source": [
    "# Criar CSV para submissão"
   ]
  },
  {
   "cell_type": "code",
   "execution_count": 27,
   "metadata": {
    "collapsed": true
   },
   "outputs": [],
   "source": [
    "y_predict = gbm.predict(test_f_df.as_matrix(), num_iteration=gbm.best_iteration)"
   ]
  },
  {
   "cell_type": "code",
   "execution_count": 28,
   "metadata": {},
   "outputs": [
    {
     "data": {
      "text/html": [
       "<div>\n",
       "<style>\n",
       "    .dataframe thead tr:only-child th {\n",
       "        text-align: right;\n",
       "    }\n",
       "\n",
       "    .dataframe thead th {\n",
       "        text-align: left;\n",
       "    }\n",
       "\n",
       "    .dataframe tbody tr th {\n",
       "        vertical-align: top;\n",
       "    }\n",
       "</style>\n",
       "<table border=\"1\" class=\"dataframe\">\n",
       "  <thead>\n",
       "    <tr style=\"text-align: right;\">\n",
       "      <th></th>\n",
       "      <th>id</th>\n",
       "      <th>sales</th>\n",
       "    </tr>\n",
       "  </thead>\n",
       "  <tbody>\n",
       "    <tr>\n",
       "      <th>0</th>\n",
       "      <td>0</td>\n",
       "      <td>12.350178</td>\n",
       "    </tr>\n",
       "    <tr>\n",
       "      <th>1</th>\n",
       "      <td>1</td>\n",
       "      <td>13.885272</td>\n",
       "    </tr>\n",
       "    <tr>\n",
       "      <th>2</th>\n",
       "      <td>2</td>\n",
       "      <td>14.131689</td>\n",
       "    </tr>\n",
       "    <tr>\n",
       "      <th>3</th>\n",
       "      <td>3</td>\n",
       "      <td>14.991447</td>\n",
       "    </tr>\n",
       "    <tr>\n",
       "      <th>4</th>\n",
       "      <td>4</td>\n",
       "      <td>16.254223</td>\n",
       "    </tr>\n",
       "  </tbody>\n",
       "</table>\n",
       "</div>"
      ],
      "text/plain": [
       "   id      sales\n",
       "0   0  12.350178\n",
       "1   1  13.885272\n",
       "2   2  14.131689\n",
       "3   3  14.991447\n",
       "4   4  16.254223"
      ]
     },
     "execution_count": 28,
     "metadata": {},
     "output_type": "execute_result"
    }
   ],
   "source": [
    "sample_submission_df = pd.DataFrame()\n",
    "\n",
    "sample_submission_df['id'] = test_df['id'].astype(int)\n",
    "sample_submission_df['sales'] = y_predict\n",
    "sample_submission_df.head()"
   ]
  },
  {
   "cell_type": "code",
   "execution_count": 29,
   "metadata": {},
   "outputs": [
    {
     "data": {
      "text/plain": [
       "<matplotlib.axes._subplots.AxesSubplot at 0x7fbd4da4e940>"
      ]
     },
     "execution_count": 29,
     "metadata": {},
     "output_type": "execute_result"
    },
    {
     "data": {
      "image/png": "[encoded data removed]",
      "text/plain": [
       "<Figure size 432x288 with 1 Axes>"
      ]
     },
     "metadata": {},
     "output_type": "display_data"
    }
   ],
   "source": [
    "sample_submission_df['sales'].hist(bins = 50)"
   ]
  },
  {
   "cell_type": "code",
   "execution_count": 30,
   "metadata": {
    "collapsed": true
   },
   "outputs": [],
   "source": [
    "sample_submission_df.to_csv('submission.csv', index=False)"
   ]
  },
  {
   "cell_type": "code",
   "execution_count": null,
   "metadata": {
    "collapsed": true
   },
   "outputs": [],
   "source": []
  },
  {
   "cell_type": "code",
   "execution_count": null,
   "metadata": {
    "collapsed": true
   },
   "outputs": [],
   "source": []
  }
 ],
 "metadata": {
  "_change_revision": 36,
  "_is_fork": false,
  "kernelspec": {
   "display_name": "Python 3",
   "language": "python",
   "name": "python3"
  },
  "language_info": {
   "codemirror_mode": {
    "name": "ipython",
    "version": 3
   },
   "file_extension": ".py",
   "mimetype": "text/x-python",
   "name": "python",
   "nbconvert_exporter": "python",
   "pygments_lexer": "ipython3",
   "version": "3.6.3"
  }
 },
 "nbformat": 4,
 "nbformat_minor": 1
}
